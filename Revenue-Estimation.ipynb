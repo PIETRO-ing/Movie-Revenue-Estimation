{
 "cells": [
  {
   "cell_type": "markdown",
   "metadata": {},
   "source": [
    "# Introduction\n",
    "\n",
    "Do higher film budgets lead to more box office revenue? Let's find out if there's a relationship using the movie budgets and financial performance data that scraped from [the-numbers.com](https://www.the-numbers.com/movie/budgets) on **May 1st, 2018**. \n",
    "\n",
    "<img src=https://i.imgur.com/kq7hrEh.png>"
   ]
  },
  {
   "cell_type": "markdown",
   "metadata": {},
   "source": [
    "# Import"
   ]
  },
  {
   "cell_type": "code",
   "execution_count": 25,
   "metadata": {},
   "outputs": [],
   "source": [
    "import pandas as pd\n",
    "import numpy as np\n",
    "import matplotlib.pyplot as plt\n",
    "import missingno as msno"
   ]
  },
  {
   "cell_type": "markdown",
   "metadata": {},
   "source": [
    "# Read the Data"
   ]
  },
  {
   "cell_type": "code",
   "execution_count": 2,
   "metadata": {},
   "outputs": [
    {
     "data": {
      "text/html": [
       "<div>\n",
       "<style scoped>\n",
       "    .dataframe tbody tr th:only-of-type {\n",
       "        vertical-align: middle;\n",
       "    }\n",
       "\n",
       "    .dataframe tbody tr th {\n",
       "        vertical-align: top;\n",
       "    }\n",
       "\n",
       "    .dataframe thead th {\n",
       "        text-align: right;\n",
       "    }\n",
       "</style>\n",
       "<table border=\"1\" class=\"dataframe\">\n",
       "  <thead>\n",
       "    <tr style=\"text-align: right;\">\n",
       "      <th></th>\n",
       "      <th>Rank</th>\n",
       "      <th>Release_Date</th>\n",
       "      <th>Movie_Title</th>\n",
       "      <th>USD_Production_Budget</th>\n",
       "      <th>USD_Worldwide_Gross</th>\n",
       "      <th>USD_Domestic_Gross</th>\n",
       "    </tr>\n",
       "  </thead>\n",
       "  <tbody>\n",
       "    <tr>\n",
       "      <th>0</th>\n",
       "      <td>5293</td>\n",
       "      <td>8/2/1915</td>\n",
       "      <td>The Birth of a Nation</td>\n",
       "      <td>$110,000</td>\n",
       "      <td>$11,000,000</td>\n",
       "      <td>$10,000,000</td>\n",
       "    </tr>\n",
       "    <tr>\n",
       "      <th>1</th>\n",
       "      <td>5140</td>\n",
       "      <td>5/9/1916</td>\n",
       "      <td>Intolerance</td>\n",
       "      <td>$385,907</td>\n",
       "      <td>$0</td>\n",
       "      <td>$0</td>\n",
       "    </tr>\n",
       "    <tr>\n",
       "      <th>2</th>\n",
       "      <td>5230</td>\n",
       "      <td>12/24/1916</td>\n",
       "      <td>20,000 Leagues Under the Sea</td>\n",
       "      <td>$200,000</td>\n",
       "      <td>$8,000,000</td>\n",
       "      <td>$8,000,000</td>\n",
       "    </tr>\n",
       "    <tr>\n",
       "      <th>3</th>\n",
       "      <td>5299</td>\n",
       "      <td>9/17/1920</td>\n",
       "      <td>Over the Hill to the Poorhouse</td>\n",
       "      <td>$100,000</td>\n",
       "      <td>$3,000,000</td>\n",
       "      <td>$3,000,000</td>\n",
       "    </tr>\n",
       "    <tr>\n",
       "      <th>4</th>\n",
       "      <td>5222</td>\n",
       "      <td>1/1/1925</td>\n",
       "      <td>The Big Parade</td>\n",
       "      <td>$245,000</td>\n",
       "      <td>$22,000,000</td>\n",
       "      <td>$11,000,000</td>\n",
       "    </tr>\n",
       "    <tr>\n",
       "      <th>...</th>\n",
       "      <td>...</td>\n",
       "      <td>...</td>\n",
       "      <td>...</td>\n",
       "      <td>...</td>\n",
       "      <td>...</td>\n",
       "      <td>...</td>\n",
       "    </tr>\n",
       "    <tr>\n",
       "      <th>5386</th>\n",
       "      <td>2950</td>\n",
       "      <td>10/8/2018</td>\n",
       "      <td>Meg</td>\n",
       "      <td>$15,000,000</td>\n",
       "      <td>$0</td>\n",
       "      <td>$0</td>\n",
       "    </tr>\n",
       "    <tr>\n",
       "      <th>5387</th>\n",
       "      <td>126</td>\n",
       "      <td>12/18/2018</td>\n",
       "      <td>Aquaman</td>\n",
       "      <td>$160,000,000</td>\n",
       "      <td>$0</td>\n",
       "      <td>$0</td>\n",
       "    </tr>\n",
       "    <tr>\n",
       "      <th>5388</th>\n",
       "      <td>96</td>\n",
       "      <td>12/31/2020</td>\n",
       "      <td>Singularity</td>\n",
       "      <td>$175,000,000</td>\n",
       "      <td>$0</td>\n",
       "      <td>$0</td>\n",
       "    </tr>\n",
       "    <tr>\n",
       "      <th>5389</th>\n",
       "      <td>1119</td>\n",
       "      <td>12/31/2020</td>\n",
       "      <td>Hannibal the Conqueror</td>\n",
       "      <td>$50,000,000</td>\n",
       "      <td>$0</td>\n",
       "      <td>$0</td>\n",
       "    </tr>\n",
       "    <tr>\n",
       "      <th>5390</th>\n",
       "      <td>2517</td>\n",
       "      <td>12/31/2020</td>\n",
       "      <td>Story of Bonnie and Clyde, The</td>\n",
       "      <td>$20,000,000</td>\n",
       "      <td>$0</td>\n",
       "      <td>$0</td>\n",
       "    </tr>\n",
       "  </tbody>\n",
       "</table>\n",
       "<p>5391 rows × 6 columns</p>\n",
       "</div>"
      ],
      "text/plain": [
       "      Rank Release_Date                     Movie_Title USD_Production_Budget  \\\n",
       "0     5293     8/2/1915           The Birth of a Nation              $110,000   \n",
       "1     5140     5/9/1916                     Intolerance              $385,907   \n",
       "2     5230   12/24/1916    20,000 Leagues Under the Sea              $200,000   \n",
       "3     5299    9/17/1920  Over the Hill to the Poorhouse              $100,000   \n",
       "4     5222     1/1/1925                  The Big Parade              $245,000   \n",
       "...    ...          ...                             ...                   ...   \n",
       "5386  2950    10/8/2018                             Meg           $15,000,000   \n",
       "5387   126   12/18/2018                         Aquaman          $160,000,000   \n",
       "5388    96   12/31/2020                     Singularity          $175,000,000   \n",
       "5389  1119   12/31/2020          Hannibal the Conqueror           $50,000,000   \n",
       "5390  2517   12/31/2020  Story of Bonnie and Clyde, The           $20,000,000   \n",
       "\n",
       "     USD_Worldwide_Gross USD_Domestic_Gross  \n",
       "0            $11,000,000        $10,000,000  \n",
       "1                     $0                 $0  \n",
       "2             $8,000,000         $8,000,000  \n",
       "3             $3,000,000         $3,000,000  \n",
       "4            $22,000,000        $11,000,000  \n",
       "...                  ...                ...  \n",
       "5386                  $0                 $0  \n",
       "5387                  $0                 $0  \n",
       "5388                  $0                 $0  \n",
       "5389                  $0                 $0  \n",
       "5390                  $0                 $0  \n",
       "\n",
       "[5391 rows x 6 columns]"
      ]
     },
     "execution_count": 2,
     "metadata": {},
     "output_type": "execute_result"
    }
   ],
   "source": [
    "df = pd.read_csv('cost_revenue_dirty.csv')\n",
    "df"
   ]
  },
  {
   "cell_type": "code",
   "execution_count": 3,
   "metadata": {},
   "outputs": [
    {
     "data": {
      "text/html": [
       "<div>\n",
       "<style scoped>\n",
       "    .dataframe tbody tr th:only-of-type {\n",
       "        vertical-align: middle;\n",
       "    }\n",
       "\n",
       "    .dataframe tbody tr th {\n",
       "        vertical-align: top;\n",
       "    }\n",
       "\n",
       "    .dataframe thead th {\n",
       "        text-align: right;\n",
       "    }\n",
       "</style>\n",
       "<table border=\"1\" class=\"dataframe\">\n",
       "  <thead>\n",
       "    <tr style=\"text-align: right;\">\n",
       "      <th></th>\n",
       "      <th>Rank</th>\n",
       "      <th>Release_Date</th>\n",
       "      <th>Movie_Title</th>\n",
       "      <th>USD_Production_Budget</th>\n",
       "      <th>USD_Worldwide_Gross</th>\n",
       "      <th>USD_Domestic_Gross</th>\n",
       "    </tr>\n",
       "  </thead>\n",
       "  <tbody>\n",
       "    <tr>\n",
       "      <th>593</th>\n",
       "      <td>5363</td>\n",
       "      <td>1/8/1991</td>\n",
       "      <td>Slacker</td>\n",
       "      <td>$23,000</td>\n",
       "      <td>$1,227,508</td>\n",
       "      <td>$1,227,508</td>\n",
       "    </tr>\n",
       "    <tr>\n",
       "      <th>2187</th>\n",
       "      <td>3580</td>\n",
       "      <td>2/27/2004</td>\n",
       "      <td>Club Dread</td>\n",
       "      <td>$8,500,000</td>\n",
       "      <td>$7,573,551</td>\n",
       "      <td>$5,001,655</td>\n",
       "    </tr>\n",
       "    <tr>\n",
       "      <th>2836</th>\n",
       "      <td>1270</td>\n",
       "      <td>12/31/2006</td>\n",
       "      <td>Les Bronzés 3: amis pour la vie</td>\n",
       "      <td>$42,000,000</td>\n",
       "      <td>$83,833,602</td>\n",
       "      <td>$0</td>\n",
       "    </tr>\n",
       "    <tr>\n",
       "      <th>271</th>\n",
       "      <td>4264</td>\n",
       "      <td>4/7/1980</td>\n",
       "      <td>Airplane!</td>\n",
       "      <td>$3,500,000</td>\n",
       "      <td>$83,453,539</td>\n",
       "      <td>$83,453,539</td>\n",
       "    </tr>\n",
       "    <tr>\n",
       "      <th>2156</th>\n",
       "      <td>5365</td>\n",
       "      <td>12/31/2003</td>\n",
       "      <td>Flywheel</td>\n",
       "      <td>$20,000</td>\n",
       "      <td>$0</td>\n",
       "      <td>$0</td>\n",
       "    </tr>\n",
       "  </tbody>\n",
       "</table>\n",
       "</div>"
      ],
      "text/plain": [
       "      Rank Release_Date                      Movie_Title  \\\n",
       "593   5363     1/8/1991                          Slacker   \n",
       "2187  3580    2/27/2004                       Club Dread   \n",
       "2836  1270   12/31/2006  Les Bronzés 3: amis pour la vie   \n",
       "271   4264     4/7/1980                        Airplane!   \n",
       "2156  5365   12/31/2003                         Flywheel   \n",
       "\n",
       "     USD_Production_Budget USD_Worldwide_Gross USD_Domestic_Gross  \n",
       "593                $23,000          $1,227,508         $1,227,508  \n",
       "2187            $8,500,000          $7,573,551         $5,001,655  \n",
       "2836           $42,000,000         $83,833,602                 $0  \n",
       "271             $3,500,000         $83,453,539        $83,453,539  \n",
       "2156               $20,000                  $0                 $0  "
      ]
     },
     "execution_count": 3,
     "metadata": {},
     "output_type": "execute_result"
    }
   ],
   "source": [
    "df.sample(5)"
   ]
  },
  {
   "cell_type": "markdown",
   "metadata": {},
   "source": [
    "# Explore and Clean the Data"
   ]
  },
  {
   "cell_type": "markdown",
   "metadata": {},
   "source": [
    "    How many rows and columns does the dataset contain?\n",
    "\n",
    "    Are there any NaN values present?\n",
    "\n",
    "    Are there any duplicate rows?\n",
    "\n",
    "    What are the data types of the columns?"
   ]
  },
  {
   "cell_type": "code",
   "execution_count": 4,
   "metadata": {},
   "outputs": [
    {
     "name": "stdout",
     "output_type": "stream",
     "text": [
      "<class 'pandas.core.frame.DataFrame'>\n",
      "RangeIndex: 5391 entries, 0 to 5390\n",
      "Data columns (total 6 columns):\n",
      " #   Column                 Non-Null Count  Dtype \n",
      "---  ------                 --------------  ----- \n",
      " 0   Rank                   5391 non-null   int64 \n",
      " 1   Release_Date           5391 non-null   object\n",
      " 2   Movie_Title            5391 non-null   object\n",
      " 3   USD_Production_Budget  5391 non-null   object\n",
      " 4   USD_Worldwide_Gross    5391 non-null   object\n",
      " 5   USD_Domestic_Gross     5391 non-null   object\n",
      "dtypes: int64(1), object(5)\n",
      "memory usage: 252.8+ KB\n"
     ]
    }
   ],
   "source": [
    "df.info()"
   ]
  },
  {
   "cell_type": "code",
   "execution_count": 5,
   "metadata": {},
   "outputs": [
    {
     "data": {
      "text/plain": [
       "(5391, 6)"
      ]
     },
     "execution_count": 5,
     "metadata": {},
     "output_type": "execute_result"
    }
   ],
   "source": [
    "df.shape"
   ]
  },
  {
   "cell_type": "code",
   "execution_count": 6,
   "metadata": {},
   "outputs": [
    {
     "data": {
      "text/plain": [
       "Index(['Rank', 'Release_Date', 'Movie_Title', 'USD_Production_Budget',\n",
       "       'USD_Worldwide_Gross', 'USD_Domestic_Gross'],\n",
       "      dtype='object')"
      ]
     },
     "execution_count": 6,
     "metadata": {},
     "output_type": "execute_result"
    }
   ],
   "source": [
    "df.columns"
   ]
  },
  {
   "cell_type": "markdown",
   "metadata": {},
   "source": [
    "- Check is there are missing values"
   ]
  },
  {
   "cell_type": "code",
   "execution_count": 7,
   "metadata": {},
   "outputs": [
    {
     "data": {
      "text/plain": [
       "<AxesSubplot:>"
      ]
     },
     "execution_count": 7,
     "metadata": {},
     "output_type": "execute_result"
    },
    {
     "data": {
      "image/png": "[encoded data removed]",
      "text/plain": [
       "<Figure size 1800x720 with 2 Axes>"
      ]
     },
     "metadata": {
      "needs_background": "light"
     },
     "output_type": "display_data"
    }
   ],
   "source": [
    "msno.matrix(df)"
   ]
  },
  {
   "cell_type": "code",
   "execution_count": 8,
   "metadata": {},
   "outputs": [
    {
     "data": {
      "text/plain": [
       "Rank                     5391\n",
       "Release_Date             5391\n",
       "Movie_Title              5391\n",
       "USD_Production_Budget    5391\n",
       "USD_Worldwide_Gross      5391\n",
       "USD_Domestic_Gross       5391\n",
       "dtype: int64"
      ]
     },
     "execution_count": 8,
     "metadata": {},
     "output_type": "execute_result"
    }
   ],
   "source": [
    "df.count()"
   ]
  },
  {
   "cell_type": "code",
   "execution_count": 9,
   "metadata": {},
   "outputs": [
    {
     "data": {
      "text/plain": [
       "Rank                     0\n",
       "Release_Date             0\n",
       "Movie_Title              0\n",
       "USD_Production_Budget    0\n",
       "USD_Worldwide_Gross      0\n",
       "USD_Domestic_Gross       0\n",
       "dtype: int64"
      ]
     },
     "execution_count": 9,
     "metadata": {},
     "output_type": "execute_result"
    }
   ],
   "source": [
    "df.isna().sum()"
   ]
  },
  {
   "cell_type": "markdown",
   "metadata": {},
   "source": [
    "- Are there duplicates? If Yes, how many?"
   ]
  },
  {
   "cell_type": "code",
   "execution_count": 10,
   "metadata": {},
   "outputs": [
    {
     "data": {
      "text/plain": [
       "0"
      ]
     },
     "execution_count": 10,
     "metadata": {},
     "output_type": "execute_result"
    }
   ],
   "source": [
    "df.duplicated().sum()"
   ]
  },
  {
   "cell_type": "code",
   "execution_count": 11,
   "metadata": {},
   "outputs": [
    {
     "data": {
      "text/html": [
       "<div>\n",
       "<style scoped>\n",
       "    .dataframe tbody tr th:only-of-type {\n",
       "        vertical-align: middle;\n",
       "    }\n",
       "\n",
       "    .dataframe tbody tr th {\n",
       "        vertical-align: top;\n",
       "    }\n",
       "\n",
       "    .dataframe thead th {\n",
       "        text-align: right;\n",
       "    }\n",
       "</style>\n",
       "<table border=\"1\" class=\"dataframe\">\n",
       "  <thead>\n",
       "    <tr style=\"text-align: right;\">\n",
       "      <th></th>\n",
       "      <th>Rank</th>\n",
       "      <th>Release_Date</th>\n",
       "      <th>Movie_Title</th>\n",
       "      <th>USD_Production_Budget</th>\n",
       "      <th>USD_Worldwide_Gross</th>\n",
       "      <th>USD_Domestic_Gross</th>\n",
       "    </tr>\n",
       "  </thead>\n",
       "  <tbody>\n",
       "  </tbody>\n",
       "</table>\n",
       "</div>"
      ],
      "text/plain": [
       "Empty DataFrame\n",
       "Columns: [Rank, Release_Date, Movie_Title, USD_Production_Budget, USD_Worldwide_Gross, USD_Domestic_Gross]\n",
       "Index: []"
      ]
     },
     "execution_count": 11,
     "metadata": {},
     "output_type": "execute_result"
    }
   ],
   "source": [
    "df[df.duplicated()]"
   ]
  },
  {
   "cell_type": "markdown",
   "metadata": {},
   "source": [
    "    Convert the USD_Production_Budget, USD_Worldwide_Gross, and USD_Domestic_Gross columns to a numeric format by removing $ signs and ,.\n",
    "\n",
    "    Note that domestic in this context refers to the United States."
   ]
  },
  {
   "cell_type": "code",
   "execution_count": 12,
   "metadata": {},
   "outputs": [
    {
     "data": {
      "text/html": [
       "<div>\n",
       "<style scoped>\n",
       "    .dataframe tbody tr th:only-of-type {\n",
       "        vertical-align: middle;\n",
       "    }\n",
       "\n",
       "    .dataframe tbody tr th {\n",
       "        vertical-align: top;\n",
       "    }\n",
       "\n",
       "    .dataframe thead th {\n",
       "        text-align: right;\n",
       "    }\n",
       "</style>\n",
       "<table border=\"1\" class=\"dataframe\">\n",
       "  <thead>\n",
       "    <tr style=\"text-align: right;\">\n",
       "      <th></th>\n",
       "      <th>Rank</th>\n",
       "      <th>Release_Date</th>\n",
       "      <th>Movie_Title</th>\n",
       "      <th>USD_Production_Budget</th>\n",
       "      <th>USD_Worldwide_Gross</th>\n",
       "      <th>USD_Domestic_Gross</th>\n",
       "    </tr>\n",
       "  </thead>\n",
       "  <tbody>\n",
       "    <tr>\n",
       "      <th>2174</th>\n",
       "      <td>815</td>\n",
       "      <td>2/4/2004</td>\n",
       "      <td>Hellboy</td>\n",
       "      <td>$60,000,000</td>\n",
       "      <td>$99,823,958</td>\n",
       "      <td>$59,623,958</td>\n",
       "    </tr>\n",
       "    <tr>\n",
       "      <th>5329</th>\n",
       "      <td>229</td>\n",
       "      <td>3/3/2017</td>\n",
       "      <td>Logan</td>\n",
       "      <td>$127,000,000</td>\n",
       "      <td>$615,577,068</td>\n",
       "      <td>$226,277,068</td>\n",
       "    </tr>\n",
       "    <tr>\n",
       "      <th>3133</th>\n",
       "      <td>1820</td>\n",
       "      <td>4/18/2008</td>\n",
       "      <td>88 Minutes</td>\n",
       "      <td>$30,000,000</td>\n",
       "      <td>$32,955,399</td>\n",
       "      <td>$16,930,884</td>\n",
       "    </tr>\n",
       "    <tr>\n",
       "      <th>4362</th>\n",
       "      <td>2366</td>\n",
       "      <td>4/1/2013</td>\n",
       "      <td>Texas Chainsaw 3D</td>\n",
       "      <td>$20,000,000</td>\n",
       "      <td>$47,666,013</td>\n",
       "      <td>$34,341,945</td>\n",
       "    </tr>\n",
       "    <tr>\n",
       "      <th>4690</th>\n",
       "      <td>5083</td>\n",
       "      <td>10/9/2014</td>\n",
       "      <td>Born to Fly: Elizabeth Streb vs. Gravity</td>\n",
       "      <td>$500,000</td>\n",
       "      <td>$1,822</td>\n",
       "      <td>$1,822</td>\n",
       "    </tr>\n",
       "  </tbody>\n",
       "</table>\n",
       "</div>"
      ],
      "text/plain": [
       "      Rank Release_Date                               Movie_Title  \\\n",
       "2174   815     2/4/2004                                   Hellboy   \n",
       "5329   229     3/3/2017                                     Logan   \n",
       "3133  1820    4/18/2008                                88 Minutes   \n",
       "4362  2366     4/1/2013                         Texas Chainsaw 3D   \n",
       "4690  5083    10/9/2014  Born to Fly: Elizabeth Streb vs. Gravity   \n",
       "\n",
       "     USD_Production_Budget USD_Worldwide_Gross USD_Domestic_Gross  \n",
       "2174           $60,000,000         $99,823,958        $59,623,958  \n",
       "5329          $127,000,000        $615,577,068       $226,277,068  \n",
       "3133           $30,000,000         $32,955,399        $16,930,884  \n",
       "4362           $20,000,000         $47,666,013        $34,341,945  \n",
       "4690              $500,000              $1,822             $1,822  "
      ]
     },
     "execution_count": 12,
     "metadata": {},
     "output_type": "execute_result"
    }
   ],
   "source": [
    "df.sample(5)"
   ]
  },
  {
   "cell_type": "markdown",
   "metadata": {},
   "source": [
    "- Remove '$', ',' and convert to numeric"
   ]
  },
  {
   "cell_type": "code",
   "execution_count": 13,
   "metadata": {},
   "outputs": [
    {
     "data": {
      "text/plain": [
       "0           $110,000\n",
       "1           $385,907\n",
       "2           $200,000\n",
       "3           $100,000\n",
       "4           $245,000\n",
       "            ...     \n",
       "5386     $15,000,000\n",
       "5387    $160,000,000\n",
       "5388    $175,000,000\n",
       "5389     $50,000,000\n",
       "5390     $20,000,000\n",
       "Name: USD_Production_Budget, Length: 5391, dtype: object"
      ]
     },
     "execution_count": 13,
     "metadata": {},
     "output_type": "execute_result"
    }
   ],
   "source": [
    "# df['USD_Production_Budget'] = df['USD_Production_Budget'].replace('$','')\n",
    "# df['USD_Production_Budget']"
   ]
  },
  {
   "cell_type": "code",
   "execution_count": 14,
   "metadata": {},
   "outputs": [],
   "source": [
    "# first_el = df.iloc[0]['USD_Production_Budget']"
   ]
  },
  {
   "cell_type": "code",
   "execution_count": 15,
   "metadata": {},
   "outputs": [
    {
     "data": {
      "text/plain": [
       "'$110,000'"
      ]
     },
     "execution_count": 15,
     "metadata": {},
     "output_type": "execute_result"
    }
   ],
   "source": [
    "# first_el"
   ]
  },
  {
   "cell_type": "code",
   "execution_count": 16,
   "metadata": {},
   "outputs": [
    {
     "data": {
      "text/plain": [
       "str"
      ]
     },
     "execution_count": 16,
     "metadata": {},
     "output_type": "execute_result"
    }
   ],
   "source": [
    "# type(first_el)"
   ]
  },
  {
   "cell_type": "code",
   "execution_count": 17,
   "metadata": {},
   "outputs": [
    {
     "data": {
      "text/plain": [
       "'110000'"
      ]
     },
     "execution_count": 17,
     "metadata": {},
     "output_type": "execute_result"
    }
   ],
   "source": [
    "# first_el.replace('$','').replace(',','')"
   ]
  },
  {
   "cell_type": "code",
   "execution_count": 18,
   "metadata": {},
   "outputs": [
    {
     "data": {
      "text/plain": [
       "'$110,000'"
      ]
     },
     "execution_count": 18,
     "metadata": {},
     "output_type": "execute_result"
    }
   ],
   "source": [
    "# ch = ['$',',']\n",
    "\n",
    "# for el in ch:\n",
    "#     if el in first_el:\n",
    "#         first_el.replace(el,'')\n",
    "        \n",
    "# first_el"
   ]
  },
  {
   "cell_type": "code",
   "execution_count": 19,
   "metadata": {},
   "outputs": [],
   "source": [
    "# def cleaning(text):\n",
    "#     ch = ['$',',']\n",
    "#     for el in ch:\n",
    "#         if el in text:\n",
    "#              text=text.replace(el,'')\n",
    "#     return text\n"
   ]
  },
  {
   "cell_type": "code",
   "execution_count": 20,
   "metadata": {},
   "outputs": [],
   "source": [
    "repl = df[['USD_Production_Budget','USD_Worldwide_Gross']]"
   ]
  },
  {
   "cell_type": "code",
   "execution_count": 33,
   "metadata": {},
   "outputs": [
    {
     "name": "stdout",
     "output_type": "stream",
     "text": [
      "['110000', '385907', '200000', '100000', '245000', '3900000', '2000000', '379000', '4000000', '558000', '672000', '200000', '439000', '325000', '609000', '1500000', '1300000', '1200000', '1488000', '2000000', '1644000', '1500000', '2777000', '3900000', '2000000', '1288000', '2280000', '1250000', '858000', '134000', '1039000', '2627000', '2361000', '5200000', '2160000', '1250000', '1500000', '3180000', '2000000', '2100000', '6000000', '2000000', '3700000', '3000000', '1600000', '1000000', '2900000', '3768785', '8250000', '1200000', '3000000', '1800000', '2300000', '730000', '4000000', '2540000', '1250000', '4000000', '1650000', '210000', '5000000', '658000', '5000000', '910000', '5000000', '1200000', '1577000', '6000000', '4500000', '4000000', '1000000', '3380000', '13500000', '6000000', '500000', '2660000', '1200000', '5000000', '340000', '3000000', '3000000', '5000000', '3500000', '2883848', '15000000', '4000000', '3000000', '3000000', '12000000', '12000000', '4000000', '3000000', '2900000', '2000000', '6000000', '3200000', '2000000', '10000000', '19000000', '4500000', '15000000', '2000000', '17000000', '2686000', '2500000', '1000000', '9400000', '1000000', '4000000', '42000000', '19000000', '1800000', '2000000', '6000000', '17000000', '560000', '3000000', '8200000', '20000000', '5800000', '3800000', '11000000', '9000000', '3500000', '3000000', '15000000', '3900000', '3500000', '200000', '2000000', '12000000', '9500000', '600000', '1200000', '1455000', '114000', '10500000', '1800000', '747000', '5800000', '9000000', '10000000', '3200000', '20000000', '3600000', '5000000', '6000000', '200000', '20000000', '6000000', '24000000', '8000000', '4000000', '25000000', '22000000', '12000000', '11000000', '3500000', '1000000', '600000', '3716946', '3000000', '18000000', '25000000', '9000000', '6500000', '2500000', '150000', '2000000', '3000000', '2200000', '7200000', '1700000', '7000000', '3500000', '25000', '87000', '4000000', '2000000', '1800000', '4638783', '7000000', '5500000', '777000', '2000000', '5500000', '12000000', '2600000', '7000000', '1600000', '140000', '13000000', '500000', '2800000', '14000000', '4000000', '7000000', '11000000', '300000', '5000000', '12000000', '1200000', '400000', '3000000', '4400000', '7000000', '3800000', '1200000', '4400000', '2800000', '1000000', '3000000', '5000000', '1800000', '1000000', '23000000', '500000', '100000', '10000000', '4000000', '7000000', '11000000', '26000000', '14000000', '14000000', '21600000', '14000000', '600000', '17000000', '20000000', '3400000', '14000000', '12000000', '3000000', '11000000', '20000000', '6000000', '15000000', '3000000', '3000000', '325000', '24000000', '55000000', '5000000', '15000000', '6000000', '1500000', '12500000', '9000000', '12000000', '8000000', '8000000', '31000000', '170000', '8500000', '35000000', '31500000', '4000000', '2700000', '16000000', '32000000', '20000000', '35000000', '6500000', '3500000', '350000', '1000000', '40000000', '5100000', '5000000', '200000', '3500000', '35000000', '10000000', '400000', '23000000', '19000000', '5500000', '22000000', '27000000', '20000000', '4500000', '15000000', '6000000', '550000', '6000000', '100000', '15000000', '18000000', '44000000', '20000000', '17000000', '250000', '12000000', '33500000', '1250000', '18000000', '6500000', '12000000', '54000000', '28000000', '18000000', '10000000', '9300000', '18000000', '20000000', '3000000', '14000000', '5000000', '5500000', '5000000', '1000000', '6000000', '2500000', '10000000', '12000000', '20000000', '15000000', '11000000', '10000000', '8000000', '13500000', '12500000', '5000000', '5000000', '4000000', '12000000', '10700000', '20000000', '2000000', '21000000', '28000000', '18000000', '20500000', '22000000', '16000000', '4500000', '2250000', '5000000', '3250000', '5000000', '17000000', '46000000', '12000000', '8000000', '14000000', '2500000', '10500000', '1200000', '12500000', '15000000', '400000', '10100000', '12000000', '10000000', '5952000', '7000000', '5000000', '375000', '32500000', '39000000', '10000000', '36000000', '15000000', '7000000', '1305000', '25000000', '15000000', '27500000', '27000000', '10000000', '8000000', '12000000', '3250000', '30000000', '18000000', '1500000', '8200000', '9000000', '4500000', '2600000', '550000', '15000000', '28000000', '8000000', '18000000', '27000000', '30000000', '11000000', '25000000', '1250000', '8000000', '7500000', '1800000', '18000000', '10000000', '6400000', '15000000', '48000000', '45000000', '27500000', '475000', '3000000', '1500000', '19000000', '1300000', '10000000', '2200000', '10000000', '18000000', '44000000', '30000000', '2000000', '27000000', '25000000', '17900000', '6900000', '3500000', '12000000', '4000000', '10000000', '26000000', '10000000', '3000000', '7000000', '20000000', '31000000', '15000000', '15000000', '400000', '40000000', '25000000', '30000000', '3000000', '15000000', '18000000', '35000000', '5000000', '25000000', '4500000', '18000000', '15000000', '12000000', '40000000', '16000000', '3000000', '17000000', '8000000', '175000', '4700000', '17000000', '8800000', '18000000', '10000000', '24000000', '12000000', '30000000', '6000000', '2000000', '2600000', '350000', '100000', '10000000', '3500000', '16000000', '5000000', '25000000', '3500000', '4000000', '1100000', '40000000', '20000000', '15000000', '29000000', '2300000', '22700000', '23000000', '13000000', '17000000', '6500000', '40000000', '8500000', '1900000', '14000000', '1000000', '15000000', '16500000', '30000000', '25000000', '3000000', '15000000', '18000000', '13000000', '25000000', '5000000', '4000000', '6200000', '1500000', '18000000', '15000000', '4000000', '4000000', '4700000', '2800000', '58000000', '14000000', '70000000', '28000000', '30000000', '3000000', '13000000', '9000000', '16000000', '15000000', '9500000', '6000000', '12300000', '32000000', '7000000', '6000000', '13000000', '7000000', '25000000', '14000000', '15000000', '16400000', '10000000', '18000000', '1200000', '11500000', '10000000', '48000000', '35000000', '6000000', '11000000', '42000000', '16000000', '5000000', '5000000', '1500000', '9000000', '30000000', '70000000', '19000000', '30000000', '6000000', '6000000', '30000000', '40000000', '18000000', '7500000', '20000000', '14000000', '140000', '55000000', '1600000', '65000000', '10000000', '30000000', '7700000', '70000000', '10000000', '430000', '14000000', '13500000', '3000000', '40000000', '50000000', '47000000', '60000000', '20000000', '22000000', '31000000', '19000000', '13000000', '25000000', '7000000', '26000000', '20000000', '4200000', '49000000', '15000000', '35000000', '26000000', '54000000', '500000', '11000000', '8000000', '500000', '450000', '40000000', '8500000', '35000', '23000', '35000000', '14000000', '100000000', '20000000', '25000000', '25000000', '65000000', '27000000', '50000000', '23000000', '20000000', '7000000', '23000000', '6000000', '16000000', '5000000', '24000000', '2500000', '7000000', '5000000', '9000000', '70000000', '20000000', '35000000', '30000000', '16500000', '24000000', '6500000', '40000000', '30000000', '11000000', '7000000', '42000000', '40000000', '42000000', '10000000', '20000000', '35000000', '40000000', '11000000', '8000000', '5000000', '45000000', '35000000', '55000000', '10000000', '80000000', '40000000', '14400000', '11000000', '55000000', '7000000', '5000000', '40000000', '12500000', '8000000', '1200000', '28000000', '33000000', '12000000', '40000000', '35000000', '20000000', '25000000', '4000000', '35000000', '2000000', '1800000', '14000000', '800000', '32000000', '15000000', '6500000', '11000000', '7000', '12000000', '21000000', '35000000', '15000000', '13000000', '22000000', '15000000', '13000000', '3500000', '65000000', '42000000', '44000000', '85000000', '42000000', '8000000', '28000000', '20000000', '14000000', '25000000', '3000000', '6000000', '15000000', '34000000', '6900000', '3000000', '12500000', '63000000', '25000000', '19000000', '14600000', '3000000', '7000000', '25000000', '45000000', '26000000', '25000000', '11000000', '22000000', '50000000', '40000000', '50000000', '10000000', '40000000', '62000000', '30000000', '12000000', '10000000', '45000000', '13000000', '8000000', '9000000', '14000000', '50000000', '45000000', '20000000', '55000000', '79300000', '70000000', '63000000', '45000000', '100000000', '45000000', '18000000', '10000000', '1500000', '4500000', '55000000', '28000000', '25000000', '1500000', '45000000', '18000000', '30000000', '8000000', '8000000', '700000', '27000', '20000000', '55000000', '40000000', '20000000', '50000000', '22000000', '5000000', '38000000', '16000000', '10000000', '16000000', '40000000', '15000000', '35000000', '30000000', '27000000', '10500000', '25000000', '13700000', '15000000', '12000000', '26000000', '2500000', '22000000', '4000000', '50000000', '20000000', '14000000', '30000000', '30000000', '40000000', '3500000', '90000000', '72000000', '6000000', '55000000', '50000000', '100000000', '250000', '85000000', '65000000', '28000000', '25000000', '23000000', '75000000', '35000000', '60000000', '45000000', '1500000', '175000000', '22000000', '6000000', '20000000', '24000000', '7000000', '50000000', '50000', '40000000', '30000000', '20000000', '5000000', '32000000', '50000000', '55000000', '30000000', '50000000', '50000000', '30250000', '6100000', '20000000', '14000000', '4000000', '16500000', '62000000', '60000000', '68000000', '52000000', '30000000', '55000000', '11000000', '11000000', '65000000', '58000000', '45000000', '92000000', '4000000', '29000000', '31000000', '18000000', '11000000', '9200000', '6000000', '60000000', '10000', '14500000', '12500000', '20000000', '44000000', '38000000', '75000000', '55000000', '5900000', '40000000', '10000000', '5000000', '47000000', '18000000', '7500000', '8000000', '15000000', '8000000', '55000000', '12000000', '7000000', '39000000', '45000000', '10000000', '4500000', '2500000', '35000000', '25000000', '13000000', '32000000', '25530000', '80000000', '18000000', '57000000', '32000000', '9000000', '80000000', '20000000', '47000000', '100000000', '100000000', '5000000', '55000000', '50000000', '75000000', '45000000', '45000000', '1000000', '30000000', '3100000', '40000000', '25000000', '25000000', '2000000', '7000000', '70000000', '55000000', '45000000', '19000000', '40000000', '3500000', '3000000', '65000000', '50000000', '45000000', '3000000', '25000000', '67000000', '30000000', '300000', '38000000', '4500000', '88000000', '800000', '13000000', '2400000', '44000000', '200000', '14000000', '65000000', '55000000', '25000000', '1300000', '80000000', '42000000', '35000000', '4833610', '60000000', '46000000', '5500000', '20000000', '46000000', '7000000', '80000000', '50000000', '36000000', '23000000', '21500000', '15000000', '12000000', '55000000', '18000000', '15000000', '90000000', '3000000', '25000', '5000000', '8000000', '45000000', '4000000', '36000000', '35000000', '18000000', '50000000', '26000000', '35000000', '35000000', '3000000', '27000000', '10000000', '45000000', '20000000', '90000000', '32000000', '250000', '90000000', '250000', '42000000', '3000000', '90000000', '300000', '10000000', '75000000', '80000000', '12000000', '110000000', '70000000', '2700000', '125000000', '46000000', '4000000', '1000000', '80000000', '115000000', '100000000', '50000000', '5000000', '55000000', '25000000', '85000000', '40000000', '80000000', '70000000', '3500000', '60000000', '16000000', '15000000', '50000000', '25000000', '450000', '26000000', '95000000', '85000000', '35000000', '35000000', '50000000', '18000000', '7500000', '60000000', '55000000', '15000000', '5000000', '57000000', '17000000', '36000000', '38000000', '12000000', '45000000', '15000000', '12000', '90000000', '28000000', '60000000', '53000000', '20000000', '40000000', '35000000', '30000000', '80000000', '60000000', '50000000', '40000000', '24000000', '20000000', '5000000', '200000000', '110000000', '38000000', '50000000', '80000000', '28000000', '15000000', '12000000', '12500000', '25000000', '4000000', '2300000', '140000000', '70000000', '8000000', '2650000', '25000000', '45000000', '5000000', '80000000', '60000000', '17000000', '73000000', '29000000', '500000', '68000', '27000000', '10000000', '80000000', '60000000', '15000000', '10000000', '35000000', '7000000', '65000000', '20000000', '11900000', '6000000', '27000000', '24000000', '20000000', '5000000', '4500000', '35000000', '20000000', '6000000', '2000000', '15000000', '13000000', '6000000', '1000000', '60000000', '17000000', '60000000', '40000000', '30000000', '2000000', '125000000', '18500000', '3500000', '30000000', '30000000', '20000000', '15000000', '4030000', '70000000', '25000000', '23000000', '9000000', '3500000', '90000000', '66000000', '650000', '71500000', '48000000', '2000000', '1500000', '73000000', '1000000', '300000', '22000000', '65000000', '55000000', '65000000', '15000000', '10000000', '50000000', '26000000', '5000000', '80000000', '13000000', '60000000', '20000000', '10000000', '5000000', '45000000', '14000000', '1000000', '13000000', '250000', '19000000', '60000000', '1300000', '1000000', '100000', '35000000', '30000000', '2000000', '55000000', '14000000', '8000000', '1000000', '55000000', '140000000', '40000000', '68000', '60000000', '53000000', '25000000', '3000000', '75000000', '1000000', '20000000', '12000000', '10000000', '25000000', '20000000', '12000000', '300000', '250000', '70000000', '50000000', '26000000', '17000000', '10000000', '85000000', '24000000', '85000000', '45000000', '28000000', '12000000', '3000000', '2900000', '80000000', '15000000', '10000000', '80000000', '13000000', '10000000', '8000000', '65000000', '60000000', '52000000', '80000000', '60000000', '50000000', '50000000', '15000000', '10000000', '34000000', '7000000', '48000000', '28000000', '17000000', '8000000', '1700000', '75000000', '40000000', '30000000', '16000000', '1600000', '30000000', '180000', '10000000', '40000000', '6000', '22000000', '600000', '10000000', '3000000', '40000000', '6000000', '66000', '23000000', '12000000', '1000000', '60000000', '14000000', '5000000', '4000000', '65000000', '13000000', '55000000', '8300000', '5000000', '50000000', '13000000', '3000000', '75000000', '33000000', '20700000', '14000000', '8500000', '66000000', '15000000', '2000000', '50000000', '6000000', '30000000', '11000000', '1350000', '68000000', '48000000', '21000000', '14000000', '115000000', '15000000', '375000', '42000000', '16000000', '4000000', '68000000', '48000000', '40000000', '10000000', '145000000', '60000000', '10700000', '1750000', '30000000', '175000000', '21000000', '80000000', '24000000', '600000', '65000000', '27000000', '6000000', '4000000', '80000000', '75000000', '10000000', '60000000', '70000000', '500000', '250000', '64000000', '14000000', '10000000', '2000000', '700000', '32000000', '55000000', '25000000', '16000000', '40000000', '40000000', '7000000', '125000000', '34000000', '22000000', '15000000', '7000000', '5700000', '6500000', '1600000', '21500000', '12000000', '15000000', '50000000', '36000000', '12000000', '3500000', '250000', '40000000', '28700000', '18000000', '15000000', '35000000', '32000000', '12000000', '4000000', '30000000', '13000000', '60000000', '18000000', '11900000', '65000000', '50000000', '10000000', '7200000', '32000000', '21000000', '20000000', '15000000', '9000000', '6500000', '500000', '20000000', '19000000', '13000000', '3250000', '10000000', '135000000', '90000000', '70000000', '100000000', '35000000', '27000000', '312000', '60000000', '35000000', '30000000', '4500000', '40000000', '30000000', '21000000', '13000000', '10000000', '3000000', '50000000', '23000000', '15000000', '10000000', '105000000', '90000000', '75000000', '37000000', '20000000', '24000000', '60000000', '52000000', '45000000', '40000000', '36000000', '25000000', '24000000', '27000', '38000000', '80000000', '4000000', '15000000', '3000000', '1000000', '60000000', '25000', '9000000', '7000000', '36000000', '15000000', '4000000', '33000000', '40000000', '24000000', '23000000', '9000000', '35000000', '36000000', '50000000', '25000000', '16000000', '2000000', '90000000', '60000000', '50000000', '23000000', '25000000', '15000000', '15000000', '95000000', '20000000', '15000000', '40000000', '10000000', '90000000', '65000000', '45000000', '4000000', '4000000', '43000000', '29000000', '8000000', '3000000', '3500000', '62000000', '15000000', '14000000', '6000000', '58000000', '31000000', '15000000', '10000000', '103000000', '34000000', '7000000', '3300000', '1300000', '1000000', '127500000', '18000000', '16000000', '120000000', '55000000', '2000000', '55000000', '40000000', '10000000', '5000000', '4500000', '80000000', '75000000', '53012938', '16000000', '2500000', '42000000', '51000000', '150000', '110000000', '120000000', '76000000', '60000000', '24000000', '24000000', '65000000', '19000000', '1200000', '75000000', '250000', '15000000', '90000000', '30000000', '20000000', '19000000', '84000000', '33000000', '24000000', '9000000', '2500000', '1000000', '75000000', '65000000', '35000000', '15000000', '10000000', '35000000', '3000000', '1000000', '40000000', '23000000', '10000000', '40000', '103300000', '500000', '60000000', '35000000', '16000000', '225000', '15000000', '12500000', '8000000', '1000000', '6000000', '30000000', '9000000', '1000000', '90000000', '38000000', '800000', '300000', '80000000', '80000000', '32000000', '1200000', '28000000', '11000000', '9000000', '5000000', '3000000', '48000000', '40000000', '20000000', '2000000', '65000000', '22000000', '15000000', '5250000', '42000', '600000', '50000000', '20000000', '13000000', '200000', '50000000', '40000000', '40000000', '10000000', '6800000', '123000000', '82000000', '35000000', '30000000', '85000000', '73243106', '13500000', '9500000', '7000000', '80000000', '18000000', '12000000', '8000000', '2000000', '100000000', '65000000', '25000000', '13000000', '6000000', '43000000', '10000000', '85000000', '80000000', '60000000', '45000000', '45000000', '28000000', '26000000', '10000000', '4000000', '48000000', '13000000', '8000000', '30000000', '22000000', '45000000', '28000000', '18500000', '14000000', '10000000', '40000000', '16000000', '13500000', '13000000', '115000000', '53000000', '49000000', '10350000', '500000', '40000000', '30000000', '10000000', '75000000', '62000000', '90000000', '30000000', '26000000', '85000000', '33000000', '5000000', '250000', '50000', '38000000', '25000000', '6000000', '35000000', '23000000', '18000000', '11000000', '2000000', '98000000', '2000000', '60000000', '45000000', '25000000', '25000000', '15000000', '105000000', '72000000', '8000000', '5000000', '45000000', '28000000', '23000000', '12000000', '53000000', '50000000', '38000000', '151500000', '40000000', '30000000', '28000000', '3000000', '1000000', '25000000', '10000', '4300000', '94000000', '1800000', '72000000', '38000000', '16000000', '90000000', '15000000', '13000000', '3500000', '40000000', '38000000', '14000000', '13000000', '700000', '85000000', '6000000', '1000000', '68000000', '18000000', '5000000', '2100000', '93000000', '46000000', '12000000', '6000000', '5500000', '100000000', '400000', '90000000', '80000000', '80000000', '3000000', '15000000', '48000000', '57000000', '48000000', '35000000', '6500000', '1377800', '1000000', '28000000', '26000000', '22000000', '17000000', '13000000', '10000000', '5000000', '1000000', '87000000', '22000000', '42000000', '12000000', '10000000', '10000', '40000000', '35000000', '100000', '22000000', '21000000', '22000000', '8500000', '50000000', '31000000', '28000000', '2000000', '70000000', '30000000', '17000000', '1500000', '60000000', '47000000', '35000000', '10000000', '19000000', '18000000', '10000000', '10000000', '4500000', '22000000', '16000000', '7000000', '41000000', '137000000', '4000000', '125000000', '6000000', '90000000', '35000000', '11000000', '1000000', '1700000', '40000000', '38000000', '30000000', '24000000', '13000000', '75000000', '11000000', '70000000', '28000000', '15000000', '7000000', '5500000', '109000000', '78000000', '72000000', '38000000', '25000000', '12000000', '109000000', '48000000', '35000000', '18000000', '4000000', '95000000', '22000000', '7500000', '2000000', '13000000', '11000000', '500000', '70000000', '17000000', '160000', '70000000', '65000000', '32000000', '42000000', '40000000', '15000000', '11000000', '10000000', '70702619', '16000000', '3000000', '2000000', '70000000', '36000000', '20000000', '12000000', '12000000', '1200000', '60000000', '60000000', '35000000', '4500000', '1200000', '1100000', '139000000', '16000000', '10000000', '140000000', '30000000', '25000000', '1500000', '85000000', '65000000', '35000000', '5000000', '54000000', '12000000', '1500000', '50000000', '48000000', '26000000', '22000000', '40000000', '78000000', '14000000', '12000000', '60000000', '50000000', '5000000', '1500000', '40000000', '18000000', '14000000', '400000', '45000000', '42000000', '6000000', '6000000', '115000000', '27000000', '5500000', '1500000', '15000000', '80000000', '46000000', '38000000', '3000000', '2100000', '68000000', '25000000', '40000000', '10000000', '35000000', '60000000', '20000000', '18500000', '3500000', '115000000', '84000000', '60000000', '12000000', '102000000', '80000000', '15600000', '5600000', '50000000', '10000000', '250000', '70000000', '27000000', '38000000', '8000000', '30000000', '120000000', '90000000', '300000', '150000', '63000000', '20000000', '85000000', '70000000', '15000000', '80000000', '14000000', '7500000', '50000000', '41000000', '13500000', '100000000', '30000000', '25000000', '12000000', '29000000', '20000000', '600000', '40000000', '70000000', '50000000', '800000', '25000000', '12000000', '9000000', '7500000', '70000000', '55000000', '35000000', '30000000', '19000000', '10000000', '8000000', '4000000', '60000000', '38000000', '21000000', '15300000', '950000', '13000000', '200000', '200000', '48000000', '27000000', '25000000', '7000000', '3000000', '20000000', '15000000', '12000000', '9000000', '5000000', '825000', '18000000', '25000000', '21000000', '16000000', '15000000', '15000000', '10000000', '8000000', '4000000', '3000000', '100000000', '25000000', '15500000', '1800000', '750000', '350000', '142000000', '20000000', '12500000', '10000000', '100000000', '47000000', '40000000', '17000000', '7000000', '45000000', '43000000', '11000000', '80000000', '15000000', '12500000', '500000', '60000000', '55000000', '30000000', '20000000', '1000000', '94000000', '12500000', '4500000', '97000000', '60000000', '25000000', '7500000', '6000000', '52000000', '45000000', '35000000', '30000000', '25000000', '10000000', '4000000', '1000000', '29000000', '170000000', '55000000', '54000000', '60000000', '20000000', '3300000', '14000000', '7000000', '26000000', '11000000', '500000', '30000000', '125000000', '15000000', '10000000', '1000000', '60000000', '25000000', '80000000', '20000000', '7000000', '1000000', '55000000', '50000000', '24000000', '15000000', '25000000', '10000000', '4000000', '50000000', '20000000', '5800000', '5500000', '2500000', '500000', '103000', '55000000', '25000000', '20000000', '4500000', '68000000', '15000000', '5900000', '1200000', '85000000', '50000000', '35200000', '800000', '1200000', '36000000', '25000000', '11000000', '3000000', '7800000', '52000000', '9000000', '6000000', '28000000', '20000000', '15000000', '4500000', '28000000', '20000000', '17500000', '15000000', '15000000', '4000000', '35000000', '17000000', '150000000', '140000000', '18000000', '1100000', '150000000', '81000000', '94000000', '60000000', '10000000', '76000000', '5500000', '4300000', '26000000', '75000000', '30000000', '25000000', '7000000', '5000000', '25000', '137000000', '30000000', '12000000', '9000000', '120000000', '8000000', '50000000', '50000000', '1750000', '75000000', '20000000', '6500000', '5400000', '45000000', '32000000', '130000000', '45000000', '16000000', '10000000', '2000000', '7500000', '90000000', '86000000', '40000000', '15000000', '4000000', '70000000', '30000000', '26000000', '25000000', '2000000', '2000000', '41000000', '20000000', '14000000', '1000000', '25000000', '5000000', '500000', '60000000', '5000000', '125000000', '30000000', '22000000', '18000000', '1000000', '85000000', '40000000', '35000000', '18000000', '11000000', '2500000', '19000000', '500000', '60000000', '55000000', '17000000', '7000000', '6000000', '70000000', '17000000', '9000000', '300000', '12000000', '60000000', '45000000', '35000000', '8000000', '3000000', '1000000', '6000000', '56000000', '7000000', '800000', '250000', '78000000', '1900000', '500000', '135000000', '80000000', '300000', '109000000', '40000000', '20000000', '90000000', '80000000', '65000000', '18000000', '4000000', '2000000', '5600000', '29000000', '4000000', '2000000', '1500000', '80000000', '55000000', '27000000', '12000000', '94000000', '65000000', '16500000', '10000000', '1300000', '5000000', '100000000', '80000000', '60000000', '40000000', '15000000', '30000000', '4000000', '20000', '7000', '23000000', '75000000', '60000000', '22000000', '3000000', '42000000', '40000000', '10000000', '24000000', '13000000', '2000000', '50000000', '8000000', '850000', '500000', '110000000', '60000000', '56000000', '30000000', '10000000', '2000000', '75000000', '39000000', '26000000', '25000000', '15000000', '10400000', '25000000', '50000000', '8500000', '6400000', '5000000', '30000000', '20000000', '16000000', '12500000', '6700000', '35000000', '12000000', '28000000', '20000000', '20000000', '35000000', '35000000', '25000000', '20000000', '130000000', '55000000', '33000000', '20000000', '60000000', '30000000', '8500000', '3400000', '32000000', '30000000', '20000000', '18000000', '17000000', '78000000', '60000000', '92000000', '40000000', '150000000', '9000000', '70000000', '125000000', '50000000', '16000000', '5000000', '10000', '28000000', '18000000', '18000000', '15000000', '4000000', '100000', '60000000', '30000000', '7500000', '780000', '500000', '400000', '110000000', '75000000', '30000000', '1200000', '20000000', '6000000', '72000000', '30000000', '15000000', '200000000', '12000000', '170000000', '40000000', '800000', '65000', '90000000', '105000000', '19000000', '4600000', '3200000', '100000000', '85000000', '6500000', '2500000', '80000000', '71682975', '55000000', '9000000', '30000000', '15000000', '7000', '65000000', '70000000', '20000000', '78000000', '30000000', '500000', '27000000', '25000000', '20000000', '17000000', '10000000', '23000000', '12000000', '92000000', '35000000', '30000000', '25000000', '6800000', '25000000', '10000000', '2600000', '70000000', '35000000', '30000000', '1400000', '50000000', '40000000', '30000000', '5000000', '1000000', '50000000', '45000000', '200000', '11000000', '170000000', '110000000', '50000000', '2000000', '400000', '40000000', '20000000', '18000000', '10000000', '17000000', '10000000', '5000000', '200000', '40000000', '20000000', '1200000', '120000000', '100000000', '50000000', '400000', '45000000', '100000000', '30000000', '5000000', '155000000', '50000000', '7500000', '55000000', '5500000', '40000000', '26000000', '57000000', '50000000', '29000000', '25000000', '11000000', '7000000', '30000000', '110000000', '100000000', '75000000', '75000000', '24000000', '13300000', '10000000', '60000000', '55000000', '17500000', '45000000', '10600000', '30000000', '26000000', '32000000', '8800000', '200000', '40000000', '25000000', '45000000', '5500000', '750000', '65000000', '45000000', '30000000', '30000000', '20000000', '425000', '25000000', '20000000', '5000000', '70000', '80000000', '32000000', '25000000', '55000000', '100000000', '75000000', '15000000', '13500000', '50000000', '35000000', '5500000', '88000000', '25000000', '1000000', '50000000', '25000000', '20000000', '1000000', '60000000', '35000000', '3500000', '3000000', '1500000', '25000000', '20000000', '15000000', '75000000', '56000000', '28500000', '4600000', '72000000', '60000000', '1600000', '1500000', '400000', '18500000', '2000000', '2000000', '90000000', '25000000', '25000000', '20000000', '15500000', '60000000', '45000000', '1400000', '30000', '53000000', '12000000', '6800000', '5200000', '1100', '30000000', '1500000', '45000000', '45000000', '43000000', '27000000', '6500000', '500000', '115000000', '82000000', '75000000', '2500000', '110000000', '35000000', '7303082', '300000', '150000000', '10000000', '2000000', '1700000', '50000000', '80000000', '18975000', '3400000', '1700000', '700000', '132000000', '10000000', '1800000', '200000', '20000000', '7000000', '1125000', '25000000', '5000', '150000000', '40000000', '300000', '250000', '120000000', '35000000', '7000000', '2800000', '250000', '138000000', '35000000', '35000000', '145000000', '40000000', '20000000', '87500000', '60000000', '350000', '30000000', '35000000', '26000000', '26000000', '80000000', '30000000', '9000000', '25500000', '30000000', '20000000', '18000000', '200000', '40000000', '180000000', '85000000', '20000000', '13900000', '1300000', '58000000', '42000000', '25000000', '20000000', '4000000', '1000000', '1000000', '65000000', '55000000', '32000000', '30000000', '10000000', '8000000', '1600000', '1000000', '1500000', '50000000', '39000000', '25000000', '12000000', '7000000', '4000000', '3000000', '110000000', '50000000', '27000000', '24000000', '24000000', '2850000', '400000', '54000000', '50000000', '25000000', '18000000', '70000000', '32000000', '30000000', '15000000', '7500000', '6500000', '500000', '80000000', '20000000', '5000000', '55000000', '20000000', '7000000', '2000000', '80000000', '75000000', '12000000', '65000000', '28000000', '22000000', '150000000', '29000000', '50000000', '45000000', '40000000', '22000000', '60000000', '40000000', '30000000', '22000000', '6000000', '207000000', '15000000', '45000000', '18000000', '140000000', '60000000', '16000000', '75000000', '8000000', '70000000', '30000000', '1100000', '15000000', '10000000', '15000000', '2160000', '500000', '50000', '12000000', '5600000', '2700000', '2400000', '30000', '3500000', '35000000', '10000000', '45000000', '30000000', '17500000', '45000000', '10000000', '1000000', '40000000', '25000000', '14200000', '7900000', '5300000', '4750000', '1600000', '52000000', '15000000', '10000000', '15000', '400000', '40000000', '20000000', '4200000', '3500000', '20000000', '17000000', '10000000', '3000000', '15000000', '45000000', '30000000', '22000000', '12000000', '3000000', '149000000', '18000000', '9400000', '3700000', '50000000', '25000000', '13000000', '7500000', '3000000', '1500000', '50000000', '20000000', '17000000', '2900000', '500000', '75000000', '70000000', '17000000', '15250000', '2500000', '450000', '4500000', '73000000', '51000000', '8000000', '7000000', '4000000', '2000000', '80000000', '40000000', '950000', '60000000', '50000000', '17000000', '1000000', '55000000', '20000000', '18000000', '9600000', '8000000', '3000000', '12000', '10000', '150000000', '30000000', '20000000', '15000000', '14000000', '8000000', '9000000', '125000000', '80000000', '8000000', '4200000', '1000000', '210000000', '7000', '25000000', '12000000', '5000000', '4800000', '25000000', '90000000', '16000000', '14000000', '10000000', '3000000', '85000000', '60000000', '40000000', '32000000', '500000', '82500000', '10000000', '2000000', '232000000', '2000000', '1000000', '250000', '35000000', '120000', '35000000', '30000000', '27000000', '6500000', '3000000', '1300000', '225000000', '20000000', '1000000', '64000000', '54000000', '10000000', '5000000', '75000000', '75000000', '30000000', '5000000', '200000', '8000000', '135000000', '45000000', '4000000', '20000000', '5700000', '2000000', '775000', '100000000', '85000000', '40000000', '25000000', '33000000', '16500000', '9000000', '8000000', '40000000', '17500000', '15000000', '900000', '300000', '70000000', '10000000', '65000000', '60000000', '30000000', '2800000', '1000000', '60000000', '55000000', '35000000', '18000000', '11000000', '6000000', '3200000', '6000000', '85000000', '70000000', '20000000', '100000', '15000000', '80000000', '50000000', '50000000', '25000000', '2000000', '60000000', '50000000', '17000000', '35000000', '30000000', '16800000', '11000000', '6000000', '2000000', '40000000', '20000000', '20000000', '20000000', '15000000', '13000000', '4700000', '350000', '53000000', '40000000', '40000000', '15000000', '12000000', '20000000', '14000000', '10000000', '35000000', '20500000', '12000000', '10750000', '3750000', '700000', '450000', '102000000', '85000000', '14000000', '12000000', '4000000', '3700000', '80000000', '51000000', '35000000', '9000000', '8300000', '300000', '160000000', '33000000', '28000000', '7000000', '5000000', '1125000', '100000000', '82500000', '75000000', '55000000', '32000000', '18900000', '24000000', '19400000', '13000000', '45000000', '6000000', '110000000', '65000000', '76000000', '27500000', '63700000', '30000000', '16000000', '3300000', '42000000', '27000000', '1000000', '500000', '27500000', '9000000', '989000', '1000000', '20000000', '17000000', '15000000', '5000000', '39000000', '16000000', '10000000', '7000000', '85000000', '60000000', '15000000', '1500000', '151000000', '150000000', '100000000', '27000000', '40000000', '120000000', '25000000', '32000000', '13000000', '10000000', '35000000', '130000000', '25000000', '16500000', '5250000', '5000000', '6000000', '1800000', '40000000', '20000000', '14000000', '8300000', '60000000', '35000000', '20000000', '15000000', '8400000', '1300000', '61000000', '258000000', '55000000', '13000000', '10000000', '8000000', '20000000', '15500000', '750000', '16000000', '10500000', '10800000', '7400000', '47000000', '21000000', '20000000', '2400000', '40000000', '1500000', '21500000', '15000000', '500000', '7000000', '150000', '160000000', '10000000', '8000000', '300000000', '4000000', '53000000', '25000000', '22000000', '120000000', '30000000', '20000000', '8000000', '300000', '200000', '175000000', '22500000', '15000000', '9000000', '4000000', '110000000', '150000000', '1900000', '2000000', '48000000', '40000000', '11000000', '10000000', '2000000', '1500000', '205000000', '30000000', '2600000', '800000', '85000000', '75000000', '40000000', '2380000', '72500000', '28000000', '21600000', '7000000', '2000000', '100000000', '85000000', '15500000', '7500000', '6000000', '80000000', '67000000', '20000000', '17500000', '25000000', '25000000', '13000000', '10100000', '2500000', '20000000', '15000000', '4500000', '50000000', '2200000', '2000000', '60000000', '12000000', '9000000', '8500000', '35000000', '25000000', '3000000', '50000000', '45000000', '32000000', '23000000', '10000000', '3500000', '45000000', '30000000', '25000000', '20000000', '16500000', '72500000', '22000000', '15000000', '12000000', '180000000', '70000000', '6400000', '30000000', '27500000', '19000000', '16000000', '10000000', '4600000', '1000000', '600000', '200000', '10000000', '3300000', '20000000', '15000000', '8000000', '1500000', '150000000', '7000000', '17000000', '150000000', '45000000', '5000000', '85000000', '25000000', '20000000', '17500000', '13000000', '13000000', '9000000', '14000000', '8600000', '8000000', '80000000', '14000000', '55000000', '28000000', '15000000', '12500000', '150000000', '55000000', '30000000', '20000000', '250000', '75000000', '35000000', '30000000', '10000000', '45000000', '40000000', '40000000', '20000000', '15000000', '7300000', '25000000', '4000000', '28000000', '20000000', '17500000', '16500000', '2000000', '120000', '120000', '12000', '20000000', '12000000', '10000000', '6500000', '1600000', '150000000', '175000000', '21000000', '15000000', '1000000', '2500000', '200000', '30000000', '25000000', '22000000', '4900000', '2000000', '1000000', '15000000', '47500000', '35000000', '30000000', '17000000', '900000', '186000000', '40000000', '7000000', '2000000', '92500000', '82500000', '17500000', '7000000', '6000000', '2750000', '40000000', '20000000', '12000000', '7500000', '6250000', '50000', '55000000', '40000000', '6000000', '28000000', '25000000', '20000000', '20000000', '20000000', '12000000', '10000000', '85000000', '33000000', '21000000', '15000000', '1700000', '40000000', '20000000', '8000000', '3000000', '850000', '35000000', '35000000', '25000000', '10000000', '250000', '20000000', '58000000', '37000000', '25000000', '10000000', '1000000', '113500000', '18500000', '3000000', '55000000', '30000000', '30000000', '12000000', '8000000', '500000', '30000000', '25000000', '23000000', '12000000', '5000000', '45000000', '6000000', '35000000', '29000000', '12000000', '225000000', '185000000', '20000000', '10000000', '4600000', '57500000', '9000000', '5000000', '130000000', '90000000', '18000000', '8000000', '27000000', '26000000', '5000000', '137500000', '60000000', '200000', '80000000', '62000000', '10000000', '2500000', '180000000', '75000000', '105000000', '20000000', '20000000', '12000000', '1500000', '2150000', '150000000', '40000000', '28000000', '12500000', '8500000', '185000000', '52000000', '37000000', '15000000', '30000', '65000000', '35000000', '16000000', '1900000', '10000000', '72500000', '27500000', '15000000', '18000000', '18000000', '90000000', '10000', '35000000', '25000000', '16000000', '8500000', '15000000', '65000000', '25000000', '23000000', '9000000', '38000000', '4000000', '22000000', '45000000', '20000000', '6000000', '4900000', '120000000', '35000000', '450000', '27000000', '22000000', '20000000', '20000000', '20000000', '20000000', '6537890', '80000000', '45000000', '14000000', '3400000', '500000', '67500000', '38000000', '37500000', '12000000', '200000', '200000', '32500000', '300000', '2000000', '35000000', '27000000', '25100000', '19000000', '11000000', '250000', '55000000', '30000000', '20000000', '20000000', '11000000', '10800000', '4500000', '2000000', '400000', '24000000', '5000000', '2500000', '2000000', '1500000', '240000', '60000000', '15000000', '7000000', '20000000', '18000000', '4000000', '82500000', '60000000', '45000000', '3400000', '230000000', '2500000', '150000000', '37000000', '1000000', '130000000', '80000000', '20000000', '60000000', '37000000', '16000000', '14000000', '80000000', '58000000', '40000000', '25000000', '20000000', '7000000', '2600000', '6000000', '60000000', '54000000', '50000000', '160000000', '90000000', '80000000', '60000000', '60000000', '2000000', '45000000', '35000000', '20000000', '18000000', '16000000', '15000000', '13700000', '5500000', '5000000', '2700000', '2600000', '2200000', '1200000', '1000000', '850000', '150000000', '102500000', '90000000', '1000000', '50000000', '35000000', '26000000', '19000000', '14000000', '60000000', '50000000', '35000000', '750000', '25000000', '8000000', '3250000', '23600000', '18500000', '15000000', '7000000', '50000000', '17000000', '12000000', '6200000', '5000000', '20000000', '17500000', '50000000', '500000', '85000000', '9800000', '50000000', '15000000', '6000000', '5000000', '60000000', '50000000', '40000000', '2000000', '175000000', '20000000', '50000000', '15000000', '7500000', '30000000', '26000000', '20000000', '20000000', '4300000', '60000000', '40000000', '20000000', '2500000', '47000000', '500000', '60000000', '20000000', '18000000', '100000000', '35000000', '21000000', '17000000', '12000000', '150000000', '20000000', '200000000', '150000000', '25000000', '14000000', '1300000', '10000000', '175000000', '30000000', '13000000', '1500000', '60000000', '40000000', '38000000', '6000000', '138000000', '150000', '190000000', '25000000', '24000000', '10000000', '10000000', '60000000', '40000000', '15000000', '800000', '17000000', '210000000', '27500000', '23000000', '15000000', '3500000', '3500000', '12000000', '1100000', '750000', '5000000', '175000000', '40000000', '14000000', '12000000', '2100000', '250000000', '1000000', '150000000', '38000000', '20000000', '3200000', '72500000', '45000000', '9000000', '3000000', '140000000', '6000000', '4000000', '3000000', '39000000', '34000000', '30000000', '20000000', '10000000', '5000000', '70000000', '20000000', '19700000', '15000000', '10000000', '10000000', '29000000', '40000000', '15000000', '10000000', '30000000', '29000000', '16000000', '5000000', '30000000', '60000000', '11400000', '10000000', '7500000', '6400000', '1500000', '230000', '8500000', '100000000', '22000000', '20000000', '18000000', '16000000', '1000000', '10000000', '20000000', '80000000', '40000000', '23000000', '18000000', '7000000', '450000', '30000000', '30000000', '18000000', '350000', '42000000', '18000000', '250000', '100000000', '53000000', '20000000', '10000000', '65000000', '40000000', '40000000', '15000000', '11000000', '10000000', '14000000', '60000000', '9500000', '8000000', '1000000', '825000', '35000000', '19000000', '12500000', '160000', '95000000', '60000000', '7000000', '1070000', '200000000', '50000000', '40000000', '6500000', '60000000', '50000000', '40000000', '35000000', '25000000', '2000000', '105000000', '50000000', '35000000', '25000000', '25000000', '11500000', '110000000', '55000000', '5000000', '1000000', '8500000', '425000000', '80000000', '58000000', '35000000', '70000000', '90000000', '85000000', '30000000', '2000000', '18000000', '36500000', '23000000', '10000000', '8000000', '3000000', '3000000', '3000000', '2500000', '2400000', '2000000', '1800000', '1300000', '820000', '640000', '50000', '125000000', '150000000', '20000000', '350000', '40000000', '27000000', '20000000', '3000000', '3000000', '2900000', '80000000', '28000000', '18000000', '3000000', '48000000', '31000000', '26000000', '9000000', '500000', '700000', '60000000', '2000000', '1000000', '40000000', '20000000', '9000000', '6000000', '6000000', '15000', '80000000', '45000000', '30000000', '10000000', '10000000', '3750000', '37000000', '19000000', '15500000', '13000000', '1000000', '32000000', '12500000', '12000000', '1000000', '42000000', '20000000', '13000000', '13000000', '45000000', '32000000', '15000000', '9500000', '6000000', '1100000', '165000000', '36000000', '13000000', '7000000', '3000000', '20000000', '75000000', '50000000', '40000000', '30000000', '12000000', '20000000', '28000000', '21000000', '12500000', '10000000', '8300000', '3500000', '80000000', '35000000', '25000000', '10000000', '35000000', '35000000', '10100000', '9900000', '7300000', '3800000', '3000000', '52000000', '25000000', '15000000', '9000000', '200000000', '17000000', '8000000', '250000', '130000000', '65000000', '21000000', '18000000', '3750000', '210000000', '30000000', '12000000', '9000000', '500000', '165000000', '12500000', '10000000', '9200000', '6600000', '95000000', '200000000', '70000000', '42000000', '5000000', '4200000', '100000000', '30000000', '14000000', '10000000', '200000000', '47000000', '13000000', '10000000', '7000000', '2500000', '117000000', '75000000', '14000000', '323000', '68000000', '25000000', '170000000', '7000000', '160000000', '160000000', '5700000', '5600000', '130000000', '15000000', '4500000', '4500000', '85000000', '69000000', '44000000', '7000000', '7000000', '20000000', '19000000', '18000000', '38000000', '35000000', '25000000', '22000000', '10000000', '8000000', '2000000', '1900000', '1750000', '85000000', '82000000', '60000000', '4200000', '20000000', '35000000', '24000000', '19000000', '18000000', '17000000', '4900000', '32000000', '15000000', '2000000', '1800000', '16000000', '55000000', '4500000', '3000000', '2500000', '1900000', '69000000', '40000000', '5600000', '4000000', '15000000', '37000000', '20000000', '10000000', '8000000', '6800000', '15000000', '100000000', '70000000', '20000000', '16000000', '2000000', '1987650', '12000000', '57500000', '6750000', '5000000', '40000000', '155000000', '100000000', '20000000', '11000000', '60000000', '50000000', '20000000', '18000000', '12500000', '1600000', '400000', '30000', '3000000', '17000000', '10000000', '8000000', '500000', '16000000', '110000000', '40000000', '2000000', '2000000', '125000000', '30000000', '8000000', '260000000', '90000000', '55000000', '30000000', '24000000', '15000000', '150000000', '95000000', '52000000', '8470000', '100000000', '20000000', '16000000', '14000000', '40000', '95000000', '10000000', '50000', '200000000', '120000000', '80000000', '12500000', '5000000', '100000000', '35000000', '15000000', '7000000', '112000000', '17000000', '8000000', '1000000', '30000000', '25000000', '25000000', '10000000', '9100000', '5000000', '2500000', '2100000', '1100000', '950000', '500000', '300000', '290000', '250000', '250000', '63000000', '32000000', '13400000', '5500000', '4000000', '2600000', '2500000', '1500000', '500000', '30000000', '20000000', '1000000', '110000000', '70000000', '30000000', '3800000', '25000000', '42500000', '37000000', '35000000', '25000000', '5000000', '4500000', '6500000', '50000000', '40000000', '32000000', '68000000', '50000000', '5000000', '200000', '8900000', '160000000', '3200000', '1900000', '1500000', '6000000', '40000000', '40000000', '27000000', '5800000', '75000000', '18000000', '6000000', '30000000', '16000000', '135000000', '50200000', '19000000', '17000000', '6000000', '25000000', '85000000', '20000000', '15000000', '90000000', '40000000', '25000000', '38000000', '25000000', '5200000', '4000000', '1800000', '125000000', '30000000', '20000000', '8000000', '93000000', '52000000', '60000000', '32500000', '7000000', '5000000', '2450000', '250000000', '30000000', '1300000', '150000000', '80000000', '35000000', '7250000', '150000000', '36000000', '35000000', '21000000', '7000000', '3000000', '200000000', '55000000', '4000000', '10000000', '200000000', '19000000', '10000000', '4600000', '3500000', '195000000', '40000000', '110000000', '30000000', '23000000', '4500000', '125000000', '30000000', '6000000', '5500000', '140000000', '35000000', '14500000', '175000', '163000000', '110000000', '50000000', '19100000', '13000000', '6000000', '1000000', '560000', '50000000', '40000000', '30000000', '18000000', '2000000', '80000000', '35000000', '25000000', '500000', '90000000', '30000000', '27000000', '15000000', '12000000', '4500000', '2900000', '1500000', '1800000', '40000000', '25000000', '11000000', '5000000', '2300000', '900000', '20000000', '60000000', '25000000', '10000000', '3000000', '3000000', '2000000', '750000', '35000000', '26000000', '25000000', '21000000', '12000000', '3000000', '25000000', '24000000', '15000000', '8000000', '7200000', '70000000', '50000000', '37000000', '35000000', '30000000', '4000000', '190000', '50000000', '20000000', '14000000', '8000000', '5000000', '4750000', '2000000', '6000000', '50000000', '3500000', '25000000', '41000000', '38000000', '35000000', '24000000', '8000000', '90000000', '45000000', '7000000', '5500000', '5000000', '4200000', '3400000', '1000000', '130000000', '45000000', '35000000', '27500000', '250000', '80000000', '36000000', '25000000', '13000000', '10000000', '1500000', '1200000', '40000', '150000000', '70000000', '42000000', '12000000', '300000', '79000000', '75000000', '9400000', '20000000', '135000000', '127500000', '4000000', '180000000', '85000000', '45000000', '20000000', '10000000', '16000000', '17300', '40000000', '28000000', '9000000', '145000000', '125000000', '80000000', '25000000', '90000000', '130000000', '7500000', '50000000', '13000000', '70000000', '40000000', '34800000', '800000', '12000000', '9100000', '6500000', '6000000', '5000000', '4700000', '2600000', '2000000', '250000', '70000', '170000000', '12000000', '4000000', '1200000', '1000000', '135000000', '27500000', '25000000', '14000000', '7000000', '3000000', '9000', '100000000', '70000000', '58000000', '23000000', '10000000', '42000000', '42000000', '25000000', '67500000', '12000000', '3000000', '165000000', '31000000', '16000000', '15000000', '65000000', '57000000', '23000000', '32500000', '14000000', '12000000', '40000000', '15000000', '12000000', '1800000', '800000', '750000', '500000', '220000000', '300000', '125000000', '22000000', '840000', '42000000', '10000000', '6000000', '60000', '4000000', '1000000', '80000000', '1100000', '1000000', '150000000', '85000000', '13000000', '2000000', '225000000', '12500000', '11000000', '10000000', '30000000', '30000000', '20000000', '10000000', '1200000', '930000', '25000000', '12000000', '12000000', '55000000', '33000000', '30000000', '26000000', '6000000', '5250000', '900000', '135000', '12000000', '45000000', '39000000', '12500000', '8000000', '5800000', '65000000', '209000000', '37500000', '8900000', '1100000', '100000', '215000000', '16000000', '10800000', '1000000', '1000000', '546173', '50000000', '3000000', '45000000', '70000000', '57500000', '120000', '185000000', '67500000', '21500000', '10000000', '1800000', '50000000', '20000000', '16000000', '7000000', '20000000', '6000000', '5700000', '3000000', '1200000', '6000000', '5600000', '95000000', '17700000', '2500000', '500000', '275000000', '225000', '55000000', '33000000', '10000000', '145000000', '125000000', '750000', '30000000', '200000000', '40000000', '100000000', '60000000', '10000000', '4900000', '2500000', '270000', '22000000', '35000000', '25000000', '17000000', '4000000', '1200000', '26000000', '20000000', '14000000', '850000', '275000000', '40000000', '2000000', '1000000', '65000000', '24200000', '4000000', '300000', '65000000', '37500000', '35000000', '12000000', '4600000', '1200000', '60000000', '45000000', '15000000', '13000000', '6900000', '85000000', '30000000', '19000000', '17000000', '500000', '85000000', '79000000', '30000000', '125000000', '95000000', '4000000', '35000000', '5000000', '2000000', '1000000', '102000000', '20000000', '20000000', '14000000', '5000000', '2000000', '150000000', '4300000', '9200000', '136200000', '49000000', '21000000', '11000000', '145000000', '120000000', '65000000', '19500000', '15000000', '10000000', '44500000', '42000000', '13500000', '10000000', '3000000', '200000', '250000000', '250000', '52500000', '40000000', '9700000', '60000000', '40000000', '35000000', '25000000', '100000000', '65000000', '25000000', '77600000', '45000000', '20000000', '5000000', '4000000', '4000000', '2100000', '2000000', '850000', '650000', '500000', '60000', '55000000', '30000000', '9000000', '1500000', '195000000', '18000000', '13000000', '12500000', '12000000', '4500000', '4000000', '2500000', '2000000', '110000000', '55000000', '12000000', '5000000', '3000000', '35000000', '30000000', '15000000', '50000000', '35000000', '10000000', '60000', '28000000', '3500000', '275000000', '61000000', '2500000', '250000', '92000000', '50000000', '28000000', '40000000', '15000000', '4000000', '3500000', '5400000', '200000000', '10000000', '10000000', '150000', '76000000', '2500000', '50000000', '32000000', '12800000', '5000000', '2000000', '70000000', '25000000', '13000000', '140000000', '50000000', '15000000', '20000000', '15000000', '20000', '110000000', '30000000', '1700000', '1000000', '55000', '22000000', '40000000', '500000', '120000000', '1500000', '1250000', '1200000', '32500000', '26000000', '15000000', '10000000', '17000000', '16000000', '1400000', '900000', '5000000', '1000000', '190000000', '3450000', '3000000', '3000000', '103000000', '160000000', '100000000', '3000000', '130000000', '75000000', '8300000', '6500000', '38000000', '15000000', '15000000', '11000000', '10600000', '225000000', '1000000', '200000000', '190000000', '2500000', '42000', '4500000', '150000000', '43000000', '23000000', '500000', '58000000', '3000000', '90000000', '37000000', '300000', '135000000', '130000000', '84000000', '20000000', '5300000', '4800000', '1000000', '7000000', '115000000', '18000000', '1900000', '1500000', '110000000', '500000', '35000000', '30000000', '2000000', '1900000', '200000000', '30000000', '1000000', '150000000', '19000000', '40000000', '30000000', '28000000', '18000000', '5000000', '2500000', '60000000', '38600000', '20000000', '19200000', '500000', '175000', '18000000', '10000000', '5000000', '2000000', '120000000', '50000000', '30000000', '5000000', '2000000', '8000000', '46000000', '38000000', '20000000', '8000000', '78000000', '18000000', '8500000', '5500000', '190000000', '15000000', '70000000', '30000000', '26000000', '20000000', '8500000', '12000000', '25000000', '15000000', '45000', '35000', '60000000', '11000000', '2500000', '55000000', '20000000', '5250000', '750000', '650000', '17000000', '12000000', '12000000', '7000000', '150000000', '130000000', '22000000', '12000000', '22000000', '17500000', '35000000', '40000000', '20000000', '3100000', '32000000', '190000000', '80000000', '900000', '250000000', '40000000', '35000000', '25000000', '50000000', '80000000', '175000000', '100000000', '91000000', '40000000', '25000000', '30000000', '22000000', '19000000', '16000000', '9500000', '4000000', '1800000', '1750000', '1200000', '1100000', '1000000', '625000', '500000', '150000', '100000', '30000', '450000', '170000000', '30000000', '16000000', '60000000', '30000000', '25000000', '7000000', '65000000', '7000000', '18000000', '8000000', '7000000', '200000000', '2600000', '600000', '30000000', '20000000', '13000000', '60000000', '20000000', '13000000', '80000000', '28000000', '50000000', '22000000', '1700000', '5000000', '61000000', '16000000', '12000000', '6500000', '1400000', '15000000', '66000000', '10000000', '6000000', '200000', '85000000', '55000000', '26000000', '10000000', '1150000', '100000', '130000000', '35000000', '300000', '3500000', '170000000', '13300000', '4500000', '12000000', '100000000', '4000000', '40000000', '28000000', '420000', '34000000', '2300000', '165000000', '5000000', '160000000', '25000000', '16000000', '200000000', '45000000', '180000000', '40000000', '44000000', '178000000', '12000000', '4357373', '1000000', '250000', '145000000', '50000000', '8500000', '1300000', '9000000', '100000', '40000000', '24000000', '1000000', '210000000', '40000000', '8000000', '3000000', '1000000', '70000000', '60000000', '10000000', '145000000', '110000000', '31000000', '4000000', '165000000', '15000000', '10000000', '4500000', '50000000', '40000000', '9000000', '6000000', '1000000', '125000', '100000000', '40000000', '18000000', '15000000', '70000', '3000000', '125000000', '50000000', '22000000', '600000', '17000000', '100000000', '25000000', '3000000', '250000', '5000000', '65000000', '18000000', '15000000', '11000000', '200000', '15000000', '20000000', '5000000', '750000', '70000000', '18000000', '5000000', '1000000', '2000000', '1200000', '34000000', '28000000', '20000000', '3000000', '2000000', '800000', '60000000', '55000000', '10000000', '5000000', '1600000', '70000000', '40000000', '25000000', '23000000', '950000', '500000', '70000000', '50000000', '28000000', '15000000', '13000000', '5000000', '5000000', '3300000', '2000000', '25000000', '80000000', '50000000', '26000000', '18000000', '5000000', '1500000', '1000000', '30000000', '5000000', '1000000', '3000000', '22000000', '8500000', '300000', '3500000', '1800000', '130000000', '25000000', '18000000', '5000000', '4000000', '250000', '170000000', '4000000', '4000000', '450000', '1500000', '40000000', '18000000', '16000000', '10000000', '7000000', '2400000', '125000000', '1100000', '913000', '132000000', '40000000', '15000000', '1000000', '120000000', '8000000', '950000', '36000000', '13200000', '12600000', '5000000', '1000000', '550000', '200000', '140000000', '20000000', '12000000', '250000000', '127000000', '65000000', '14000000', '65000000', '58000000', '50000000', '10000000', '10000000', '40000000', '20000000', '3000000', '2000000', '1400000', '1400000', '1000000', '1000000', '900000', '750000', '650000', '600000', '500000', '500000', '500000', '500000', '450000', '400000', '250000', '200000', '100000', '50000', '35000', '22000', '15000', '11000000', '250000000', '155000000', '14500000', '15000000', '7000000', '3440000', '50000', '25000', '30000000', '2000000', '500000', '25000', '5000000', '1250000', '70000000', '55000000', '23000000', '5000000', '9000000', '3300000', '60000000', '6000000', '5500000', '4900000', '4000000', '5000000', '30000000', '12000000', '9000000', '7000000', '4000000', '1300000', '108000000', '50000000', '7000000', '94000000', '40000000', '2000000', '1500000', '1000000', '17000000', '14000000', '8500000', '8000000', '7500000', '600000', '250000', '65000000', '5000000', '4000000', '180000', '1200000', '250000', '3400000', '950000', '190000000', '30000000', '2500000', '95000000', '50000000', '35000000', '10000000', '2000000', '700000', '26000000', '3000000', '2000000', '100000', '110000000', '40000000', '10000000', '2300000', '2000000', '250000', '100000', '130000000', '40000000', '10000000', '400000', '50000', '65000000', '22000000', '3000000', '175000', '11000000', '15000000', '7700000', '500000', '2300000', '50000000', '38000000', '1500000', '1000000', '150000', '1950000', '25000', '20000', '30000000', '26000000', '25000000', '22500000', '20000000', '1900000', '15000000', '5500000', '900000', '65000000', '30000000', '14500000', '10000000', '3500000', '25000000', '150000000', '29000000', '7500000', '5000000', '1000000', '10000000', '10000', '170000000', '35000000', '8000000', '600000', '1500000', '110000000', '37000000', '20000000', '179000000', '95000000', '74000000', '3000000', '49000000', '35000000', '10000000', '1500000', '2100000', '300000000', '99000000', '20000000', '175000000', '7000000', '4000000', '200000', '500000', '68000000', '20000000', '17000000', '1300000', '26000000', '2000000', '1100000', '100000', '120000000', '18000000', '5000000', '2000000', '130000000', '35000000', '75000', '10000000', '90000000', '30000000', '13000000', '12000000', '500000', '31000000', '150000000', '33000000', '1000000', '50000', '35000000', '11000000', '9000000', '4500000', '4000000', '1500000', '300000', '75000000', '28000000', '13000000', '3000000', '7000000', '250000', '35000000', '28000000', '10000000', '2000000', '150000', '5000000', '4500000', '3000000', '2000000', '1200000', '850000', '48000000', '20000000', '7500000', '5000000', '800000', '150000000', '30000000', '12000000', '250000', '65000000', '61000000', '53000000', '30000000', '2000000', '1200000', '80000000', '40000000', '5000000', '1000000', '1500000', '4400000', '200000', '75000', '5000', '1400', '35000000', '1000000', '500000', '25000000', '10000000', '4700000', '1000000', '500000', '300000', '34000000', '13000000', '4000000', '1000000', '74000000', '40000000', '26000000', '10000000', '100000', '500000', '200000', '100000', '2500000', '58000000', '55000000', '40000000', '15000000', '13000000', '1800000', '350000', '80000000', '14000000', '10000000', '5000000', '2000000', '300000', '5000000', '1000000', '33000000', '28000000', '20000000', '20000000', '15000000', '12000000', '500000', '125000', '18000000', '5000000', '5000000', '12000000', '100000000', '60000000', '28000000', '3000000', '1000000', '25000000', '20000000', '20000000', '18000000', '8900000', '160000000', '25000000', '25000000', '20000000', '7000000', '1500000', '450000', '187500000', '40000000', '37000000', '215000000', '8000000', '306000000', '90000000', '30000000', '1000000', '60000', '100000000', '62000000', '60000000', '50000000', '35000000', '8000000', '80000000', '42000000', '40000000', '30000000', '15000000', '12000000', '8000000', '7000000', '5000000', '4000000', '3000000', '3000000', '2700000', '2000000', '2000000', '1900000', '1400000', '1000000', '560000', '500000', '300000', '250000', '250000', '168000', '150000', '125000', '100000', '1000000', '5000000', '900000', '180000000', '140000000', '10000000', '14000000', '50000000', '40000000', '18000000', '2300000', '2100000', '56000000', '38000000', '36000000', '11500000', '10000000', '140000000', '70000000', '25000000', '5000000', '2500000', '20000000', '8000000', '5000000', '2500000', '9000000', '60720000', '20000000', '18000000', '5000000', '3500000', '140000000', '23000000', '20000000', '135000000', '20000000', '20000000', '3500000', '170000', '5000000', '13000000', '110000000', '18000000', '250000000', '18000000', '10000000', '150000000', '60000000', '35000000', '600000', '165000000', '125000000', '40000000', '175000000', '31500000', '20000000', '18000000', '5000000', '115000000', '3000000', '1500000', '20000000', '15000000', '750000', '60000000', '28000000', '22000000', '11000000', '175000000', '12700000', '27000000', '4000000', '73000000', '50000000', '35000000', '120000', '178000000', '170000000', '250000000', '9000000', '8000000', '7000000', '200000000', '50000000', '165000000', '50000000', '13000000', '7500000', '3000000', '2500000', '20000000', '45000000', '10000000', '8500000', '47500000', '144000000', '5000000', '185000000', '105000000', '5000000', '3000000', '20000000', '120000000', '20000000', '135000000', '10000000', '3500000', '30000000', '29000000', '1000000', '75000000', '33000000', '2000000', '95000000', '55000000', '50000000', '20000000', '10000000', '9000000', '60000000', '10000000', '10000000', '45000000', '20000000', '50000000', '35000000', '10000000', '90000000', '70000000', '11900000', '156000000', '110000000', '160000000', '90000000', '40000000', '17000000', '40000000', '10000000', '2100000', '60000000', '20000000', '9000000', '1500000', '1500000', '75000000', '35000000', '16800000', '13000000', '5000000', '5000000', '1000000', '47000000', '40000000', '40000000', '17000000', '10000000', '180000000', '22500000', '20000000', '16000000', '9000000', '8500000', '8000000', '150000000', '26700000', '18000000', '12000000', '77500000', '58000000', '50000000', '37000000', '65000000', '29000000', '19000000', '12000000', '200000000', '36000000', '125000000', '110000000', '75000000', '40000000', '46500000', '38000000', '65000000', '25000000', '25000000', '22000000', '4400000', '1000000', '500000', '2500000', '125000000', '7400000', '85000000', '15000000', '5000000', '40000000', '25000000', '27000', '6840000', '150000000', '38000000', '150000000', '25000000', '15000000', '60000000', '29200000', '21000000', '5000000', '25000000', '2000000', '127000000', '160000000', '18000000', '5000000', '120000000', '58000000', '25000000', '125000000', '110000000', '60000000', '250000000', '36000000', '90000000', '12000000', '10000000', '30000000', '20000000', '18000000', '200000000', '23000000', '22000000', '10000000', '60000000', '230000000', '43000000', '45000000', '20000000', '217000000', '34000000', '75000000', '40000000', '1100000', '60000000', '24000000', '175000000', '152000000', '12000000', '180000000', '150000000', '28000000', '50000000', '30000000', '1000000', '30000000', '25000000', '4000000', '195000000', '5000000', '80000000', '55000000', '40000000', '185000000', '175000000', '42000000', '20000000', '103000000', '100000000', '15000000', '160000000', '175000000', '50000000', '20000000']\n",
      "(5391,)\n",
      "['11000000', '0', '8000000', '3000000', '22000000', '9000000', '0', '4358000', '0', '900000', '10000650', '2000000', '2281000', '2500000', '3202000', '165049', '5273000', '0', '184925485', '4000000', '4000000', '9000000', '33754967', '390525192', '9172000', '6000000', '83320000', '0', '268000000', '8000000', '10462500', '5363000', '3500000', '2000000', '9132000', '11000000', '7000000', '9576159', '24464742', '23600000', '20400000', '7800000', '2956000', '9012000', '5400000', '7800000', '263591415', '8000000', '30022000', '7000000', '0', '8000000', '11000000', '8000000', '36000000', '7200000', '2500000', '87400000', '30500000', '5000000', '36000000', '23800000', '15000000', '9600000', '28200000', '7000000', '0', '12500000', '10400000', '14400000', '9000000', '3220', '80000000', '42000000', '271736', '0', '2000000', '11014685', '0', '33300000', '17570324', '11000000', '12800000', '25000000', '73000000', '21750000', '24600000', '10400000', '60000000', '7900000', '8200000', '10000000', '5000000', '7600000', '43700000', '8000000', '9250000', '50100000', '13680000', '3500000', '69995385', '13129846', '10000000', '6600000', '10000000', '37600000', '60000000', '59567035', '11744471', '71000000', '4750000', '9164370', '78900000', '102300000', '72070955', '1597233', '124900000', '286214286', '15473333', '6800000', '14873', '111859493', '141200000', '12000000', '13000000', '34562222', '28350000', '13007551', '3500000', '24391108', '41744718', '111600000', '4300000', '6100000', '2620000', '30000000', '68700000', '6800000', '44566', '33395426', '0', '37402877', '33395426', '8000000', '44785053', '5321508', '509424', '25000000', '31678778', '102308900', '33208099', '82000000', '6000000', '0', '5000000', '62500000', '2200000', '81600000', '9000000', '34505110', '5000000', '17489009', '24911670', '29548291', '80500000', '12376563', '12300000', '15200000', '0', '4000000', '41158757', '116000000', '9700000', '268500000', '12600000', '45000000', '3100000', '0', '18016290', '8800000', '11000000', '161800000', '15700000', '140000000', '18344729', '159616327', '400214478', '119500000', '26533200', '4420000', '26572439', '57300000', '31559560', '86300000', '139700000', '15000000', '97600000', '20169934', '0', '41833347', '470700000', '140556781', '5028948', '20123742', '108981275', '25000000', '23689877', '887000', '36145695', '48570885', '28316211', '13200000', '8000000', '25878153', '225000000', '90614445', '17000000', '7012524', '36000000', '38251425', '1000000', '786598007', '50800000', '25011000', '13800000', '12000000', '185400000', '20000000', '0', '337700000', '31063038', '1000000', '19000000', '32653000', '20388920', '208900376', '387513770', '98800000', '141600000', '3660880', '70000000', '13000000', '300200000', '7100000', '50000000', '391942', '55000000', '7000000', '203630630', '22673340', '76657000', '43000000', '210300000', '14000', '29200000', '139000000', '81250488', '20008693', '37799643', '8400000', '94875000', '35841901', '1500000', '31899000', '8000000', '10000000', '21378361', '7000000', '9709597', '26010864', '99750000', '83453539', '27107960', '15198912', '89134', '534171960', '44391156', '4865000', '15716828', '57229890', '2000000', '47923795', '67182787', '39846344', '59754601', '52302978', '287000', '69847348', '23380203', '3484523', '49823037', '2110050', '23894000', '44200000', '50000000', '21722776', '13400000', '42488161', '37400000', '108185706', '195300000', '6000000', '85300000', '19571091', '13747234', '18826490', '5732587', '35856053', '25032000', '57467731', '19600000', '17985000', '25244700', '25533818', '11400000', '2104164', '389925971', '44400000', '31672000', '6000000', '24474312', '6118683', '21000000', '12592907', '20659423', '109492484', '95800000', '121706019', '79114085', '24600832', '45785720', '33139618', '5675599', '69701637', '127767889', '53977250', '27092880', '36690067', '10751126', '6965361', '3707583', '26918576', '4408636', '84970337', '20036244', '125212904', '14400000', '792965326', '255000', '20959585', '177200000', '126387', '10143618', '74433837', '25697647', '2120439', '201463574', '12232628', '29400000', '572705079', '59950623', '29500000', '160000000', '61400000', '1246141', '909000', '44942821', '8921050', '187500000', '21500000', '20766000', '589308', '39012241', '20605209', '5564014', '87000000', '2300000', '80000000', '13075390', '81198894', '32980880', '5269990', '316300000', '333080271', '90815558', '26400000', '21300000', '295212467', '148168459', '5778353', '4700000', '62599495', '5142858', '25504513', '51973029', '8801940', '78019031', '15136870', '25928721', '27447471', '27187653', '0', '21163999', '2730877', '385524862', '210904', '33000000', '21930418', '35073978', '19739000', '300400000', '152627960', '1663296', '10618813', '11603545', '6905861', '41410568', '34004262', '65532576', '14237880', '17536256', '33200000', '36230219', '11052713', '10803211', '18400000', '258210860', '93589701', '9930649', '0', '6341825', '11100000', '16295774', '19472057', '1953732', '6734844', '2000000', '12947763', '23506237', '1500000', '1305114', '356800601', '4984663', '49851591', '12900000', '20966644', '183316455', '52287414', '7137502', '8025872', '2315000', '328203506', '41382841', '52293000', '133000000', '79817937', '38747385', '137963328', '7369373', '3147950', '4000000', '5228617', '3000000', '14000000', '14792779', '44793222', '76270454', '5923044', '800000', '1355728', '14375181', '276665036', '120192350', '25899797', '0', '38119483', '15728335', '53424681', '11227824', '54215416', '191200000', '32222567', '4600000', '320100000', '14564000', '30857000', '43848100', '38122000', '43988888', '7888000', '167780960', '98267558', '123922370', '16118077', '17768757', '3468572', '9205924', '11806119', '151668774', '73326666', '354704', '13000000', '1705139', '19170001', '188715611', '239606210', '351500000', '139109346', '81613606', '7282851', '49369899', '44196684', '13854000', '216600000', '14114000', '12793213', '81972846', '59450353', '20257000', '14545844', '44726644', '8373585', '412800000', '34700000', '10763469', '239500000', '40485039', '7190505', '36741667', '57469179', '30050028', '474171806', '411348924', '26004026', '49793054', '156167015', '92961960', '6157157', '14343976', '14533681', '10176701', '70200000', '54243125', '58571513', '45892212', '11642254', '22168359', '95857262', '332000000', '26593580', '106593296', '10555348', '70001698', '6706368', '63408614', '419428', '261400000', '16667084', '200500000', '882290', '239814025', '16153000', '2938000', '432645872', '202000000', '15000000', '244088654', '41476097', '162738726', '157670733', '53976987', '517600000', '53208180', '424200000', '34166572', '46777347', '4372561', '61308153', '21413105', '5835247', '20423389', '476684675', '54768418', '202000000', '66520529', '0', '2000000', '2275557', '55000', '2712293', '34416893', '15024232', '321952', '1227508', '14471440', '34729091', '513815401', '275726716', '78656813', '9286314', '17218916', '96900000', '390500000', '86930411', '37537675', '5017971', '7018525', '773490', '29090445', '34872033', '41798224', '6401336', '8824553', '19438638', '349618', '300854823', '451329842', '182291969', '191502246', '58011485', '83531958', '56200634', '205400000', '74787599', '81204830', '5430822', '131052444', '132440066', '66787173', '50752337', '183097323', '4651977', '14358033', '52929168', '26199377', '1526697', '178100000', '319700000', '158500000', '32100816', '266824291', '44948240', '159157447', '21171695', '149022650', '14231669', '1050861', '75505856', '10725228', '28876702', '2832029', '504050219', '236500000', '27281507', '215862692', '48169910', '358994850', '410900000', '62546695', '28391473', '21000', '673', '155056263', '1001437', '36299670', '52189039', '24103594', '21502976', '2041928', '46730578', '42273609', '4496583', '9579068', '27979399', '10696210', '63954968', '1152117', '27731527', '255000000', '20844907', '353715317', '137298489', '270340892', '22549338', '39360491', '153698625', '27450453', '10731997', '15935068', '3273588', '39100956', '32014993', '7950889', '3902679', '12309980', '1038812584', '441286003', '2119994', '70906973', '242623', '40157856', '321365567', '187995859', '201324422', '56505065', '9170214', '25842377', '16581575', '31835600', '38590458', '18423914', '24172899', '207500000', '51041856', '107217396', '3275585', '112006296', '7881335', '8864699', '4333569', '13024170', '119180938', '358500000', '11744960', '679850637', '987480140', '131011757', '25052000', '57362581', '365300000', '117615211', '351620129', '126247', '418953', '242895809', '212200000', '102053581', '28307092', '5046118', '94215000', '5828466', '283200000', '212928762', '18090181', '11768371', '3894240', '13383747', '196565669', '14938149', '305070', '223564608', '189800000', '5438120', '120000000', '45284974', '29317886', '246400000', '38087756', '50003303', '99423000', '160502573', '44342956', '125169', '4064333', '56598476', '529766', '21089146', '13738574', '5683371', '175516617', '7555256', '26097497', '22119269', '2461628', '246100000', '23998226', '14942422', '27936778', '366101666', '209045522', '11784569', '282300000', '83306268', '336529144', '2477155', '113487912', '334100000', '31390587', '22032635', '141247413', '127361412', '113354449', '104324083', '35627222', '20412216', '264246220', '110521733', '34449356', '122133227', '669276', '25532388', '152022333', '10426506', '37750754', '328125643', '27688744', '15126948', '18552460', '67823573', '347100000', '212400000', '10359006', '9812870', '115021008', '2108367', '32051917', '19637147', '49800000', '134993774', '107822813', '356429941', '77224232', '110400000', '364545516', '159387195', '2794056', '2844379', '262758310', '87100000', '34668249', '18517322', '4301000', '168841459', '106282604', '4100000', '83088295', '4199334', '0', '100645801', '527', '147542381', '1412799', '25732986', '22730924', '10229300', '817400878', '60209334', '37831658', '20278055', '41004412', '407488', '12900000', '2483790', '36238752', '34873513', '55669466', '5656388', '122079192', '4880941', '16149180', '37956589', '36404841', '3357324', '7011317', '34557416', '1320043', '10039566', '2104439', '152036382', '30593313', '457697994', '26936265', '104364680', '4357406', '36049108', '158908290', '34600000', '102825796', '234400000', '325500000', '12961389', '273814019', '113309743', '336069511', '17220599', '20133326', '1615787', '19892205', '71558971', '152266007', '32223424', '36682170', '304602', '51204567', '308700000', '18582965', '75854588', '1353824', '27682712', '13795053', '295493', '148345997', '25426861', '58617334', '2962051', '51702929', '18115927', '181489203', '2525984', '17378193', '13417292', '495700000', '5034794', '26570048', '5691854', '165600852', '6618578', '15171475', '33447612', '38564422', '27572844', '749741', '250200000', '41267469', '231711151', '34175000', '129832389', '150000000', '36665191', '26792700', '100833145', '98754000', '101371017', '274000000', '13052741', '12803305', '22331846', '173046663', '63118386', '151947179', '7129670', '76382', '587790539', '27788649', '2883661', '353480', '590817', '2154540', '2922988', '50159144', '6448817', '67683989', '50068310', '1083350', '65303052', '2221994', '4109095', '60527873', '12554569', '302710615', '35450113', '140900000', '3588602', '743216', '169400000', '15155095', '4408420', '4002884', '120100000', '42735', '225933435', '618638999', '224117573', '14010363', '150468000', '250700000', '15600000', '238317814', '298923419', '12836', '542909', '241200000', '178200000', '121100000', '10561038', '14843425', '174463257', '64594061', '315268353', '87949859', '142783718', '131445884', '257938649', '26673242', '1686429', '63706632', '48169156', '41076865', '450349', '5000', '263900000', '35681080', '126204977', '83226569', '62967368', '16011975', '43492389', '33956608', '11532774', '43111725', '7951247', '153007424', '125250091', '12532777', '6504442', '220175', '136998907', '31070412', '413802', '165900000', '8165213', '159356941', '139801290', '13801755', '45916769', '25078937', '51327406', '177993801', '160700000', '80369970', '58250151', '101363301', '10686841', '21277770', '2207615668', '339504276', '61894591', '314111923', '20841123', '5686694', '64252038', '74727492', '1612957', '22411948', '302204', '574838', '554600000', '19870567', '17394881', '16556', '56042592', '11203026', '2080693', '71485043', '152457863', '30331165', '50168294', '54045832', '367582', '33598', '27257061', '45779', '136047317', '32983332', '11156471', '13835130', '56968169', '306715', '39017984', '55576699', '48856', '31716953', '10341093', '4356126', '26146072', '143273', '713413', '10319915', '37226218', '21787233', '72544', '29145924', '27066941', '58809149', '2315026', '264118201', '55041738', '186883563', '38172500', '29203383', '539961', '376000000', '13711903', '10317779', '81529000', '19035741', '15055091', '46189568', '2542264', '116625798', '82150642', '190191646', '4313644', '6451628', '303500000', '189176423', '2301777', '294156605', '77562568', '7756617', '2380606', '103891409', '21210', '10876', '360099999', '233700000', '1147784', '485035085', '19014238', '30143795', '49105766', '65705772', '23047939', '349464664', '8064972', '48585416', '37672944', '244465', '5502773', '131237688', '15064948', '3465703', '16757163', '203134', '8123860', '12069719', '1647780', '1087521', '6121582', '245300000', '26708196', '134624', '70692101', '72571864', '2256606', '22434', '198750909', '285400000', '71743823', '4678513', '68336997', '22852487', '50692188', '5746453', '14623082', '627287', '20268825', '12905901', '6719864', '780326', '18310591', '22921898', '373615', '8969065', '117800000', '34645374', '279500000', '16316273', '19080435', '44650003', '40020622', '250649836', '363095319', '140894685', '6200000', '55193251', '17006158', '69131860', '10513979', '21094974', '164800000', '10020081', '25358996', '146083', '250800000', '218613188', '97709034', '50632037', '56709981', '202173000', '159745279', '40283321', '5045359', '11263966', '7824358', '107752036', '8891623', '11634458', '22591451', '2891228', '30626690', '22365133', '12017369', '54294169', '2627795', '4967493', '1628579', '63465522', '28544120', '240495', '19288130', '85343', '12179708', '3076820', '96398826', '6852450', '602920', '10660147', '2062406', '5494', '35319689', '4741987', '19421271', '64359', '463517383', '60414025', '34105207', '2598224', '99147', '31333917', '6276869', '101773', '73521587', '8408835', '2840417', '6552255', '17202854', '211700000', '4023741', '1152411', '161626121', '4398989', '176885658', '75803716', '28356188', '60265197', '151463090', '36882378', '14395874', '1027044677', '8322608', '617172', '363728226', '11810854', '399793', '33462011', '124304264', '672806292', '836641', '448191819', '149705852', '31341183', '22879194', '228641283', '221229335', '52037603', '416385488', '16304786', '248300000', '104267443', '31770413', '25059640', '34145', '180188905', '97387965', '10571408', '165048228', '310138178', '1027228', '20628', '63200000', '30628981', '6030047', '20741000', '10508', '2899970', '98699769', '11115766', '5825314', '53864342', '10717421', '15471229', '61698899', '10672566', '9818792', '11614954', '2165637', '69582', '28383441', '6026908', '24419219', '234723148', '356258047', '46112640', '117448157', '178287', '9871', '178095', '177835231', '4559569', '229311', '4956401', '310332636', '89441732', '21133087', '2793776', '163644662', '5871603', '290701374', '92935067', '81897', '100851897', '27100030', '6197866', '12678312', '16640210', '17396', '10570375', '1954202', '34572780', '10155691', '2047570', '150350000', '65090541', '32382381', '7680', '10019109', '361730660', '511358276', '207068340', '212026975', '630779', '4485485', '1788168', '36850101', '26613620', '52880016', '5428387', '13508635', '11578022', '17760244', '27151490', '15164492', '9017070', '14271297', '18653615', '1970268', '43948865', '298815224', '87420776', '39251128', '48446802', '6201757', '28871190', '100230832', '47407635', '90523726', '128792135', '14378353', '13038660', '8427204', '8231', '73956241', '60507228', '9821335', '12801190', '4142507', '1425707', '14816494', '195043', '20035310', '411874', '2954405', '18260865', '185577', '173559438', '51867723', '85527867', '53182088', '28773637', '33422485', '23360779', '6291602', '24355762', '15980376', '10672492', '259736090', '39235486', '257805243', '112036870', '91036760', '10845127', '8735529', '65700000', '47881663', '35007180', '161838076', '1638202', '191200000', '128874043', '113916474', '27786849', '267972', '62063972', '45336404', '28674417', '30438635', '886410', '127630030', '27709625', '12591270', '10619770', '59431365', '68079671', '40862054', '5241315', '457683805', '14291999', '18642318', '5422740', '609042', '428535', '356148063', '29934477', '119739110', '549588516', '71189835', '121807', '304599899', '19417182', '2373937', '16628751', '7389233', '9103630', '36751979', '107190108', '21799652', '1687548', '227793915', '149270999', '110719', '215300000', '328711434', '35129610', '71719931', '32662299', '12372410', '69688384', '277200000', '2509344', '296339717', '1157672', '5217498', '288693989', '133946923', '18250106', '15911332', '166307945', '47267829', '27732366', '13061935', '9598', '1179462', '213500000', '62761005', '33771965', '213514672', '83593107', '85911226', '38236338', '10037390', '30199105', '13019253', '90453550', '277233', '232643008', '1167524', '47371191', '15471969', '6615452', '1032075', '38574362', '45557491', '10192613', '12996', '20695413', '136706683', '3134509', '2022442', '106000000', '58394308', '371647', '2652515', '58270391', '33463969', '82339483', '10827356', '31320293', '13719474', '17804273', '109273197', '39852', '90376224', '55696705', '2282710', '11546543', '10014234', '13555988', '47721314', '20097', '342722', '173599', '39778599', '96147688', '62452927', '1161843', '50054511', '90717684', '40435694', '1953882', '927107', '345141403', '96024898', '53425292', '103284813', '66941559', '248099143', '11732088', '59675307', '35795319', '29725663', '21361109', '6982680', '4714090', '2419669', '169296573', '374105123', '152500343', '73180297', '10557291', '80013623', '44567606', '427230516', '66554547', '124715863', '213420951', '18120267', '33000377', '75763814', '5149131', '75078', '208300000', '1375635', '8279017', '38462071', '55762229', '29406132', '94728529', '4221341', '10397365', '20384136', '145238250', '43057552', '892506', '3058380', '559757719', '54207112', '72689126', '174201661', '7890', '65754228', '71172251', '44451470', '5409517', '18708848', '347425832', '165334774', '16521410', '96971293', '79958599', '39723096', '1366235', '2335352', '57753825', '5516708', '27958191', '197692062', '38684906', '27491653', '13558739', '20883834', '435040395', '76654', '200700000', '141189101', '281527158', '39393111', '14249005', '10364769', '54616869', '19585', '6755271', '104505362', '77477297', '21973182', '17292381', '179209685', '491812794', '29544532', '449239855', '16172200', '83282296', '105159085', '68452128', '852206', '36833473', '94596', '10158355', '273330185', '3050934', '176101721', '206512310', '28734552', '235900000', '0', '19929123', '3293258', '27053815', '19317765', '4288246', '22391450', '1140965', '450728529', '1290920', '2684207', '113542091', '141809235', '5476060', '1381824', '365900000', '160648493', '450594', '3747270', '8761608', '362211740', '44452', '186049020', '147080413', '98341932', '9981635', '11919578', '50315140', '62097495', '86607223', '13601109', '64148', '0', '113433', '8434601', '18496522', '33762400', '19693891', '5002310', '58939035', '16017403', '17127', '350100280', '25873142', '56331864', '622273', '19860259', '673780', '70836296', '28906817', '1358', '22861785', '43728560', '6047691', '4273372', '104488383', '30885781', '60780981', '1075504', '13596911', '286500000', '207765056', '1619602', '20541668', '29781453', '68712365', '8378853', '68467960', '23889158', '4690802', '226792', '7503672', '14252830', '30987695', '23393939', '100622586', '85131830', '10097096', '974755371', '2522928', '143049560', '33422806', '14786394', '3575308', '42137871', '58855732', '623374', '17865209', '29823162', '122244329', '71523271', '25116103', '202726605', '71430876', '62401343', '4720371', '15155021', '887210985', '317668058', '37306334', '24515990', '102992536', '31222395', '87683966', '70937778', '24405825', '41300105', '43766463', '159691085', '92542418', '10834406', '0', '8130727', '4814244', '1250798', '114658262', '95092667', '32092', '60279822', '172825854', '116898028', '56438555', '75389090', '1405032', '46060915', '17033556', '408269295', '40363530', '19184820', '3438804', '33076815', '102226631', '109862682', '57000000', '2326407', '23046142', '82150183', '30063805', '30307804', '92723', '27025600', '247740', '821706375', '14839383', '6244618', '441767803', '62432423', '16425701', '9345061', '78948765', '386116343', '103787401', '33649881', '154338601', '12516222', '119841', '8374062', '196308367', '38788828', '80491516', '7974607', '206455420', '25608779', '4606284', '165890634', '56643267', '374890034', '12412889', '14448589', '676698', '16951798', '1600566', '8488871', '63781100', '39241323', '4316497', '656695615', '130759651', '56653', '1840248', '8378141', '106515310', '113622499', '50970660', '3705923', '313436', '193500000', '40796145', '22433915', '34364995', '16830252', '54994757', '5345869', '32531759', '18495444', '77628265', '276294164', '214357371', '1779284', '358824714', '245800000', '13771817', '3281898', '171269535', '13684949', '4613482', '69157016', '73826768', '119721296', '16585503', '36722311', '166000000', '65716126', '2066892', '3270128', '292738626', '16988996', '78353508', '25852508', '52461017', '98983590', '25873145', '4239767', '119114494', '245768384', '29027914', '7094995', '51618420', '14805812', '52223306', '20146150', '12398628', '0', '13208023', '267200000', '26199517', '881950', '13973532', '77063461', '4777465', '206400', '14294842', '1807990', '29882645', '6916869', '274949886', '38067218', '42376425', '9413956', '104429625', '182365114', '6830957', '7000000', '814666', '28972187', '174682', '162605', '248218486', '5204007', '12219367', '2703821', '7777790', '68349884', '22723', '56131239', '184255', '79282312', '1500711', '43308707', '24591031', '43928932', '21657770', '19344615', '12419700', '598645', '28315272', '11799060', '58240487', '878979634', '19233280', '1693000', '5719000', '47329', '9118', '431942139', '26348203', '16193713', '33526835', '91800000', '14970038', '12624471', '16140842', '16866928', '66790248', '63078756', '19947280', '183354514', '37659652', '33436931', '308793', '67312826', '163838217', '107054484', '56398162', '703', '934699645', '23367586', '25344490', '183124621', '199043309', '60694737', '11843260', '267194', '355612291', '31681811', '111854182', '306771047', '97030468', '1562800', '17639', '213137', '33013805', '433058296', '126425115', '7126002', '90723216', '17430594', '32059295', '274299', '47289758', '90396664', '24150550', '1111615', '6460758', '407711549', '55534455', '1011054', '475367', '80767884', '125339088', '182782518', '140122225', '719699', '703020', '12923936', '28920188', '86765463', '12262065', '56434942', '1641788', '563711', '55489826', '131945303', '421021', '1060512', '2013052', '9470209', '16137', '47213095', '58240458', '6882696', '1022649', '75685268', '14933713', '3895664', '58936', '74132631', '42598498', '38283765', '2900578', '3700000', '43797731', '35990505', '97837138', '2255000', '24021282', '23010607', '12657377', '18504539', '39134983', '71232214', '34499204', '4556982', '82183683', '5694213', '325491', '12212417', '220944', '3816594', '11559747', '23734486', '427300260', '456810575', '62646763', '81371', '738576929', '484468608', '936429370', '176262839', '28649556', '236410607', '6148823', '39374600', '160822438', '50409753', '26214846', '55443032', '196067', '121016', '0', '245229234', '15358583', '4922166', '454255', '227200000', '82955633', '178890782', '88316835', '634803', '85632458', '164675402', '6173485', '8133256', '247950247', '220236410', '273271982', '163126676', '14108518', '14156753', '37227', '555335', '157092943', '148715342', '167851995', '353743', '146402', '207154748', '156822020', '68613992', '114576403', '8685632', '9505996', '22108977', '1646664', '15549702', '839145', '119923801', '894030', '254293', '164285587', '25913869', '634954103', '47902566', '95708457', '13203044', '1492895', '80831893', '10070651', '32738814', '57490024', '4234355', '12267275', '101564935', '13134', '121327628', '176469428', '45312217', '13767816', '181798', '123954323', '9438074', '107967319', '3571253', '23693646', '11427090', '155200000', '53293628', '524747', '10051516', '0', '3456602', '195660942', '17005466', '58163', '3809226', '179265204', '1445140', '19800', '212912137', '54540662', '7808524', '133818283', '141484812', '59667625', '155750628', '26703184', '38253433', '77147031', '11131455', '17403168', '74566042', '97413527', '117085297', '1660865', '30351664', '266685242', '63537164', '1545064', '43281552', '1141403341', '141205169', '16157923', '93074616', '90213', '64240813', '95255485', '165173909', '98819789', '190212113', '3396508', '0', '63180', '0', '900', '19123851', '371917043', '102332848', '20034713', '6879730', '173044410', '46176322', '6491969', '16980098', '95638592', '15396525', '6626115', '50811858', '865708', '1971479', '76482461', '99823958', '47313824', '29356757', '42776032', '11234552', '196320329', '6429865', '14469428', '20718223', '33118854', '1610194', '622341924', '40119848', '7573551', '79384539', '96760', '21577076', '16612072', '11540112', '69826708', '223878', '116177695', '92863945', '103452875', '72703462', '8361736', '77392139', '37066129', '181185387', '5918742', '796688549', '153535982', '54533774', '8047525', '130968579', '96439723', '30298347', '493905', '29948322', '16910708', '14566246', '130953026', '2694071', '108086731', '170200225', '614726752', '35195939', '484161265', '12512317', '937008132', '556319450', '49928680', '14553807', '10206551', '1987', '64474705', '65842412', '16959614', '5953886', '10941801', '110536', '217670152', '21758371', '1788324', '1310470', '55518641', '1162014', '72004159', '218673959', '167791704', '0', '111448997', '221148959', '62176754', '116025023', '18524496', '783705001', '31286759', '300150546', '21215882', '62544', '22233808', '203877963', '348629585', '70164105', '3479302', '14441158', '82145379', '288587450', '1033810', '36028802', '96148711', '257641634', '28231444', '18225165', '61950770', '14811980', '841926', '132397389', '172543519', '28762690', '43957541', '65121280', '1348750', '8712564', '70326393', '9355369', '177535958', '630427', '12291975', '17322212', '23911362', '22913677', '26323969', '31635150', '9533964', '89476265', '9408183', '3292333', '49730854', '41666476', '21827296', '56073', '117211892', '463730', '10419084', '30332385', '227241', '125168734', '61475984', '346106', '13353855', '319090241', '362989076', '34806726', '105377', '31425', '118097882', '50948811', '14488705', '70527', '109793192', '187281115', '8655397', '439651', '124823094', '14603001', '103880027', '107212751', '96221971', '208094550', '46122713', '122071435', '331323410', '142051255', '40311842', '167297191', '96469187', '3347647', '69759296', '83529758', '92111551', '28703083', '38329114', '263894551', '24716190', '115036108', '13000959', '7017859', '231928227', '208370892', '212956024', '54344321', '34009180', '8292914', '39686345', '290875', '516567575', '154017885', '36521223', '48563556', '34409206', '18765585', '63489752', '0', '0', '0', '158527918', '41560117', '17492014', '8589831', '229250', '56409722', '76665507', '89955540', '36040895', '98114471', '12604', '123696741', '8178569', '83356', '4930', '6300451', '88978458', '5654777', '53913573', '59918422', '221594911', '33508485', '93631744', '22099706', '25114901', '50458356', '105021488', '13424365', '3553253', '161941727', '25732334', '10468867', '3700', '101382396', '102115888', '96793', '6239723', '1126258', '38351350', '67192859', '47175038', '94944017', '198006880', '15452978', '3099369', '96947540', '310043823', '3264', '58692', '0', '109175673', '466106', '2226603', '162753837', '41921590', '4049527', '375474', '517262', '71073932', '102746214', '1261792', '82698', '109848461', '19287485', '49526', '1695126', '181041', '197593152', '11191423', '155931301', '55842724', '49037621', '16566235', '11745931', '9387581', '848998877', '190320568', '556559566', '1269705', '218853353', '70064800', '101173038', '10514', '359142722', '19535005', '9615464', '4727375', '144110682', '131159306', '47751015', '133276359', '661221', '4857731', '606836535', '92094360', '1322161', '6260', '30491379', '56586901', '18673274', '18991288', '1338', '475825484', '283218368', '87264', '237816', '163018913', '33500620', '20940428', '23591783', '191862', '76416746', '83109359', '58405313', '121671925', '50071069', '102034104', '330717080', '49473093', '1772979', '3252550', '64188387', '177344230', '96666486', '105299638', '27147991', '1069318', '86301599', '18535575', '10393696', '144529078', '44701', '46666955', '720539572', '161510853', '27836366', '177012173', '329621', '100687083', '60437727', '881745', '8284331', '1919197', '15943081', '1549000', '26670920', '214392904', '61477797', '114770654', '17433072', '446438', '129319', '0', '172569', '41982227', '40319440', '15468266', '994790', '49924079', '973613', '4655', '486124090', '69425966', '13174426', '237814327', '1696765', '6435262', '423', '50719373', '22969202', '1415656', '37048526', '54612337', '39498360', '23676771', '16829464', '11758418', '2025032', '4134', '141475336', '15466961', '152925093', '366784257', '55686944', '25269040', '691880', '260700012', '77636443', '28915761', '58545540', '126549607', '57520063', '896911078', '187707495', '92690959', '72359917', '31670620', '9448623', '10597070', '92256918', '92494381', '45273464', '0', '550517357', '13454474', '32952995', '92357499', '203018919', '135015330', '2814566', '131492772', '19891331', '88933562', '26184400', '29005064', '87973835', '17300838', '909822', '37865', '0', '0', '43924923', '7009668', '31517561', '500296', '103509', '0', '46309644', '14321070', '43343247', '42799060', '109843390', '113417762', '11924041', '16553163', '137047376', '128745578', '543306', '3129471', '29197694', '3061763', '145382', '205727307', '11599903', '3260179', '195254', '2797199', '120455994', '85146165', '33913542', '113783', '28058652', '9729088', '63320521', '11537539', '67215435', '65595141', '30962112', '23134075', '22978953', '12051924', '179357126', '261443242', '87226613', '3355048', '130214162', '55279608', '2898225', '40016662', '95204', '0', '185798265', '23187506', '15680099', '3127472', '602789', '651899282', '35417162', '21170563', '12930343', '497195', '4243996', '23471871', '162870525', '118583844', '12740705', '57051053', '10770993', '1985292', '99010667', '178710620', '8267066', '78080697', '94704227', '16510971', '884', '87524497', '30399714', '77635035', '5256839', '18959424', '11322573', '1336', '138711', '397501348', '35869934', '5313608', '8224998', '30443277', '973443', '16235738', '767820459', '343397247', '18828036', '0', '52769915', '459359555', '71644', '3605420', '196857', '6590172', '82241110', '119295584', '289660619', '50517763', '14121177', '38364855', '252726', '157794205', '147985373', '114830111', '99296462', '3177636', '237685089', '32430721', '5361', '374085065', '2077844', '1849392', '51540', '326073155', '0', '65063726', '65390493', '55495466', '18110152', '7301115', '1738663', '1066215812', '7405084', '215559', '101636047', '130402010', '241719', '648183', '141267370', '72785169', '60772856', '27342246', '7033', '100642353', '163818556', '49610898', '40103262', '38164784', '43044087', '759504', '0', '171377916', '205190324', '121032272', '21970831', '62020814', '83792062', '2548378', '143782', '58501127', '20159316', '12669914', '381420', '399908', '461651246', '26716191', '163295654', '49238525', '41457834', '475000', '0', '14816379', '9521458', '19282590', '2401413', '85278712', '15137932', '690872', '49155371', '191932158', '94973540', '17807569', '10243159', '128885873', '158926474', '71052604', '82751189', '112798051', '12667', '87123569', '128402901', '70355813', '42064105', '53572822', '2281089', '6586324', '119452', '6225304', '20722450', '70743839', '41342180', '13725032', '22165608', '2613717', '239962', '84689', '63657941', '104407366', '60862471', '21896367', '8706701', '132121212', '5782198', '163876815', '12506188', '30241435', '110989157', '32575443', '1178175', '4911725', '1297745', '594420283', '385000317', '20597806', '5549923', '4630045', '13447998', '181038616', '46815807', '15461638', '14443', '24906717', '33312', '181674817', '27610873', '38159905', '463039', '4414753', '414736', '249488115', '143985708', '155708695', '307325633', '1308696', '26063572', '156229050', '15118795', '67867998', '76904429', '7818479', '579446407', '43545364', '69845011', '50578411', '133603463', '35891257', '87041569', '19875', '83833602', '0', '5382', '3000000', '219265952', '3922043', '8158', '844377', '86858578', '57263440', '6551310', '0', '69538833', '53774833', '0', '1661464', '83080084', '253555383', '10951153', '22217183', '708272592', '287594577', '267985456', '9352089', '146300356', '229545589', '137984788', '77593167', '11141213', '21851362', '70187088', '442161562', '14334401', '39380876', '786677', '1375194', '26007', '0', '79123', '81461343', '13205411', '25670174', '95538560', '96096018', '20081987', '37466538', '6831069', '635305', '145594548', '890875303', '6521829', '5175088', '7037886', '414617', '118537627', '1237615', '5520368', '81742618', '14140402', '2862544', '9443864', '37923818', '43632609', '8135024', '1420418', '62226214', '194568', '92987651', '22441', '53201', '231450102', '23344056', '807330936', '5950002', '127188', '963420425', '8302995', '50187789', '7164995', '27238354', '288215319', '7755686', '30703845', '456814', '70807', '1217', '174131329', '131263370', '19153568', '36535837', '3858964', '382288147', '626549695', '139317', '0', '71171825', '7729552', '3231251', '900926', '1134358', '240396', '367262558', '129779728', '71248', '200433', '185708462', '203035572', '32030610', '8739576', '527071022', '91943956', '791154', '5694308', '1433319', '145395745', '311744465', '88611837', '33606409', '18209872', '40147042', '25357771', '46790428', '169955142', '234981342', '40686409', '3260555', '1066555', '72260', '16907831', '77514401', '51957', '80583311', '388390', '81197047', '454161935', '92618117', '3438735', '20288774', '63211088', '164051250', '163069', '56077088', '29367143', '79915361', '24489150', '1165102', '221096', '146162920', '15313631', '59183821', '56822960', '13636339', '86509602', '146590987', '65261291', '1513388', '256585882', '137022245', '8902141', '80276156', '26939925', '34352162', '8120148', '1051907', '731767', '473769', '23616', '0', '135759694', '12405473', '20819601', '64232714', '458232', '139084', '942943935', '0', '364607', '194995215', '31077418', '861325', '340384141', '66015869', '12397613', '99135571', '49733545', '57189408', '10642023', '22754472', '32968648', '0', '113325743', '75525718', '74870866', '55307857', '55934178', '11277119', '585532684', '362605033', '2717302', '74180745', '284174', '119512771', '20606053', '155769678', '1537479', '174810815', '128884494', '103429755', '0', '30261293', '25397460', '77208711', '79250193', '22860477', '0', '60865364', '21404122', '0', '0', '0', '0', '6947084', '57577765', '21596074', '70712099', '14253760', '624234272', '405760225', '17589867', '1590246', '6030129', '13881317', '0', '160247805', '171302226', '25044057', '15198', '2350641', '304472', '26170402', '112214531', '52649951', '84646831', '8607815', '11993156', '584604126', '106548738', '2667084', '11263263', '162839667', '223636949', '148586910', '55617866', '17252287', '5394447', '150886329', '30894247', '5295909', '4151836', '20199663', '406299', '43980363', '78269970', '3330012', '12031443', '20052958', '154218168', '7022183', '4504111', '17475475', '33886017', '299477886', '21621188', '39319801', '8200127', '23271741', '49686263', '41975388', '47782426', '115879', '442638', '159846429', '73026302', '11229035', '33512260', '67665', '44513466', '41348628', '101857425', '22910563', '22198996', '16173879', '132999811', '33954018', '895932', '129075270', '105173042', '32955399', '7203439', '3270974', '32033', '64170447', '12850033', '4673377', '43353117', '332120', '46598133', '36497', '10157534', '28452945', '8942516', '417341288', '786558145', '8221700', '1299855', '968805', '415247258', '83051676', '67505', '631910531', '202910991', '27147349', '2476491', '44270131', '102404019', '4815890', '263417913', '162778384', '140016', '226739416', '40123346', '17657973', '3838486', '532590994', '342416460', '269065678', '66143005', '47300771', '2975188', '414404', '0', '599516844', '12345883', '94500826', '44083403', '198883', '1002572859', '615748877', '67029956', '6379575', '243768', '128468793', '68170792', '247474497', '5617067', '8243567', '109362966', '43607627', '34533783', '0', '27794339', '191091250', '401', '77220596', '43530281', '104504817', '68695443', '8767338', '72516819', '71390601', '11778396', '4934104', '5473041', '0', '27882226', '70216497', '36720752', '6176114', '7174984', '93394462', '218535708', '22623', '45160110', '31013349', '44821299', '27911453', '34787111', '29843245', '14319195', '178066569', '9676497', '266967', '4124277', '33473297', '118556530', '17830244', '9813309', '41924774', '212989', '52443', '112964875', '1416046', '0', '85761789', '2412123', '28575778', '10412485', '39984023', '0', '113805580', '43440721', '4453327', '4383538', '274392880', '118209778', '12247682', '2046090', '655538', '36856306', '15318257', '507446', '4294373', '173066', '7484', '13233220', '13248444', '0', '65454793', '57193655', '19174817', '160388063', '50648806', '243180937', '12636', '591692078', '174255', '328015209', '402280159', '26822', '215080810', '168311558', '57293371', '78481410', '168167798', '50103808', '384519665', '233066978', '30118557', '915840', '274543085', '53191101', '0', '564474', '46634275', '90482317', '166617328', '225990976', '329809326', '203902107', '221468935', '247812011', '39006188', '13912289', '79564960', '0', '38585047', '627422', '31631', '3436763', '11738256', '0', '1504960', '5377665', '0', '0', '81338', '0', '0', '374825760', '212282709', '859701857', '0', '52987754', '122213085', '185904750', '45005151', '102836002', '66655938', '1250617', '89102315', '814801', '226941585', '29937909', '34114067', '102236596', '32679264', '18856151', '30360570', '53850527', '92670237', '16349034', '37339594', '0', '18608570', '90508336', '12335036', '77121', '363064265', '17553055', '105103783', '46526243', '4713059', '17329337', '81079566', '186450317', '91729503', '30955', '381687380', '17306648', '42002029', '40127259', '10849158', '166842739', '45043870', '23661038', '9208876', '9791282', '88832210', '139474906', '35472739', '108907', '116773317', '44793168', '38389024', '73964713', '315000', '69548641', '465764086', '10108016', '20465206', '1620056', '490875846', '5531756', '365491792', '402231063', '32092761', '20537741', '1005840', '0', '731542621', '91388487', '109421911', '31916', '126037057', '181053657', '44411527', '1418304', '184068357', '0', '315709697', '26341896', '67348218', '68722848', '49486874', '57604723', '314709717', '35106706', '2194020', '13446115', '836519699', '96673002', '2715657', '49894223', '1396395', '0', '5400624', '0', '0', '4568257', '302469017', '126646119', '22815460', '20122558', '23266821', '935083686', '0', '292817841', '205298907', '78769428', '2828590', '71880305', '59551283', '1635241', '10473836', '385680446', '1365108', '384244', '10172519', '102332135', '205312666', '212453431', '12967829', '15297318', '8297', '316915264', '29870801', '16498827', '6561243', '295750', '997921', '10066366', '187384627', '38512850', '19716', '115150424', '1733532', '78208812', '10732909', '48559999', '172450423', '29830239', '721108', '29652736', '4199874', '52429', '2703762', '17220091', '236827677', '41771168', '1167092', '36133014', '31943401', '1355079', '90909', '19121531', '119668350', '17033431', '50813834', '80227619', '1429453', '194183034', '169173206', '58228460', '27148898', '0', '130788243', '16382538', '0', '99123656', '131159781', '29227561', '9069', '41636243', '19756077', '39753957', '7583050', '69752402', '723388', '1553556', '252091016', '118482', '10629320', '102812', '610776', '12254746', '51733921', '26735797', '156612', '94894448', '124514011', '28142379', '5348767', '788408539', '37472651', '47085064', '1744952', '108996113', '687557727', '119627047', '305705794', '12413949', '17896', '270997378', '62209892', '95104304', '29206732', '1190003', '0', '152364370', '16123323', '10676073', '4731944', '47417251', '2783918982', '53508858', '80480566', '31878891', '443483213', '498438212', '224614744', '64352607', '3620902', '25727044', '15000000', '44195779', '0', '0', '0', '0', '0', '0', '1333891', '0', '0', '0', '16909', '14812', '0', '493214888', '319713881', '67950723', '310891', '224922135', '28773827', '28270399', '1022453', '0', '172867', '158750817', '46752858', '15696146', '5922292', '112610386', '15826984', '67647574', '208163', '3824868', '1160', '82812456', '102645', '0', '38899792', '60831067', '85527', '117796', '13722', '115592', '299461782', '65532491', '52339566', '109383', '106466', '44462', '55909910', '56445534', '318623', '19910624', '2721096', '43603990', '46370970', '310946', '11574', '8514325', '873617', '331266710', '23014027', '135808837', '18195238', '76954311', '5278632', '8173486', '0', '494870991', '65967750', '11831131', '46488', '133411', '92678948', '95572749', '89895930', '91455875', '26857459', '557545', '22139590', '97531134', '48977233', '3931367', '3541565', '1353296', '40527719', '86787530', '75281179', '29863840', '42226657', '117729621', '39340177', '18726300', '458054', '12023606', '340930', '4570178', '53139168', '142033509', '0', '148826', '1025491110', '39233233', '3582797', '0', '321887208', '211739043', '38017873', '60217171', '2436111', '322241588', '82148538', '21867665', '883887', '12232', '756244673', '4360548', '8629895', '17155193', '828', '294680778', '314594597', '38992292', '11756922', '16515203', '101740', '170936470', '165889117', '4127619', '17704131', '1069818229', '11022696', '3617277', '15132211', '10062896', '100280', '258751370', '272223430', '1903952', '1373407', '706102828', '146149', '623561331', '6537179', '217986320', '832584416', '731613', '531806', '290650494', '27469621', '281447', '32961', '114979922', '86796502', '48478084', '10828305', '492108', '51445503', '32618920', '19685588', '105887837', '60376247', '16727470', '4065020', '1642939', '6632950', '7799257', '7785229', '1278471', '48056764', '268268174', '206598789', '8078683', '81424988', '97799865', '83660160', '49858465', '25941437', '24719879', '23347469', '70587268', '7885048', '10024', '70165900', '47707417', '152269033', '2481925', '3237452', '118666', '740932', '543495033', '127234389', '18527766', '36275469', '11173718', '152566881', '48958353', '63354114', '76200721', '16038343', '34247816', '139716717', '137431619', '32838945', '1467278', '636706', '21270290', '1595168', '295874190', '6812530', '282687', '59795070', '418186950', '278731369', '277943', '129262388', '196439693', '105246941', '171685793', '157002', '11826980', '2595644', '433588', '9812', '177512032', '133735284', '355919', '5314194', '5639730', '64733391', '177241171', '351774938', '16131551', '10679', '960283305', '67255916', '15644196', '586581936', '20466016', '90552675', '102716321', '35792945', '430821168', '142634358', '223050874', '217569328', '42355526', '97523020', '48680977', '56506120', '21410546', '25572', '169511609', '78693371', '424149', '400062763', '49628177', '204774690', '2272186', '6205034', '310650574', '252276928', '20601987', '17023121', '232017848', '8609949', '20005613', '16566240', '53048539', '71594792', '9445081', '15037867', '18872126', '0', '0', '0', '0', '0', '0', '0', '0', '0', '0', '188657593', '140428499', '164247', '15867314', '120016', '0', '593933', '99870886', '680914', '61449135', '39686769', '51587', '229155503', '70546865', '8845575', '41914', '149228078', '76347393', '97143987', '24687524', '32209741', '26517819', '9330465', '20412841', '146195159', '136123083', '82332450', '87173475', '41042583', '46263525', '2430735', '0', '355408305', '14314407', '4581937', '0', '0', '87145086', '101162106', '155564919', '9662214', '89758389', '73695194', '408159', '104283753', '52545707', '245504574', '126931325', '7576604', '38028230', '13168809', '8208594', '150422946', '36265745', '1148578', '487519809', '95989590', '15907411', '116809717', '53345287', '11633427', '679482', '783733', '629969804', '23353111', '6093725', '10763183', '482860185', '75835124', '84154026', '289527030', '382946', '2821010', '182358', '1045663875', '162838373', '13465', '664837547', '586464305', '61721826', '35122948', '449326618', '4020990', '65084116', '5046038', '38158601', '834953', '219535492', '189624452', '1989035', '1230542', '560155383', '215448997', '1884251', '9261711', '0', '1123790543', '91126600', '263880341', '8593154', '77735925', '1217307', '1341511219', '50145607', '11348205', '28468', '370569776', '146595891', '25480031', '2102779', '175910315', '563749323', '147142328', '2406666', '6459183', '21197454', '1239174', '3709', '26121638', '47787943', '65343694', '47158652', '1869928', '170805525', '212417601', '5297411', '1131261', '63356133', '40520649', '80681183', '59168692', '87793', '2404639', '25935', '184705', '842693', '72295262', '39126427', '229653', '25861249', '29384', '958978', '46604054', '137551594', '24215385', '2529395', '331000', '5073', '2151887', '7712436', '84606030', '146850273', '38749404', '81452811', '22750356', '0', '11253821', '24474463', '78054825', '2772511', '295492', '65409046', '111300835', '96068724', '86648359', '3721988', '1983596', '1577585', '41642166', '30163785', '623292', '41334735', '5476793', '4972016', '35185884', '0', '257972745', '5706638', '213120004', '7684524', '27501814', '786532', '62989834', '3505823', '139877913', '164539660', '1891936', '13480196', '202053386', '313230', '20433227', '5438911', '554987477', '21544732', '165103952', '15815509', '3731489', '214974953', '193737977', '36054706', '99034125', '7862131', '372239', '7826', '3632', '39549758', '213463976', '91678442', '1188194', '39475', '150519217', '211562435', '21817298', '175507800', '157956466', '689420051', '978527', '180047784', '149717124', '160971922', '14807531', '34240572', '128256712', '0', '155011165', '40966716', '17462398', '694713230', '535663443', '349088523', '38112154', '239373970', '373993951', '8539003', '118729073', '509193', '156815529', '55247881', '62831715', '24426169', '1828400', '20927794', '3149', '0', '0', '0', '7033931', '0', '0', '8555', '401021746', '10026255', '12302', '26608', '96734', '573068425', '31157914', '98406855', '115592104', '10765283', '156362', '4584', '98227017', '160379930', '50365498', '36374700', '1049641', '36197221', '45688337', '81249176', '350976753', '103028188', '223652', '496511521', '160558438', '94812', '22018988', '156974557', '149217355', '151496097', '24159934', '35579177', '82497035', '25268680', '128955898', '123681790', '0', '462206', '1011535', '0', '757890267', '0', '211856088', '77229695', '3787689', '202812429', '4708127', '8446952', '0', '442550', '0', '677923379', '9297407', '5391992', '305270083', '173613482', '0', '0', '1519479547', '1100287', '10431506', '134639780', '54052249', '70768144', '33943049', '0', '595018', '30905', '96633833', '113373764', '1200346', '136143605', '41495213', '61623819', '30601801', '10106975', '20188740', '7396', '429448', '32700439', '377807404', '81150788', '3522153', '2721534', '15091', '180148897', '305218228', '120925697', '22744132', '56491', '0', '654213485', '68582095', '484873045', '42411721', '101759490', '0', '236799211', '1324299', '80594860', '61031932', '58085235', '3090593', '554606532', '137489730', '74326015', '11766959', '23265132', '556016627', '66950887', '12519804', '170549753', '25361206', '16369708', '86051320', '12577401', '0', '1673635', '14683763', '879765137', '14518884', '33349941', '0', '1084439099', '1109276', '67130045', '165552290', '4659110', '746921271', '402448265', '4422318', '133085295', '1110526981', '55249159', '311979256', '108119662', '24660323', '6924321', '4934356', '830700', '17216955', '31393201', '48530887', '10637281', '5966671', '0', '54393637', '1065907', '82925064', '1386088', '282778100', '20790486', '16610760', '0', '273346281', '10447579', '0', '17241', '238940997', '58792011', '17967746', '35830713', '36751984', '0', '47818913', '41467606', '57586606', '33069303', '44103982', '378505812', '170466405', '5714913', '116044347', '314444', '208542162', '318146162', '197618160', '280355920', '104907746', '4230426', '35426759', '140619520', '17061', '11495204', '130673154', '55975672', '8300821', '11166615', '9109597', '2436', '238202668', '10212403', '5806666', '829724737', '71004627', '236412453', '25307405', '306900902', '607987022', '48164150', '29393634', '39238443', '8890094', '227140757', '73239258', '33035736', '3336053', '87727807', '236806', '1017003568', '0', '134612435', '41294674', '36787044', '217370736', '169590606', '90221182', '28012862', '449948323', '442169052', '120832383', '60680125', '73706', '34454631', '0', '0', '0', '0', '0', '0', '0', '0', '0', '22597969', '115121608', '0', '2592308', '197687603', '1199510', '42195766', '9376444', '12079308', '7838405', '25448707', '549632', '63555', '127983283', '110387072', '89309178', '60611845', '0', '34480045', '48330757', '148095566', '214949716', '48543388', '31164747', '4917', '112914167', '0', '260002115', '132493015', '6916951', '62375', '304249198', '60282876', '94050951', '74156610', '57907734', '4327', '27704111', '4728896', '1215392272', '3623609', '173472', '0', '975216835', '32327255', '26387039', '27392609', '69821476', '31149251', '0', '150562164', '9313302', '18733666', '375740705', '64477051', '47011449', '47666013', '9300336', '0', '695941797', '60512680', '2507159', '0', '0', '15434375', '27000381', '152449', '287916633', '1541131', '2940411', '2859955', '48425971', '81275291', '528731', '31556959', '97778356', '22594052', '1632', '413733', '26853810', '0', '467381584', '18309793', '11267511', '47469', '362000072', '789300444', '262794441', '23283672', '251499665', '342769200', '50827466', '3027956', '94763758', '61847', '20898221', '32943247', '261364', '667999518', '5892466', '743588329', '531514650', '0', '0', '0', '205440387', '229727774', '13593473', '1778', '93672764', '91266581', '200859554', '267816276', '0', '286896578', '79076678', '137162560', '318000141', '440821', '4494560', '501289', '1268346', '416456852', '102912961', '285593', '4128828', '348547523', '2141436', '175361578', '66742138', '0', '10137234', '490359051', '19599974', '0', '644602516', '76086711', '16173593', '177025498', '63129909', '43402515', '1075009', '35017', '75965567', '57987299', '47508505', '5617460', '407100', '2602', '11813989', '68541786', '100486616', '0', '286192091', '238059569', '51078541', '161921515', '28864', '25621449', '113402302', '98230839', '16723377', '21970000', '274392649', '9082906', '22885836', '41268579', '351040419', '9307166', '103735965', '82409520', '6154172', '181025343', '10386814', '0', '71009334', '160903019', '0', '0', '104100903', '56178935', '59922558', '220648184', '18273009', '22937201', '1960521', '171962', '72835710', '24761360', '29549145', '1933829', '1274234980', '864868047', '70536870', '98963392', '51695362', '7285135', '29890402', '97470701', '78613981', '123407', '126539117', '411002906', '247023808', '17549645', '960366855', '257878294', '114962525', '52543354', '172185754', '130580730', '151716815', '391976723', '188536838', '69807260', '50738810', '143490', '30051905', '0', '1844228', '0', '4454853', '0', '0', '0', '0', '552614', '0', '0', '32927', '0', '0', '0', '771100771', '33339868', '1705908', '131377412', '122529966', '153733800', '36146087', '74575290', '15206330', '14189810', '53068955', '1857458', '708996336', '15298355', '42557', '87956618', '93931360', '42174545', '22468620', '34718173', '50445860', '108469033', '38959900', '222383055', '70949793', '12231500', '86362372', '368567189', '20769209', '0', '256873813', '1945420', '52501541', '194169619', '7843145', '3485383', '3648', '276014965', '79312301', '2923959', '1069454', '63777092', '59424', '352831065', '18376443', '3496', '0', '714401889', '7229933', '11774', '100919111', '103039258', '21206861', '195111193', '73421224', '435168', '10392666', '59696', '668913307', '0', '529076069', '39217912', '7585011', '747862775', '127990741', '758536735', '86778557', '12342632', '370541256', '307166834', '1200000', '3324070', '18823', '616102924', '331333876', '3180252', '16653', '3440939', '20056', '65282732', '70027933', '0', '1104039076', '88069880', '68838736', '82780', '0', '158702748', '457729388', '0', '269806430', '330780051', '164350409', '1158877', '652127828', '123327692', '109144', '0', '156399644', '126069509', '111534881', '6591365', '852399', '0', '243388614', '457507776', '17360801', '36068890', '30312', '0', '485004754', '156602194', '94270488', '0', '136890774', '209461378', '55090374', '78948', '12848', '0', '39499349', '0', '30138912', '78356170', '0', '34820335', '0', '41824066', '59656', '20107933', '270944428', '10537341', '1156309', '0', '0', '348319861', '62108587', '41296320', '1821983', '72277', '35688', '111946251', '192903624', '552641', '927074', '242443', '58953319', '149804632', '0', '48531242', '78122', '1822', '220241723', '76119388', '101379287', '29050', '54837234', '17499242', '6656705', '33474334', '6049171', '38718031', '210253368', '97651543', '41059418', '103215094', '567219', '236863', '9837', '76235001', '103683342', '549185', '0', '19563579', '50334418', '177507', '0', '0', '493738435', '29276904', '23910210', '44115496', '373375', '0', '710644566', '57273049', '0', '13486', '0', '156553592', '0', '3442853', '3168858', '14618727', '0', '766652288', '2636', '0', '367650911', '105945357', '227773686', '288757', '242981799', '0', '0', '57824533', '54323210', '19054534', '851690', '5797192', '9111', '0', '268314513', '8692898', '25514848', '955119788', '356546621', '139840525', '25187026', '163527824', '547326372', '203502372', '27317872', '173613', '196090', '6071433', '4668109', '0', '0', '0', '0', '0', '0', '450', '0', '0', '0', '0', '0', '0', '0', '0', '0', '0', '0', '0', '0', '0', '0', '56758138', '1404705868', '440160956', '123709460', '3471', '0', '0', '0', '428923', '25199891', '0', '0', '0', '0', '0', '19548419', '259541430', '80171596', '41699612', '2243', '40262', '30396134', '32544', '24956', '17561100', '52819253', '0', '929157', '32248241', '21571189', '35919', '4854356', '288751', '663851905', '15505922', '1732228', '404561724', '570998101', '147299', '0', '15156', '45707924', '12452601', '43528634', '0', '13524', '0', '0', '154362963', '35341814', '760678', '17503', '0', '0', '0', '0', '1516748684', '46225326', '0', '534551353', '66961644', '11106', '11894', '20649774', '0', '135436', '0', '0', '0', '295279072', '13644292', '7501132', '14305540', '0', '3234', '0', '386069390', '106511453', '13423176', '0', '0', '122519874', '69698495', '379161', '0', '62076141', '61788393', '1080428', '0', '0', '3434330', '107597242', '0', '62561449', '7193', '0', '0', '0', '69057415', '0', '129115', '30864649', '17684355', '478595', '17224539', '863895', '0', '233125712', '168832', '565801', '120678444', '0', '101937062', '370742166', '287130801', '0', '7556', '1036', '0', '0', '207283457', '95825125', '53086', '3301', '0', '469590832', '24935799', '774905', '181982519', '110623265', '311594032', '0', '105002056', '12819501', '90384306', '113169', '0', '879620923', '250474038', '92217729', '853707581', '18190831', '797439', '1165996', '0', '217022588', '43658157', '1973945', '0', '34246770', '45431', '0', '0', '167117548', '41148679', '58978653', '2279959', '518602163', '140949327', '8799', '0', '244126300', '94207861', '14999638', '85512300', '0', '100655892', '700868363', '357687', '101531', '8374', '45680201', '74056184', '1242', '597989', '0', '0', '0', '105445109', '202043881', '17856688', '0', '2053330', '0', '81967450', '28208085', '54104225', '0', '5858', '42844516', '0', '73975239', '10166209', '3048209', '3256', '327656424', '66776908', '32572', '0', '0', '123888320', '35579007', '6553186', '0', '221662676', '310697192', '98837872', '78571737', '2791973', '4254', '470751398', '197232734', '0', '12931569', '2105', '0', '0', '0', '0', '0', '61173364', '0', '0', '91116', '314073', '0', '0', '0', '0', '63802928', '38976797', '324218', '6870', '1167245366', '26736665', '33713827', '161097', '41753881', '0', '0', '0', '0', '158905324', '75466595', '162610473', '6832542', '36262783', '0', '0', '131234406', '34044909', '78096553', '2368937', '481525', '1711', '0', '0', '0', '8592432', '32632668', '14883495', '14947243', '0', '0', '0', '60264805', '98595211', '4816142', '14616', '90420758', '0', '133162752', '0', '26', '28400715', '2246000', '3727746', '42167286', '3324184', '650523427', '52427346', '42642077', '30808558', '103962', '0', '42503', '334342692', '33175076', '173567581', '1671640593', '9266180', '2058662225', '249520430', '106030660', '0', '0', '128131571', '145443360', '101134059', '238757137', '50363790', '5531455', '4547660', '182156', '0', '141661', '3454036', '0', '0', '1391410', '0', '0', '0', '0', '8200000', '926', '0', '12444', '0', '17721', '8462', '0', '0', '0', '0', '29827', '0', '0', '0', '0', '23565072', '9097072', '349143061', '154110769', '118557124', '11354230', '69411370', '124827316', '27392196', '0', '0', '386096060', '110678636', '156835197', '99930262', '68220952', '518614384', '48197252', '2976636', '20765353', '0', '19450780', '7315248', '2199', '0', '25077411', '552198479', '46164361', '0', '22178125', '40454520', '133553464', '45121177', '25943792', '245623848', '205445075', '9537120', '29233', '169242', '0', '73798720', '171484051', '6841142', '868160194', '91651878', '5437126', '1019922983', '193857962', '24915969', '7943', '677541920', '344780046', '158701644', '963901123', '38771262', '54404202', '6784', '3807503', '165149302', '7445044', '510957', '11813410', '20609977', '0', '194058503', '16311335', '64171419', '2124005', '746100054', '49196532', '93469699', '10898293', '352829528', '57261763', '108758521', '0', '542742489', '277442381', '1151684349', '7714549', '0', '10237239', '1022617376', '217196811', '387644286', '23152062', '118888025', '3559803', '5100863', '23014021', '0', '170327930', '16084310', '23311425', '18329653', '229034050', '13099931', '336398312', '403841637', '148868835', '4417983', '61680792', '416197059', '181457297', '532950503', '40055439', '182695', '1769316', '78652395', '354836', '875958307', '75909673', '0', '88725100', '74545591', '83034523', '4754517', '158185073', '2000093', '238552082', '30629507', '150191', '91342494', '433574208', '34301950', '203555567', '37493221', '159762983', '174102281', '24041617', '113611666', '296642834', '433125655', '328675540', '311270008', '5653176', '153060045', '23591043', '3330', '160038407', '73206343', '81831866', '55800987', '2082980', '219572877', '28721408', '7313697', '34916128', '108286422', '9669521', '63014', '203178872', '25863458', '1079040', '42141196', '8457974', '803798342', '30719170', '0', '6248077', '18802255', '75740479', '8370555', '639537208', '3871448', '5823540', '145712897', '90905178', '801029249', '55348693', '99595932', '137768975', '44267641', '140428314', '37584304', '1050988488', '85315070', '240497948', '302211243', '627886287', '44383030', '16149791', '117523786', '21778555', '229518131', '0', '0', '9969237', '0', '0', '0', '61681268', '25863405', '345114933', '18301418', '276841585', '307353906', '189922583', '3547', '22273', '785964691', '87098466', '331775766', '40287017', '4892', '20830546', '5278519', '606162', '251359904', '82991460', '35312', '615577068', '1260122363', '42067430', '10744134', '140845191', '100993260', '23190697', '492557218', '167918847', '0', '1237444462', '1480089', '10020889', '15668012', '3565109', '184075552', '43326383', '33907844', '858470006', '58807172', '35409686', '45921140', '169740988', '776037086', '45095823', '54855235', '41015970', '568923844', '139359078', '823755831', '30576502', '27561', '197242826', '78714211', '638087983', '225986078', '19379463', '52573132', '235907054', '69290699', '27366288', '23095325', '130874', '48048527', '0', '36630', '397644453', '17250101', '310940997', '376856949', '166893990', '561137727', '140012608', '57850343', '0', '0', '0', '0', '0', '0', '0', '0']\n",
      "(5391,)\n",
      "['10000000', '0', '8000000', '3000000', '11000000', '9000000', '0', '2800000', '0', '900000', '10000000', '2000000', '1438000', '2500000', '1782000', '163245', '2868000', '0', '184925485', '4000000', '4000000', '9000000', '33711566', '198680470', '9172000', '6000000', '83320000', '0', '102797000', '4000000', '10462500', '5363000', '3500000', '2000000', '9132000', '11000000', '7000000', '6600000', '24464742', '23600000', '20400000', '7800000', '2956000', '9012000', '5400000', '7800000', '85000000', '8000000', '30000000', '7000000', '0', '8000000', '11000000', '8000000', '36000000', '7200000', '2500000', '87400000', '30500000', '5000000', '36000000', '23800000', '15000000', '9600000', '28200000', '7000000', '0', '12500000', '10400000', '14400000', '9000000', '0', '80000000', '42000000', '271736', '0', '2000000', '11000000', '0', '33300000', '17570324', '11000000', '12800000', '25000000', '73000000', '21750000', '18600000', '10400000', '30000000', '7900000', '8200000', '10000000', '5000000', '7600000', '43700000', '8000000', '9250000', '39100000', '13680000', '3500000', '37495385', '13129846', '10000000', '6600000', '10000000', '37600000', '46300000', '16067035', '11744471', '57000000', '4750000', '9164370', '24800000', '102300000', '72000000', '1537860', '51100000', '163214286', '15473333', '6800000', '14873', '111721000', '63600000', '12000000', '13000000', '34562222', '28350000', '13000000', '3500000', '24379978', '22744718', '43100000', '4300000', '6100000', '2620000', '12000000', '56700000', '6800000', '44566', '33395426', '0', '37402877', '33395426', '8000000', '44785053', '5321508', '509424', '13500000', '31678778', '102308900', '33208099', '22800000', '6000000', '0', '5000000', '62500000', '2200000', '81600000', '9000000', '34505110', '3500000', '17489009', '24911670', '29548291', '80500000', '12376563', '12300000', '15200000', '0', '4000000', '41158757', '43800000', '9700000', '134966411', '12600000', '45000000', '3100000', '0', '18016290', '8800000', '8000000', '35400000', '15700000', '115000000', '18344729', '159616327', '202347346', '119500000', '26533200', '4420000', '26572439', '57300000', '31559560', '86300000', '116000000', '15000000', '21000000', '20000000', '0', '41833347', '260000000', '140510017', '3427696', '20123742', '108981275', '25000000', '23689877', '887000', '36145695', '48570885', '28262574', '13200000', '8000000', '25878153', '117235147', '52614445', '17000000', '7000000', '36000000', '38251425', '1000000', '460998007', '50800000', '25011000', '13800000', '12000000', '46800000', '15000000', '0', '166000000', '31063038', '1000000', '19000000', '32653000', '20388920', '102922376', '181813770', '98800000', '141600000', '3446749', '47000000', '13000000', '134218018', '7100000', '50000000', '391942', '5100000', '7000000', '80930630', '22673340', '76657000', '43000000', '70300000', '14000', '29200000', '82258456', '78800000', '20008693', '37799643', '8400000', '34175000', '35841901', '1500000', '31899000', '8000000', '10000000', '21378361', '7000000', '9709597', '26010864', '8750000', '83453539', '27107960', '15198912', '89134', '290271960', '44017374', '4865000', '15716828', '57229890', '2000000', '47923795', '67182787', '39846344', '39754601', '52302978', '287000', '69847348', '23380203', '3484331', '49823037', '2110050', '23894000', '12200000', '50000000', '21722776', '13400000', '42488161', '37400000', '108185706', '54800000', '6000000', '85300000', '19571091', '13747234', '18826490', '5732587', '35856053', '19032000', '57159946', '14600000', '17985000', '25244700', '25533818', '2000000', '2104164', '248159971', '30000000', '31672000', '6000000', '24474312', '6118683', '7000000', '12592907', '20659423', '109492484', '78912963', '74706019', '38264085', '24600832', '45785720', '32656328', '5675599', '69701637', '52767889', '53977250', '27092880', '36690067', '10751126', '6965361', '3707583', '26918576', '4408636', '11487676', '20036244', '47212904', '14400000', '435110554', '255000', '20959585', '177200000', '126387', '10143618', '74433837', '25697647', '2120439', '90463574', '12232628', '2400000', '309205079', '59950623', '29500000', '55500000', '61400000', '1246141', '909000', '44942821', '8921050', '67900000', '21500000', '20766000', '589308', '39012241', '20605209', '5321508', '76471046', '2300000', '80000000', '13075390', '81198894', '32980880', '5269990', '234760478', '179880271', '90815558', '26400000', '21300000', '242212467', '148168459', '5778353', '4700000', '62599495', '5142858', '25504513', '51973029', '8801940', '38019031', '15136870', '25928721', '27447471', '27187653', '0', '21163999', '1690913', '212259762', '210904', '33000000', '21930418', '35073978', '19739000', '150415432', '50327960', '390659', '10618813', '11603545', '6905861', '41410568', '5804262', '65532576', '14237880', '17536256', '33200000', '36230219', '11052713', '10803211', '18400000', '79096868', '93589701', '9929135', '0', '1641825', '11100000', '16295774', '19472057', '1953732', '6734844', '2000000', '12947763', '15502112', '1500000', '1305114', '179800601', '4884663', '49851591', '5900000', '20966644', '85160248', '52287414', '7137502', '8025872', '2315000', '174803506', '41382841', '52293000', '109713132', '79817937', '38747385', '137963328', '7369373', '3147950', '4000000', '5228617', '3000000', '14000000', '14792779', '44793222', '76270454', '5923044', '800000', '1355728', '14375181', '153665036', '65192350', '5899797', '0', '38119483', '15728335', '53424681', '11227824', '54215416', '51185000', '32222567', '4600000', '156645693', '14564000', '30857000', '43848100', '38122000', '43984987', '7888000', '167780960', '59735548', '123922370', '16118077', '17768757', '3468572', '9205924', '11806119', '114968774', '73326666', '354704', '13000000', '1705139', '19170001', '53715611', '109306210', '154112492', '81350242', '38413606', '7282851', '49369899', '33244684', '13854000', '111936388', '14114000', '12793213', '48092846', '59450353', '20257000', '14545844', '44726644', '8373585', '172825435', '34700000', '10763469', '95860116', '40485039', '7190505', '24741667', '57469179', '30050028', '197171806', '251188924', '26004026', '49793054', '34667015', '92823546', '6157157', '14343976', '14533681', '10161099', '52210049', '54243125', '58571513', '45892212', '11642254', '22168359', '60857262', '118450002', '26593580', '106593296', '10555348', '70001698', '6706368', '63408614', '419428', '119394839', '16667084', '120709866', '882290', '117323878', '16153000', '2938000', '178406268', '135265915', '15000000', '88055283', '41476097', '103738726', '82670733', '53976987', '217631306', '53208180', '184208842', '26904572', '46743809', '4372561', '61308153', '21413105', '5835247', '20423389', '285761243', '28317513', '91457688', '66520529', '0', '2000000', '2275557', '55000', '2712293', '34416893', '15024232', '321952', '1227508', '14471440', '34729091', '201858746', '130726716', '78656813', '9286314', '17218916', '74888996', '165493908', '86930411', '37537675', '5017971', '7018525', '773490', '29090445', '34872033', '41798224', '6401336', '8824553', '19438638', '349618', '119654823', '218951625', '79091969', '113502246', '58011485', '43218387', '56190094', '70405498', '74787599', '81204830', '5430822', '70052444', '107533925', '19487173', '50752337', '121697323', '4651977', '14358033', '52929168', '26124872', '1526697', '83287363', '144731527', '54927174', '32100816', '162833635', '44948240', '101157447', '21171695', '58422650', '14231669', '1050861', '75505856', '10725228', '21706101', '2832029', '217350219', '141340178', '27281507', '82522790', '48169910', '173585516', '121945720', '62546695', '23365858', '21000', '673', '68856263', '1001437', '36299670', '22189039', '24103594', '11502976', '2040920', '6730578', '42273609', '4496583', '9579068', '27979399', '10696210', '22954968', '1152117', '27731527', '84049211', '20844907', '183875760', '50016394', '158340892', '22549338', '39360491', '77698625', '27450453', '10731997', '15935068', '3273588', '39100956', '32014993', '7950889', '3902679', '12281000', '395708305', '219195051', '2119994', '70906973', '242623', '40157856', '96067179', '100768056', '77324422', '56505065', '9170214', '25842377', '16581575', '31835600', '38590458', '18272447', '24172899', '122012656', '51041856', '72217396', '3275585', '22006296', '7881335', '8864699', '4333569', '13024170', '42586861', '130531208', '11744960', '330151138', '422780140', '65011757', '25052000', '57362581', '146282411', '92115211', '119920129', '126247', '418953', '52700832', '83015089', '44853581', '28241469', '5046118', '46815000', '5828466', '121248145', '107928762', '18090181', '7768371', '3073428', '13383747', '71565669', '2816518', '305070', '105264608', '144833357', '3046086', '75671262', '19284974', '29317886', '127175374', '38087756', '50003303', '33423000', '66502573', '44342956', '125169', '4064333', '56598476', '529766', '21089146', '13738574', '5274005', '71516617', '7555256', '11497497', '17468887', '2461628', '63658910', '23998226', '14942422', '27467564', '100012499', '75545647', '11784569', '100328194', '30306268', '184031112', '2210408', '34687912', '172070496', '31390587', '22032635', '65647413', '37361412', '60054449', '50024083', '35627222', '7412216', '88246220', '50621733', '23341568', '70433227', '669276', '25532388', '81022333', '10426506', '20350754', '100125643', '21284514', '15126948', '18552460', '67823573', '141579773', '108360063', '10359006', '9812870', '72021008', '2108367', '32051917', '19637147', '31983777', '42993774', '60022813', '106429941', '35324232', '42438300', '191796233', '91387195', '2794056', '2844379', '100458310', '53458319', '13668249', '10017322', '4301000', '57141459', '82582604', '4100000', '39387284', '2684904', '0', '51045801', '527', '46338728', '1212799', '25728961', '22730924', '10229300', '306169255', '21226204', '22231658', '20278055', '38623460', '407488', '5707094', '2483790', '32281907', '34873513', '24769466', '5656388', '56679192', '4880941', '14853474', '30356589', '20404841', '3357324', '3802260', '25857416', '1320043', '10039566', '2104439', '104636382', '20080020', '180981886', '26936265', '51364680', '4357406', '36049108', '32908290', '9725847', '60240295', '101295562', '100138851', '12961389', '128814019', '33109743', '134069511', '17220599', '20133326', '1287480', '17192205', '16501785', '108766007', '25023424', '15382170', '304602', '24567751', '136492681', '18582965', '53854588', '1353824', '27682712', '9482579', '295493', '70645997', '25426861', '58617334', '2962051', '14102929', '18115927', '105489203', '1652472', '17378193', '13417292', '241688385', '4198137', '26570048', '5691854', '53300852', '4505922', '15171475', '33447612', '38564422', '11092559', '749741', '90463534', '41267469', '78716374', '24475416', '60592389', '92027888', '35811509', '26792700', '59003384', '659000', '37771017', '153952592', '13052741', '12803305', '22331846', '103046663', '63118386', '50047179', '4501094', '76382', '250690539', '24646936', '2883661', '353480', '590817', '2154540', '2922988', '50159144', '6448817', '53883989', '50068310', '1083350', '41954997', '2221994', '4109095', '60527873', '12554569', '181410615', '35450113', '42885593', '3588602', '212285', '61363304', '12006514', '4408420', '3602884', '47546796', '42735', '138433435', '229086679', '101117573', '14010363', '48097081', '99112101', '9054736', '107325195', '126813153', '12836', '542909', '112276146', '67163857', '54768952', '10561038', '14843425', '105263257', '44480039', '172956409', '54979992', '76118990', '37945884', '45950122', '26673242', '1686429', '44906632', '48169156', '41076865', '410919', '5000', '63570862', '28681080', '64604977', '63826569', '41263140', '8038061', '43492389', '33956608', '11532774', '26410771', '4306697', '61007424', '72250091', '12532777', '6504442', '220175', '65598907', '28084357', '413802', '100920329', '8165213', '54956941', '58403409', '13801755', '45916769', '25078937', '35927406', '92993801', '47795018', '48265581', '44212592', '101363301', '10686841', '20733485', '658672302', '125304276', '61894591', '148478011', '17650704', '5686694', '43057470', '39673162', '1612957', '21567853', '302204', '574838', '201578182', '19870567', '17394881', '16556', '29342592', '11203026', '2080693', '55485043', '90757863', '30331165', '37068294', '22619589', '334041', '33598', '14435076', '45779', '69117629', '32983332', '11156471', '10162034', '56968169', '306715', '39017984', '29795299', '48856', '12716953', '10341093', '4356126', '146072', '143273', '713413', '10319915', '21541218', '4595000', '72544', '29145924', '27066941', '11911200', '2057193', '125618201', '55041738', '75383563', '22772500', '26528684', '537948', '136314294', '10680275', '10317779', '60110313', '19035741', '15055091', '17498804', '2542264', '40934175', '30082699', '161491646', '1053788', '6451628', '120620254', '83898313', '2301777', '144156605', '37562568', '6719300', '2380606', '55591409', '21210', '10876', '176484651', '93828745', '1147784', '216335085', '17507368', '19843795', '44705766', '65705772', '23047939', '140464664', '8064972', '23385416', '37672944', '244465', '5502773', '70141876', '15064948', '3395581', '16757163', '203134', '8123860', '12069719', '1647780', '1009819', '2652246', '141186864', '23337196', '134624', '41610884', '38116707', '1793359', '22434', '78750909', '130444603', '55143823', '3221152', '46850558', '22852487', '32404188', '2746453', '14623082', '582024', '20268825', '12905901', '6719864', '780326', '18253415', '22921898', '373615', '489220', '70187658', '34645374', '100317794', '16316273', '17105219', '44650003', '40020622', '111549836', '162798565', '100494685', '5078660', '24793251', '5969553', '18319860', '10513979', '9949470', '74339294', '10020081', '25358996', '146083', '115821495', '101413188', '36400491', '50632037', '56709981', '135014968', '91137662', '40283321', '245359', '11263966', '7309628', '60652036', '8891623', '11634458', '17843379', '2039192', '14010690', '22365133', '12017369', '52894169', '27795', '4167493', '933933', '63465522', '28544120', '48482', '19288130', '15030', '10827813', '3076820', '36443442', '6852450', '541636', '10660147', '2062406', '5494', '22508689', '4741987', '19421271', '64359', '171479930', '38177966', '34105207', '2160710', '99147', '23159305', '6276869', '51773', '64062587', '8408835', '2840417', '6552255', '14943582', '87707396', '4023741', '1152411', '81526121', '4398989', '106885658', '38230075', '3897569', '28965197', '66488090', '21731001', '14395874', '474544677', '8322608', '617172', '116089678', '11810854', '399793', '29762011', '69304264', '293506292', '836641', '171091819', '102705852', '18542974', '7267324', '163479795', '113805681', '52037603', '155385488', '16304786', '140539099', '55691208', '31770413', '25059640', '34145', '91188905', '97387965', '10571408', '73648228', '152257509', '985341', '18195', '31054924', '30628981', '3193102', '11540607', '10508', '2899970', '66458769', '10115014', '4217115', '33864342', '10447421', '14026509', '32698899', '10672566', '9818792', '11614954', '2165637', '69582', '16875273', '6026908', '24419219', '101800948', '130058047', '35188640', '68208190', '178287', '9871', '178095', '116735231', '4559569', '229311', '4956401', '206040085', '50041732', '21133087', '2793776', '85744662', '5871603', '136801374', '65535067', '81897', '37030102', '27100030', '6197866', '12610552', '16640210', '17396', '10570375', '1954202', '34102780', '10155691', '2047570', '2374107', '40846082', '22858926', '7680', '10019109', '126930660', '245852179', '101068340', '66889043', '630779', '4485485', '1350248', '36850101', '26613620', '52880016', '1687311', '13508635', '11578022', '17760244', '27151490', '15164492', '9017070', '14271297', '18653615', '824295', '30651422', '140015224', '58220776', '39251128', '22450975', '6201757', '28871190', '75530832', '34580635', '71423726', '81292135', '14378353', '13038660', '8427204', '8231', '50699241', '60507228', '9821335', '12801190', '4142507', '779137', '14218868', '195043', '20035310', '30471', '2954405', '16500786', '185577', '117559438', '36037909', '57262492', '39235088', '16963963', '19389454', '23360779', '6291602', '14983572', '15427192', '3330230', '125305545', '30695227', '125548685', '53302314', '55973336', '10494147', '8735529', '50802661', '27277055', '35007180', '89138076', '1638202', '73209340', '90454043', '60786269', '12178602', '267972', '37035515', '37036404', '15070285', '4170647', '886410', '77086030', '27441122', '5108820', '4859475', '35231365', '44983704', '33771174', '5241315', '187683805', '6543194', '18642318', '104257', '609042', '428535', '137748063', '17266359', '68525609', '215409889', '56932305', '121807', '166225040', '14967182', '2185266', '9628751', '3635482', '9103630', '22751979', '70327868', '21799652', '1282084', '106793915', '90570999', '110719', '113330342', '182618434', '26000610', '61322858', '32662299', '12372410', '69688384', '157019771', '2205627', '157299717', '1055671', '5217498', '155464351', '43746923', '15464026', '15911332', '123307945', '28946615', '25170054', '6047856', '9598', '623791', '68473360', '32598931', '15185241', '128067808', '30093107', '61280963', '38168022', '10037390', '30199105', '13019253', '68353550', '277233', '101643008', '1115313', '32522352', '15325127', '4734235', '1032075', '21468807', '4157491', '5018450', '12996', '18621249', '115654751', '3134509', '1744858', '60874615', '18653746', '144583', '2637726', '39442871', '17480890', '48814909', '9180275', '16779636', '13592872', '17804273', '21995263', '39852', '37879996', '33508922', '882710', '11546543', '10014234', '13555988', '26421314', '20097', '241816', '173599', '39778599', '45542421', '60008303', '1161843', '44737059', '37752931', '29374178', '1276984', '927107', '260044825', '34543701', '36805288', '76501438', '66941559', '94999143', '7060876', '57176582', '34099640', '21471685', '17200925', '6982680', '4714090', '1577287', '89296573', '182805123', '71309760', '46729374', '8596914', '51768623', '12008642', '233632142', '34566746', '75764085', '106807667', '15527125', '33000377', '45506619', '3041803', '75078', '124107476', '622023', '8279017', '32267774', '55762229', '19719930', '60400856', '4221341', '10397365', '20384136', '66808615', '33357476', '687081', '3058380', '289423425', '45207112', '43905746', '33201661', '0', '25288103', '64172251', '36696761', '5409517', '15738632', '226164286', '108244774', '16521410', '51396781', '51758599', '25544867', '902835', '2335352', '40334024', '5516708', '27457409', '112692062', '27338033', '13491653', '13558739', '5383834', '202007640', '49388', '93375151', '71277420', '71500556', '25590119', '14249005', '6712451', '32616869', '19585', '6755271', '76261036', '50255310', '21973182', '17292381', '57386369', '267655011', '24044532', '198539855', '4777007', '52990775', '74058698', '17052128', '852206', '36833473', '94596', '6946056', '131144183', '3050934', '112950721', '144512310', '28734552', '78616689', '0', '16929123', '3293258', '27053815', '16991902', '3100650', '22235901', '1140965', '183417150', '1030920', '1067481', '71069884', '96493426', '5308707', '881824', '181166115', '93607673', '450594', '3067312', '6217849', '180011740', '44452', '84052762', '69772969', '38311134', '8823109', '7219578', '50315140', '25528495', '56607223', '13264986', '64148', '0', '113433', '8434601', '7496522', '30059386', '19693891', '5002310', '37904175', '16017403', '17127', '165092266', '19351569', '24375436', '146028', '11560259', '673780', '70836296', '23483357', '1358', '17951431', '40222729', '6047691', '4273372', '54997476', '24185781', '45172250', '638227', '13596911', '145096820', '96522687', '378176', '18208078', '29781453', '31598308', '7316658', '41867960', '15652637', '4365455', '226792', '1472801', '14252830', '27087695', '23247539', '56083966', '32131830', '10097096', '317575550', '2025238', '62362560', '33422806', '13906394', '2402459', '35930604', '58855732', '623374', '10965209', '29823162', '91038276', '41523271', '23978402', '100614858', '52353636', '37882551', '4720371', '5580479', '315544750', '170708996', '27796042', '22770864', '80936232', '31155435', '58183966', '47095453', '11405825', '41300105', '31273922', '108638745', '40270895', '0', '0', '4919896', '4814244', '1250798', '78120196', '37939782', '32092', '33561137', '139225854', '81150692', '35228696', '54228104', '673414', '41227069', '16033556', '227969295', '40363530', '19184820', '2512846', '19076815', '71026631', '48430258', '37188667', '2326407', '18492362', '43061982', '30063805', '30307804', '92723', '13876974', '247740', '403706375', '4839383', '6044618', '190418803', '51432423', '11411644', '7025722', '37948765', '176387405', '40119709', '13649881', '81676888', '10198766', '119841', '8355815', '95308367', '36985501', '75600072', '6114237', '92955420', '25571351', '378650', '90580000', '31874869', '241438208', '1222889', '14448589', '676698', '13121555', '1293295', '7262288', '41543207', '21305259', '54606', '310676740', '40803000', '56653', '406035', '8378141', '73215310', '67263182', '39177215', '3287435', '313436', '118471320', '38230435', '22433915', '28564995', '6630252', '32122249', '1190018', '22498520', '17504595', '40914068', '153294164', '121468960', '1779284', '132024714', '145771527', '13571817', '3064356', '126293452', '13684949', '4210379', '30157016', '69586544', '85846296', '14018296', '17266505', '64956806', '35168966', '16892', '2891288', '213117789', '16988996', '40048332', '18990542', '47811275', '56684819', '25482931', '4239767', '52752475', '116724075', '15901849', '4411102', '40118420', '10103647', '31597131', '16930185', '12398628', '0', '13208023', '141930000', '26199517', '881950', '13973532', '75781642', '4777465', '206400', '14294842', '79161', '18306166', '6916869', '10049886', '30306281', '3076425', '4046737', '50586000', '127214072', '6830957', '81525', '814666', '28972187', '174682', '162605', '129094024', '5204007', '10719367', '2062066', '5853194', '30113491', '22723', '25885000', '184255', '64282312', '1500711', '41059716', '17791031', '25296447', '16357770', '19161999', '11660180', '598645', '27362712', '6525762', '21576018', '261987880', '15567860', '1693000', '5719000', '47329', '9118', '160942139', '12987647', '14060950', '33253609', '38120554', '14970038', '4835968', '12840842', '6199600', '66790248', '24430272', '13110448', '104054514', '30259652', '28436931', '307631', '43254409', '93932896', '65005217', '56398162', '703', '342548984', '21078145', '13084595', '77730500', '93354918', '40108697', '10465659', '267194', '164606800', '3681811', '32519322', '170687518', '41675994', '1562800', '17639', '213137', '16007718', '150358296', '104354205', '6087542', '66723216', '15543862', '7563397', '274299', '32539681', '46896664', '3051221', '1111615', '3517797', '214949694', '42734455', '1011054', '464126', '26483452', '90639088', '102543518', '47901582', '254683', '549666', '12882934', '19694635', '75155000', '9237470', '34657731', '1641788', '563711', '41083108', '81261177', '230312', '1060512', '2013052', '5801558', '16137', '34234008', '47545060', '6882696', '410241', '33685268', '8586376', '3895664', '58936', '31111260', '26599248', '37788228', '2073984', '3700000', '26500000', '35990505', '46566212', '2255000', '10130108', '23010607', '6126237', '17583468', '11689053', '67383924', '34308901', '181655', '52131264', '121972', '325491', '12212417', '220944', '3816594', '7659747', '22734486', '139270910', '111110575', '30272254', '39659', '281553689', '242704995', '380529370', '106126012', '15417771', '127120058', '3031801', '20779666', '110222438', '30207785', '26214846', '39402572', '196067', '121016', '0', '132177234', '14208384', '4922166', '454255', '100814328', '45064915', '105807520', '60470220', '145540', '43632458', '132675402', '6173485', '792200', '59472278', '173398518', '138540870', '28013509', '14108518', '8112414', '37227', '533344', '65653758', '120277854', '111760631', '353743', '146402', '116877597', '90135191', '58331254', '82622655', '6003587', '4601043', '22108977', '1646664', '15549702', '280351', '35623801', '742898', '254293', '104148781', '8460000', '305411224', '42070939', '51970690', '3203044', '1239183', '47641743', '9652000', '5781086', '43601508', '4068087', '432360', '56127162', '13134', '35327628', '70098138', '37667746', '10199354', '181798', '66432867', '1569918', '80571655', '2528664', '4717455', '4426297', '110000082', '52333738', '336456', '1266955', '0', '2207975', '135560942', '12634962', '58163', '3802390', '66465204', '1420578', '19800', '93926386', '20950820', '7718961', '101018283', '59588068', '16248701', '75817994', '19480739', '26900336', '60060328', '8291572', '7301288', '32543449', '56330657', '44585453', '1660865', '21158188', '124685242', '33832741', '765637', '11634362', '377845905', '63803100', '13005485', '31011616', '77755', '34469210', '48417850', '95632614', '53789313', '138614544', '2281585', '0', '0', '0', '900', '16123851', '161412000', '74541707', '12784713', '6879730', '88073507', '21176322', '6491969', '16980098', '57924679', '4593598', '6471394', '40066497', '833118', '1127331', '50026353', '59623958', '46213824', '28165882', '488872', '5792822', '120776832', '5881504', '14469428', '17718223', '29331068', '1610194', '370782930', '25195050', '5001655', '4063859', '84733', '13001257', '15712072', '11540112', '1110186', '223878', '33987757', '11050094', '58990765', '34366518', '2353728', '39692139', '25266129', '84185387', '0', '249538952', '66207920', '33664370', '8047525', '77906816', '57139723', '298347', '493905', '17848322', '14334645', '13548322', '86047227', '2694071', '67286731', '88200225', '261441092', '13395939', '133298577', '12232382', '441226247', '186740799', '37485528', '13922211', '8886160', '1987', '64378093', '65070412', '16703799', '501752', '10941801', '110536', '100170152', '20422207', '197148', '1310470', '30500882', '592014', '24004159', '77073959', '114326736', '0', '69148997', '119114517', '19176754', '81001787', '13337299', '373524485', '31203964', '120150546', '14018364', '62544', '11529368', '51877963', '144801023', '51438175', '3479302', '6529624', '40202379', '176087450', '1029017', '26782316', '65948711', '114197520', '6768055', '18225165', '61255921', '10411980', '424760', '52397389', '80281096', '19762690', '41814863', '58156435', '603951', '8712564', '31526393', '9109322', '53652140', '366301', '12189514', '17321573', '22406362', '22913677', '16323969', '14589444', '25032', '84136909', '9408183', '2276368', '37760080', '16862585', '21800302', '36830', '66711892', '463730', '9055010', '13542874', '227241', '50740078', '32003620', '126021', '3753806', '194949659', '125531634', '24006726', '0', '31425', '57887882', '32774834', '7739049', '70527', '71502303', '110359362', '1082044', '381225', '75305995', '5005899', '55968727', '57712751', '59475623', '75367693', '44540956', '95149435', '173005002', '85416609', '5211842', '34297191', '73701902', '3347647', '6167817', '3629758', '47958031', '23514247', '28328132', '40203020', '17016190', '51676606', '10214647', '2938532', '100492203', '102608827', '118627117', '42044321', '21009180', '6144806', '2086345', '228524', '279167575', '51225796', '23519128', '48114556', '22163442', '3765585', '45489752', '0', '0', '0', '74103820', '39053061', '16809014', '1023424', '41196', '24409722', '67264877', '49772522', '20040895', '82674398', '12604', '51100486', '5178569', '16670', '4930', '1900451', '43095856', '5654777', '25857987', '17018422', '75976178', '32647042', '5501940', '19699706', '19294901', '50406346', '61649911', '11273517', '2678010', '75941727', '24381334', '468867', '3700', '48478006', '68915888', '96793', '707391', '712294', '36351350', '46752382', '31726995', '55849401', '113006880', '6301131', '1340891', '62647540', '135386665', '3264', '0', '0', '65233369', '388532', '120620', '72708161', '21835784', '4008527', '375474', '517262', '26873932', '51019112', '304124', '77070', '80270227', '1442338', '49526', '795126', '181041', '56068547', '7372734', '82931301', '52842724', '24537621', '4476235', '2339957', '8117961', '380270577', '158119460', '193595521', '1187266', '47398413', '32064800', '55334418', '10514', '205343774', '16535005', '3885134', '1000915', '66010682', '63313159', '20700082', '77437223', '396035', '3278611', '234280354', '56094360', '506793', '6260', '22991379', '31501218', '16124543', '5128124', '1338', '206459076', '209218368', '87264', '49772', '35818913', '32868349', '17044981', '22202809', '191862', '32116746', '63939454', '43894863', '68671925', '42071069', '17104669', '154696080', '25473093', '1531154', '3102550', '19478106', '109449237', '57891803', '37899638', '15007991', '1069318', '33579798', '8535575', '8330720', '75072454', '44701', '30981850', '291710957', '57010853', '11036366', '83043761', '100358', '48318130', '24149632', '881745', '7535331', '1328679', '10047674', '49000', '2070920', '89706988', '31493782', '53359111', '17380866', '23106', '129319', '0', '75828', '18782227', '25514517', '15331289', '870067', '28750530', '864959', '4655', '186336279', '39177684', '12834849', '4710455', '49981', '3681066', '423', '26850426', '10169202', '872142', '29511112', '28212337', '33022286', '18324242', '4235837', '10284523', '2025032', '4134', '45575336', '12482775', '87025093', '177784257', '18098433', '6601079', '691880', '128200012', '34636443', '18761993', '28045540', '38372662', '36020063', '290013036', '119519402', '50824620', '53359917', '29077547', '4835065', '10166502', '47907715', '74494381', '22400154', '0', '218080025', '5027684', '19398532', '60062868', '110550000', '82571173', '1669971', '47379090', '3647381', '42996140', '12712093', '16186348', '23089926', '12589255', '0', '0', '0', '0', '27838408', '7009668', '2217561', '444093', '103509', '0', '37629831', '7027762', '38399961', '42647449', '51386611', '62318875', '11748661', '9015303', '70165972', '47279279', '74205', '672243', '2197694', '1253413', '145382', '118703275', '1200216', '2893666', '194523', '1692693', '81612565', '48548426', '1502188', '107492', '7578946', '6855137', '63257940', '2912606', '47860214', '36895141', '18522064', '1054361', '18597342', '11718595', '64665672', '128505958', '12899867', '26403', '70511035', '33889159', '1173673', '24793509', '95204', '0', '88634237', '23086480', '15680099', '3127472', '154187', '195330621', '5946136', '21170563', '7802450', '349132', '2075743', '211667', '148213377', '72779000', '12671300', '26024456', '7836393', '1985292', '37384046', '90710620', '1024640', '36280697', '46982632', '7314027', '884', '71724497', '26910736', '31567134', '2484186', '18848430', '5529144', '1336', '138711', '133501348', '669625', '1903434', '8117637', '16298046', '568932', '16235738', '217536138', '155019340', '15032800', '0', '24146161', '234362462', '70071', '2405420', '196857', '6090172', '47326473', '54607383', '132384315', '39517763', '5463019', '28444855', '252726', '62615510', '28426747', '52330111', '80197993', '3121270', '137355633', '1430721', '5361', '200120000', '2072645', '1678874', '51540', '124740460', '0', '59843754', '34742066', '22495466', '13368437', '7061128', '4055', '423315812', '5501616', '144601', '58636047', '75802010', '131719', '418689', '73661010', '42285169', '22530295', '24148068', '7033', '59891098', '63478838', '28142535', '10525717', '23364784', '12044087', '199176', '0', '57377916', '63280000', '50866635', '16655224', '34020814', '39868642', '1530535', '54702', '57806952', '19185184', '12669914', '381420', '255923', '244082982', '20342852', '70278893', '22672813', '38432823', '475000', '0', '13090630', '7221458', '0', '70644', '72778712', '4670644', '56131', '17606684', '85105259', '55011732', '17807569', '10178331', '56441711', '82226474', '58640119', '48751189', '54098051', '12667', '61123569', '88715192', '41778863', '7459300', '40435190', '223202', '355968', '119452', '3337931', '659210', '39143839', '37442180', '13395961', '18844784', '1151330', '239962', '84689', '33602376', '53089891', '15962471', '21000147', '6860000', '34302837', '4299773', '80238724', '11989328', '20264436', '65328121', '3275443', '539285', '2697938', '379418', '167365000', '198000317', '11242801', '5549923', '4630045', '2730296', '64038616', '35093569', '10144010', '14443', '0', '33312', '60674817', '4283255', '17326650', '234750', '4339241', '6408', '75030163', '82985708', '103365956', '162586036', '1308696', '320700', '70269899', '8060487', '13756082', '6566773', '3347411', '250863268', '43545364', '35552383', '17510118', '2223293', '3005605', '37634615', '19875', '0', '0', '0', '0', '148761765', '2956339', '8158', '10787', '39739367', '35662731', '3526588', '0', '42674040', '35374833', '0', '1661464', '33080084', '168213584', '9396870', '19097550', '319246193', '126631277', '130164645', '7500310', '50572589', '115802596', '82234139', '35193167', '11003643', '20342161', '43799818', '227471070', '13938332', '18663911', '769726', '240425', '25317', '0', '79123', '47852604', '12559771', '1829142', '47003582', '54149098', '19661987', '20804166', '1207007', '635305', '118594548', '336530303', '5755286', '4857374', '5490423', '0', '80818974', '1237615', '5520368', '23618786', '11052958', '399879', '872643', '15849032', '36605602', '8135024', '1008849', '25126214', '194568', '49033882', '22441', '52850', '143495265', '9445857', '322719944', '137221', '127188', '309420425', '7006708', '25031037', '7164995', '4398532', '131921738', '480314', '25584685', '298110', '70807', '1217', '100289690', '71985628', '9176787', '24538513', '2426851', '134529403', '206445654', '18435', '0', '53606916', '876671', '551002', '900926', '1134358', '175281', '70107728', '50980159', '0', '200433', '119725280', '118871849', '3688560', '327919', '183135014', '43107979', '635733', '5694308', '1433319', '58867694', '117144465', '10299782', '17544812', '13235267', '15074191', '5932060', '8580428', '121463226', '33302167', '22486409', '3172382', '1066555', '72210', '9534258', '58269151', '51957', '27669725', '388390', '11284657', '210614939', '2201923', '3438735', '13610521', '14998070', '74273505', '163069', '17181265', '24343673', '10977721', '6777741', '268461', '221096', '50648679', '3909149', '35017297', '18354356', '11892415', '47467250', '90648202', '4604982', '214202', '140125968', '38634938', '871577', '39568996', '9736045', '20300218', '3287315', '952820', '728', '446165', '23616', '0', '63300095', '8093373', '18882880', '28638916', '458232', '139084', '292004738', '0', '275380', '82195215', '4617608', '65388', '127706877', '31664162', '4017609', '39687694', '49121934', '25593755', '6623082', '5990075', '14373825', '0', '15132763', '61356221', '16285240', '28563179', '55204525', '5956480', '256393010', '217326974', '0', '15800078', '46026', '66661095', '18317151', '53695808', '6422', '93466502', '41797066', '40412817', '0', '30226144', '4443403', '40222514', '7159147', '0', '0', '0', '0', '0', '0', '0', '0', '6575282', '31418697', '7570127', '65281781', '1060591', '227946274', '102491776', '16289867', '73548', '2511476', '13011160', '0', '76808654', '80048433', '20668843', '15198', '347578', '274661', '12898847', '42754105', '28687835', '38233676', '7070641', '1196321', '318604126', '46012734', '2344847', '1785505', '71195053', '81168265', '58017783', '32241649', '7714996', '952620', '72266306', '11175164', '3950294', '4151836', '5488570', '251150', '33479698', '26814957', '2077046', '2775593', '3073392', '94514402', '7013191', '4442377', '12796861', '31487293', '154529439', '11008770', '24850922', '1294640', '12590147', '32862104', '41975388', '25928550', '115879', '442638', '81159365', '26638520', '10915744', '6003262', '67665', '26890041', '31373938', '48006762', '17432844', '866778', '5505267', '999811', '6198883', '0', '52075270', '63172463', '16930884', '303439', '109045', '32033', '60494212', '4598506', '10452', '38108728', '228830', '15298133', '36497', '8050977', '18622031', '8195551', '141621490', '317023851', '1031872', '580862', '434417', '152647258', '52597610', '67505', '215434591', '100018837', '5705761', '1071240', '44089964', '87341380', '4078607', '134806913', '64506874', '140016', '130319208', '32200122', '17657973', '1094998', '223808164', '134508551', '94784201', '30060660', '206678', '1506998', '402858', '0', '180010950', '12082391', '67300955', '9046156', '140244', '533345358', '144130063', '30105968', '2203641', '243768', '100468793', '20982478', '1477650', '2962242', '0', '70231041', '42436517', '7800825', '0', '5700626', '110461307', '401', '30691439', '14543943', '23216709', '35161554', '6409528', '36316032', '48237389', '11511323', '4886216', '0', '0', '23530831', '22532572', '14190901', '4694491', '617228', '43945766', '80277646', '13804', '13848978', '19528602', '39263506', '20211394', '19219250', '13252641', '8744', '101440743', '7916887', '266967', '2926565', '33456317', '39394666', '7871693', '9793406', '31691811', '212989', '28835', '34194407', '865695', '0', '40687294', '1090947', '25534493', '8402485', '37770162', '0', '35739802', '15740721', '4452423', '3083538', '90559416', '56746769', '2122085', '55202', '655538', '31457946', '13442412', '115504', '7321', '173066', '7484', '4775656', '12981269', '0', '26415649', '43869350', '9427026', '75986503', '11803254', '101704370', '12636', '169368427', '174255', '114053759', '192769854', '7202', '49554002', '120146040', '31841299', '40081410', '60355347', '26902075', '141319928', '79366978', '293708', '915840', '148095302', '33446470', '0', '39127', '26238243', '50877145', '69951824', '97690976', '127509326', '83077762', '110101975', '143153751', '19806188', '2283849', '22911480', '0', '0', '0', '31631', '0', '0', '0', '0', '0', '0', '0', '0', '0', '0', '179883157', '97104620', '196573705', '0', '28644813', '73034460', '146336178', '36843682', '51545952', '17303424', '166003', '45802315', '19367', '145000989', '16734283', '3766810', '75590286', '18451251', '13043363', '9228788', '25450527', '65002019', '3149034', '1579146', '0', '17231291', '90508336', '9135036', '6840', '155064265', '16044025', '67172594', '32752215', '4543320', '12062558', '40572825', '79957634', '71440011', '30955', '198351526', '12234694', '20534907', '33862903', '10823158', '83823381', '28544157', '15988876', '9208876', '199228', '37017955', '64167069', '13684249', '80136', '32011576', '15433', '31720158', '68261644', '315000', '49438370', '277322503', '9451946', '8665206', '0', '133375846', '3531756', '125322469', '177243721', '25662155', '2656784', '695840', '0', '293004164', '42100625', '12749992', '3865', '75286229', '93953653', '31811527', '1418304', '107509799', '0', '137855863', '15051977', '32428195', '47566524', '26218170', '43337279', '163958031', '5306706', '46742', '0', '402111870', '49200230', '2715657', '17017811', '27349', '0', '0', '0', '0', '0', '150201498', '94125426', '15515460', '122558', '0', '301959197', '0', '119436770', '88915214', '41596251', '2277396', '51855045', '25200412', '148089', '7712114', '257730019', '65108', '294244', '10027047', '63414846', '15090399', '115646235', '5210988', '15122676', '8297', '120774594', '20919166', '476270', '6380019', '221805', '0', '7460204', '66477700', '33392973', '19716', '58715510', '1733532', '42670410', '10572742', '31749894', '109205660', '15000', '141108', '12574914', '449865', '52429', '104979', '4444637', '124870275', '33316821', '200730', '22965110', '16204793', '1355079', '0', '14363397', '38577772', '10330853', '6113834', '22455510', '1429299', '107918810', '79576189', '9362785', '24007324', '0', '60054530', '14800725', '0', '77233467', '73357727', '29062561', '9069', '19551067', '14279575', '14046595', '102458', '27693292', '93388', '0', '72091016', '113682', '10273187', '101215', '0', '10275638', '51733921', '11965282', '156612', '44114232', '37491364', '9176000', '164649', '166112167', '8017467', '21002919', '1109660', '42194060', '296623634', '627047', '255959475', '1702112', '17896', '104400899', '38122883', '49492060', '8114270', '1190003', '0', '65452312', '16123323', '5010163', '4417674', '39471742', '760507625', '19676965', '29580087', '11001272', '219614612', '209028679', '112735375', '7689607', '0', '2222862', '0', '0', '0', '0', '0', '0', '0', '0', '0', '0', '0', '0', '0', '0', '0', '163214888', '131772187', '35606376', '246574', '96962694', '13261851', '12134935', '205842', '0', '101270', '94835059', '24307106', '6617867', '374675', '60022256', '12482741', '40168080', '208163', '3777210', '0', '43313890', '102645', '0', '129078', '60095852', '70066', '115862', '13722', '115592', '128012934', '15541549', '201857', '109383', '100688', '44462', '44875481', '39123589', '318623', '2087720', '621859', '17804299', '26593646', '190946', '11574', '5666340', '582024', '106954678', '2037459', '67061228', '13942007', '64003625', '3573673', '6671283', '0', '217581231', '50269859', '3075255', '46488', '133411', '62950384', '47059963', '33644788', '61153526', '17010170', '550472', '0', '48071303', '42739347', '1089445', '1475746', '493296', '6391436', '19422319', '37490007', '23591432', '128486', '63075011', '17630465', '1183658', '458054', '1818681', '20930', '4033574', '24077427', '80014842', '0', '148826', '334191110', '27163593', '690290', '0', '148415853', '100539043', '37729698', '18335230', '310007', '105269730', '53032453', '21540363', '883887', '12232', '238736787', '4360548', '8525600', '1685269', '828', '95347692', '90759676', '619423', '1259693', '6096582', '101740', '119219978', '42400223', '1755212', '4803', '415004880', '10547117', '217277', '5005465', '7468936', '100280', '76423035', '162001186', '403952', '110248', '300531751', '137885', '312433331', '1110509', '63150991', '292576195', '30638', '531806', '118311368', '26167002', '281447', '32961', '45539292', '73026337', '31206263', '9176933', '453377', '30101577', '25918920', '15285588', '53374681', '59699513', '14744435', '1810078', '0', '6363628', '4311834', '1445366', '93051', '31611316', '103068524', '80574010', '1044039', '36661504', '29197642', '25003155', '27758465', '4806750', '24719879', '276901', '57744720', '123570', '10024', '41034350', '0', '98711404', '108596', '2848587', '118666', '406216', '251513985', '52000688', '27766', '20811365', '2434652', '92186262', '25107267', '33679655', '58401464', '6857096', '3247816', '55675313', '52474616', '25702053', '337997', '636706', '1044143', '0', '60128566', '113568', '127564', '31011732', '104386950', '67631157', '277943', '93617009', '90380162', '32746941', '117229692', '145526', '6797696', '2595644', '433588', '9812', '84752907', '45710178', '152857', '109338', '237301', '0', '77222099', '176591618', '6531503', '7294', '295983305', '21148651', '1095369', '200821936', '195459', '39440655', '32367005', '23240020', '138797449', '62189884', '88768303', '110485654', '4046336', '35497337', '32010860', '19068240', '20255281', '25572', '81562942', '21416355', '391674', '172062763', '30212620', '100246011', '2039869', '2229058', '148438600', '171243005', '20218921', '1785645', '42779261', '2231474', '3205706', '9737892', '0', '0', '0', '0', '0', '0', '0', '0', '0', '0', '0', '0', '0', '0', '0', '108085305', '54712227', '164247', '1008098', '120016', '0', '327716', '54009150', '100370', '35608245', '23186769', '48764', '98780042', '48475290', '7502560', '41914', '70662220', '29121498', '33047633', '5101237', '18877153', '17686929', '1400726', '4002293', '55100437', '63686397', '37915414', '45060734', '10721033', '3954651', '2430735', '0', '146408305', '5790894', '467602', '0', '0', '58009200', '37412945', '79249455', '542860', '36392502', '52698535', '408159', '23209310', '37300107', '123257581', '62495645', '6928068', '27865571', '129210', '0', '78046570', '35061031', '30680', '143619809', '38180928', '11538204', '58709717', '53345287', '564489', '33245', '638476', '209837675', '10143779', '1186538', '10130219', '176760185', '37081475', '29136626', '169106725', '382946', '2712131', '180237', '241063875', '56816662', '0', '165249063', '254464305', '13305665', '0', '181030624', '1069334', '39046489', '970816', '37295394', '703372', '116601172', '68224452', '1430241', '0', '191450875', '100292856', '1759252', '514237', '0', '352390543', '24827228', '85463309', '135739', '40962534', '200558', '381011219', '26692846', '1348205', '28468', '176654505', '55802754', '7691700', '1321194', '100240551', '142614158', '84351197', '1361512', '1024175', '5359774', '568662', '3709', '21596445', '33035397', '40259119', '43853424', '977772', '80360866', '117538559', '0', '1131261', '21295021', '18298649', '38536376', '13843771', '17479', '707885', '20778', '184705', '841056', '36665854', '24046682', '229653', '24814830', '29384', '454121', '31177548', '75658097', '13657115', '2529395', '331000', '5073', '0', '7706436', '37306030', '54544638', '30542576', '24149393', '16311571', '0', '10324441', '9659074', '35060689', '163753', '59774', '25124986', '75605492', '72286779', '28087155', '538690', '1065429', '484592', '21302340', '14011084', '47185', '35016118', '223838', '1728953', '34522221', '0', '127004179', '253444', '169705587', '7204138', '16928670', '16816', '51802742', '36884', '20377913', '8305970', '1891936', '611709', '104028807', '0', '5353586', '2981038', '149260504', '13109815', '37553932', '4463292', '3395391', '103028109', '99967670', '19490041', '73013910', '6861102', '362239', '7826', '3632', '21392758', '83552429', '37662162', '1188194', '39475', '74158157', '83504017', '3030848', '82624961', '64006466', '281287133', '9120', '73864507', '46462469', '88625922', '5702083', '14597405', '44667095', '0', '42587643', '37053924', '11862398', '209397903', '186848418', '133107389', '2546747', '102515793', '77591831', '3014696', '75624550', '303877', '79883359', '31847881', '21443494', '7098492', '0', '0', '0', '0', '0', '0', '0', '0', '0', '0', '155136755', '5669081', '0', '26608', '96734', '187168425', '30932113', '66528000', '29959436', '1738692', '18000', '4584', '311434', '62321039', '49876377', '18942396', '749641', '26414527', '18620000', '51580136', '214030500', '54731865', '201436', '189412677', '93772375', '3361', '15634090', '54760791', '51774002', '19192510', '17288155', '35025791', '70012847', '20157300', '54333290', '64575175', '0', '29063', '78396', '0', '262030663', '0', '58877969', '49008662', '3103407', '138447667', '4269426', '5909483', '0', '0', '0', '408010692', '4105123', '5355847', '83670083', '64935167', '0', '0', '623279547', '10011', '0', '46383639', '44338224', '42073277', '14326865', '0', '595018', '30905', '60457138', '91547205', '793352', '31051126', '17142080', '28700285', '16008272', '9204489', '1200010', '7396', '408015', '25326071', '139854287', '35287788', '677200', '100915', '15091', '59650222', '65233400', '41152203', '176988', '56491', '0', '179020854', '45512466', '13182281', '18119640', '53262945', '0', '56758835', '1007535', '47323100', '38518613', '36931089', '1597486', '237282182', '37519139', '16684352', '7078738', '12795746', '218665740', '65653242', '12431792', '113721571', '3763583', '11494838', '35955', '446770', '0', '66351', '385422', '161321843', '49521', '33349941', '0', '448139099', '1109276', '34353000', '35074677', '1291645', '216391482', '126477084', '4010957', '63536011', '304360277', '51853450', '85028192', '56003051', '24397469', '95933', '3317468', '319285', '13749300', '20275446', '205505', '4936819', '2672413', '0', '37397291', '1065907', '49130588', '1251749', '73058679', '18450127', '12739737', '0', '182207973', '17000', '0', '17241', '42345531', '16247159', '289773', '7919574', '2804874', '0', '35763137', '13414714', '41003371', '17742948', '31611916', '148313048', '66486205', '5310554', '65001093', '134109', '126181630', '103860290', '125014030', '113203870', '86907746', '641054', '25888412', '53900335', '17061', '6002451', '27108272', '17530219', '6002756', '9409538', '0', '2436', '79727149', '188870', '3047539', '292324737', '12816367', '132092958', '61611', '103412758', '124987022', '44806783', '2061449', '14945541', '6810754', '136025503', '45290318', '15024049', '3336053', '48086903', '236806', '303003568', '0', '95720716', '37134215', '6738954', '80070736', '19019882', '67544505', '12512862', '162805434', '148809770', '77267296', '0', '0', '0', '0', '0', '0', '0', '0', '0', '0', '0', '0', '9489829', '66380662', '0', '2408553', '65187603', '1034589', '25682380', '292562', '1703125', '26345', '15179303', '549632', '0', '61737191', '55750480', '15323921', '27298285', '0', '19701164', '12050299', '71628180', '55703475', '17616641', '8840453', '4917', '63914167', '0', '89302115', '75612460', '6852971', '59671', '67349198', '19452138', '71399120', '57012977', '42930462', '4327', '17418667', '0', '408992272', '1930282', '173472', '0', '368065385', '32244051', '102118', '22537881', '51872378', '14124286', '0', '98927592', '720828', '18007317', '122523060', '26623701', '21403519', '34341945', '7597898', '0', '274092705', '19316646', '2507159', '0', '0', '11330849', '0', '152449', '89107235', '1165881', '2850357', '2859955', '21819348', '49875291', '528731', '21590086', '54239856', '2322593', '1632', '6997', '21502690', '0', '228778661', '687185', '4067398', '0', '112200072', '238679850', '107518682', '8110621', '60522097', '117723989', '3827466', '2274649', '42025135', '61847', '0', '13248209', '24084', '291045518', '4946250', '268488329', '202359711', '0', '0', '0', '73103784', '159581587', '36686', '1778', '44672764', '64473115', '68559554', '150394119', '0', '83028130', '33618855', '53262560', '137400141', '0', '775849', '486919', '0', '132556852', '33404871', '0', '3491669', '71017784', '0', '134506920', '32172757', '0', '222098', '234770996', '10895295', '0', '206362140', '21488481', '7388654', '116632095', '28795985', '16131410', '391611', '35017', '31165421', '6594959', '26004851', '0', '343706', '2602', '10501938', '28873374', '44467206', '0', '93050117', '90282580', '36918811', '83586447', '3080', '17550872', '61002302', '26947624', '8888355', '0', '119793567', '3419967', '21569509', '24477704', '144840419', '9177065', '25135965', '35266619', '3254172', '56671993', '6263670', '0', '16973715', '102003019', '0', '0', '46000903', '18388357', '40041683', '107136417', '8008161', '2450504', '0', '171962', '70525195', '17654912', '2883879', '1632000', '400738009', '424668047', '30659817', '37709979', '20158492', '7018188', '8323085', '95020213', '32015787', '0', '101470202', '101802906', '133668525', '16098998', '258366855', '150117807', '83299761', '52543354', '127352707', '36076121', '38362475', '116900694', '58236838', '29807260', '37738810', '0', '0', '0', '0', '0', '0', '0', '0', '0', '0', '0', '0', '0', '0', '0', '0', '0', '333172112', '30569935', '705908', '50577412', '64251538', '134202565', '15821461', '19075290', '0', '13371528', '26068955', '523511', '202853933', '3827060', '42557', '30577122', '84525432', '38934842', '12600231', '23438250', '48637684', '23169033', '30697999', '91742160', '59700064', '4231500', '32462372', '167767189', '14019924', '0', '84273813', '260441', '37880356', '43568507', '7779614', '3322127', '3648', '150947895', '51178893', '42472', '1069454', '60755732', '59424', '101200044', '10508518', '3496', '0', '259746958', '2614251', '11774', '91386097', '23022309', '17329487', '83911193', '20396829', '258384', '4091', '59696', '188017894', '0', '200676069', '36447959', '2013456', '233921534', '46290741', '241407328', '42720965', '6105175', '100206256', '124872350', '0', '3122616', '18823', '177002924', '191719337', '1109199', '11278', '0', '20056', '47047013', '65028687', '0', '245439076', '4563029', '16170632', '0', '0', '78031620', '257784718', '0', '111506430', '106580051', '59076019', '385069', '222527828', '35893537', '67657', '0', '59157732', '38543473', '71562550', '3591299', '336472', '0', '72688614', '126573960', '15160801', '17237855', '30312', '0', '191204754', '47602194', '54235441', '0', '82390774', '39322544', '45090374', '78948', '12848', '0', '13757804', '0', '30127963', '50474843', '0', '25018119', '0', '21222315', '59656', '8462347', '150086800', '10429707', '767732', '0', '0', '102427862', '26017685', '34296320', '1821983', '72277', '35688', '50837305', '101530738', '0', '340911', '15600', '18848538', '125095601', '0', '25568251', '0', '1822', '55991880', '47119388', '66954149', '0', '44137712', '17390770', '2450846', '13092006', '6047363', '33680992', '85755593', '50151543', '26766213', '42340598', '56001', '0', '9837', '43037835', '50856010', '549185', '0', '3242457', '32381218', '0', '0', '0', '131538435', '28842237', '4438438', '27695246', '373375', '0', '208545589', '25379975', '0', '13486', '0', '86208010', '0', '2429989', '3128941', '14618727', '0', '337135885', '2636', '0', '83350911', '54445357', '91125143', '288757', '58607007', '0', '0', '42024533', '52543632', '10724389', '851690', '5284309', '9111', '0', '65014513', '8110975', '25317379', '255119788', '113746621', '85911262', '3958546', '115637895', '350126372', '128002372', '14482031', '388', '0', '5749134', '0', '0', '0', '0', '0', '0', '0', '0', '0', '0', '0', '0', '0', '0', '0', '0', '0', '0', '0', '0', '0', '0', '0', '33307793', '459005868', '89760956', '66013057', '0', '0', '0', '0', '0', '0', '0', '0', '0', '0', '0', '7889395', '76223578', '64460211', '18656400', '0', '0', '7696134', '32251', '24956', '3498695', '35423380', '0', '3200', '22348241', '21571189', '31443', '154356', '288751', '228433663', '46425', '546201', '128261724', '166167230', '147299', '0', '15156', '44480275', '12314651', '34030343', '0', '0', '0', '0', '53862963', '25801570', '20620', '17503', '0', '0', '0', '0', '351032910', '32363404', '0', '201151353', '26461644', '0', '11894', '14674077', '0', '0', '0', '0', '0', '130179072', '10664749', '5637066', '12985600', '0', '0', '0', '177397510', '90411453', '7582065', '0', '0', '74070', '16029670', '37151', '0', '38322743', '42725475', '5336', '0', '0', '1224330', '71038190', '0', '32482090', '7193', '0', '0', '0', '42629776', '0', '129115', '4200117', '6485961', '478595', '0', '0', '0', '110825712', '918', '0', '52218558', '0', '19375982', '153636354', '183785415', '0', '7556', '1036', '0', '0', '93436322', '47425125', '53086', '3301', '0', '155190832', '21052030', '0', '47482519', '17223265', '162994032', '0', '31569268', '10219501', '33078266', '113169', '0', '200074175', '130178411', '45055776', '356461711', '17506470', '132270', '1109808', '0', '81284830', '42656255', '195792', '0', '0', '45431', '0', '0', '56117548', '26822144', '43787265', '1477002', '180202163', '110038130', '8799', '0', '78747585', '52421953', '1784763', '32000304', '0', '58884188', '195042377', '176847', '101531', '8374', '34580201', '0', '1242', '187112', '0', '0', '0', '45445109', '161058685', '656688', '0', '0', '0', '22467450', '14439985', '27740955', '0', '5858', '27288872', '0', '67790117', '3591417', '376976', '3256', '89256424', '52076908', '0', '0', '0', '35088320', '17766658', '17484', '0', '43309450', '81697192', '62575678', '46889293', '2583301', '4254', '169700110', '75764672', '0', '7192291', '2105', '0', '0', '0', '0', '0', '10137502', '0', '0', '0', '0', '0', '0', '0', '0', '37446117', '25440971', '155271', '6870', '336045770', '6738000', '12279691', '17472', '22764410', '0', '0', '0', '0', '80069458', '31090320', '72313754', '632542', '14677674', '0', '0', '27367660', '4702420', '18297124', '2184640', '0', '1711', '0', '0', '0', '7002261', '13651946', '55039', '3703046', '0', '0', '0', '57017904', '65112020', '4816142', '14616', '25020758', '0', '70259870', '0', '0', '12227722', '2246000', '538460', '26302731', '50136', '281723902', '43035725', '1872994', '20180155', '0', '0', '41260', '123087120', '5775076', '109767581', '652198010', '6758416', '936662225', '85886987', '87044645', '0', '0', '28782481', '54117416', '56451232', '150357137', '34531832', '3759286', '0', '0', '0', '0', '0', '0', '0', '0', '0', '0', '0', '0', '0', '0', '0', '0', '0', '0', '0', '0', '0', '0', '0', '0', '0', '0', '0', '0', '20773069', '9097072', '126643061', '55483770', '79042440', '0', '52853219', '90862685', '17062499', '0', '0', '32766', '34912982', '2679437', '35593113', '35819556', '143528619', '27569558', '1513793', '11686940', '0', '12545979', '3915251', '0', '0', '13960394', '3229457', '36880033', '0', '19115191', '25138705', '31153464', '15789389', '12639297', '82051601', '56245075', '9496130', '29233', '166425', '0', '61705123', '66184051', '3712282', '330360194', '59689605', '3400278', '341268248', '62524260', '23083334', '0', '232641920', '153707064', '67209615', '364001123', '14708696', '54030051', '0', '3220371', '48003015', '3127773', '510957', '8813410', '20591853', '0', '709982', '10907291', '30080225', '0', '325100054', '1022720', '41012075', '10753574', '107509366', '36261763', '55340730', '0', '155442489', '77042381', '408084349', '248795', '0', '0', '486295561', '127440871', '103144286', '20810036', '55121623', '1333124', '4210454', '5205471', '0', '75395035', '15861566', '20007149', '15436808', '128350574', '13099931', '158848340', '64063008', '67268835', '4417983', '38583626', '162192920', '113257297', '183637894', '26594261', '182695', '0', '63077560', '231738', '368384330', '46009673', '0', '26410477', '48023088', '43034523', '4712792', '89217875', '2000093', '125070033', '29747603', '150191', '54767494', '151101803', '21587519', '24139805', '20777061', '93427848', '72679278', '2022115', '61433527', '87242834', '47225655', '65075540', '102470008', '1361045', '86260045', '23591043', '3330', '58697076', '73206343', '35144505', '27854931', '2082980', '34355263', '6864016', '6469813', '18704596', '72082999', '9669521', '63014', '100546139', '1738477', '0', '42065185', '6900335', '234037575', '10663357', '0', '5083906', '14431633', '47695371', '82703', '248757044', '3652206', '3500605', '51728731', '1311213', '363070709', '28848693', '46843513', '76233151', '27383770', '97670358', '27007844', '532177324', '31016021', '54647948', '100014092', '270329045', '31886361', '7100177', '60323786', '10378555', '169374490', '0', '0', '0', '0', '0', '0', '33370166', '22395806', '44898413', '12786243', '138141585', '26844692', '64321890', '3547', '0', '395674792', '72498466', '45157105', '32187017', '0', '9420546', '2280004', '557241', '175484140', '27793018', '35312', '226277068', '504014165', '2395410', '10166820', '85364450', '30223972', '18600152', '174678355', '40563557', '0', '225764765', '0', '8224288', '11368012', '1799322', '18985794', '587470', '20497844', '387805844', '0', '20710572', '34121140', '58060186', '171037086', '3740823', '44900235', '21906917', '128866562', '92558357', '231351340', '24938902', '0', '45011202', '45018541', '279991585', '120086079', '12929463', '31023132', '104641608', '67206670', '27365212', '20095325', '130874', '0', '0', '0', '79741080', '13845101', '175750384', '114434010', '92029184', '168052812', '39175066', '45850343', '0', '0', '0', '0', '0', '0', '0', '0']\n",
      "(5391,)\n"
     ]
    },
    {
     "data": {
      "text/html": [
       "<div>\n",
       "<style scoped>\n",
       "    .dataframe tbody tr th:only-of-type {\n",
       "        vertical-align: middle;\n",
       "    }\n",
       "\n",
       "    .dataframe tbody tr th {\n",
       "        vertical-align: top;\n",
       "    }\n",
       "\n",
       "    .dataframe thead th {\n",
       "        text-align: right;\n",
       "    }\n",
       "</style>\n",
       "<table border=\"1\" class=\"dataframe\">\n",
       "  <thead>\n",
       "    <tr style=\"text-align: right;\">\n",
       "      <th></th>\n",
       "      <th>Rank</th>\n",
       "      <th>Release_Date</th>\n",
       "      <th>Movie_Title</th>\n",
       "      <th>USD_Production_Budget</th>\n",
       "      <th>USD_Worldwide_Gross</th>\n",
       "      <th>USD_Domestic_Gross</th>\n",
       "    </tr>\n",
       "  </thead>\n",
       "  <tbody>\n",
       "    <tr>\n",
       "      <th>0</th>\n",
       "      <td>5293</td>\n",
       "      <td>8/2/1915</td>\n",
       "      <td>The Birth of a Nation</td>\n",
       "      <td>110000</td>\n",
       "      <td>11000000</td>\n",
       "      <td>10000000</td>\n",
       "    </tr>\n",
       "    <tr>\n",
       "      <th>1</th>\n",
       "      <td>5140</td>\n",
       "      <td>5/9/1916</td>\n",
       "      <td>Intolerance</td>\n",
       "      <td>385907</td>\n",
       "      <td>0</td>\n",
       "      <td>0</td>\n",
       "    </tr>\n",
       "    <tr>\n",
       "      <th>2</th>\n",
       "      <td>5230</td>\n",
       "      <td>12/24/1916</td>\n",
       "      <td>20,000 Leagues Under the Sea</td>\n",
       "      <td>200000</td>\n",
       "      <td>8000000</td>\n",
       "      <td>8000000</td>\n",
       "    </tr>\n",
       "    <tr>\n",
       "      <th>3</th>\n",
       "      <td>5299</td>\n",
       "      <td>9/17/1920</td>\n",
       "      <td>Over the Hill to the Poorhouse</td>\n",
       "      <td>100000</td>\n",
       "      <td>3000000</td>\n",
       "      <td>3000000</td>\n",
       "    </tr>\n",
       "    <tr>\n",
       "      <th>4</th>\n",
       "      <td>5222</td>\n",
       "      <td>1/1/1925</td>\n",
       "      <td>The Big Parade</td>\n",
       "      <td>245000</td>\n",
       "      <td>22000000</td>\n",
       "      <td>11000000</td>\n",
       "    </tr>\n",
       "    <tr>\n",
       "      <th>...</th>\n",
       "      <td>...</td>\n",
       "      <td>...</td>\n",
       "      <td>...</td>\n",
       "      <td>...</td>\n",
       "      <td>...</td>\n",
       "      <td>...</td>\n",
       "    </tr>\n",
       "    <tr>\n",
       "      <th>5386</th>\n",
       "      <td>2950</td>\n",
       "      <td>10/8/2018</td>\n",
       "      <td>Meg</td>\n",
       "      <td>15000000</td>\n",
       "      <td>0</td>\n",
       "      <td>0</td>\n",
       "    </tr>\n",
       "    <tr>\n",
       "      <th>5387</th>\n",
       "      <td>126</td>\n",
       "      <td>12/18/2018</td>\n",
       "      <td>Aquaman</td>\n",
       "      <td>160000000</td>\n",
       "      <td>0</td>\n",
       "      <td>0</td>\n",
       "    </tr>\n",
       "    <tr>\n",
       "      <th>5388</th>\n",
       "      <td>96</td>\n",
       "      <td>12/31/2020</td>\n",
       "      <td>Singularity</td>\n",
       "      <td>175000000</td>\n",
       "      <td>0</td>\n",
       "      <td>0</td>\n",
       "    </tr>\n",
       "    <tr>\n",
       "      <th>5389</th>\n",
       "      <td>1119</td>\n",
       "      <td>12/31/2020</td>\n",
       "      <td>Hannibal the Conqueror</td>\n",
       "      <td>50000000</td>\n",
       "      <td>0</td>\n",
       "      <td>0</td>\n",
       "    </tr>\n",
       "    <tr>\n",
       "      <th>5390</th>\n",
       "      <td>2517</td>\n",
       "      <td>12/31/2020</td>\n",
       "      <td>Story of Bonnie and Clyde, The</td>\n",
       "      <td>20000000</td>\n",
       "      <td>0</td>\n",
       "      <td>0</td>\n",
       "    </tr>\n",
       "  </tbody>\n",
       "</table>\n",
       "<p>5391 rows × 6 columns</p>\n",
       "</div>"
      ],
      "text/plain": [
       "      Rank Release_Date                     Movie_Title USD_Production_Budget  \\\n",
       "0     5293     8/2/1915           The Birth of a Nation                110000   \n",
       "1     5140     5/9/1916                     Intolerance                385907   \n",
       "2     5230   12/24/1916    20,000 Leagues Under the Sea                200000   \n",
       "3     5299    9/17/1920  Over the Hill to the Poorhouse                100000   \n",
       "4     5222     1/1/1925                  The Big Parade                245000   \n",
       "...    ...          ...                             ...                   ...   \n",
       "5386  2950    10/8/2018                             Meg              15000000   \n",
       "5387   126   12/18/2018                         Aquaman             160000000   \n",
       "5388    96   12/31/2020                     Singularity             175000000   \n",
       "5389  1119   12/31/2020          Hannibal the Conqueror              50000000   \n",
       "5390  2517   12/31/2020  Story of Bonnie and Clyde, The              20000000   \n",
       "\n",
       "     USD_Worldwide_Gross USD_Domestic_Gross  \n",
       "0               11000000           10000000  \n",
       "1                      0                  0  \n",
       "2                8000000            8000000  \n",
       "3                3000000            3000000  \n",
       "4               22000000           11000000  \n",
       "...                  ...                ...  \n",
       "5386                   0                  0  \n",
       "5387                   0                  0  \n",
       "5388                   0                  0  \n",
       "5389                   0                  0  \n",
       "5390                   0                  0  \n",
       "\n",
       "[5391 rows x 6 columns]"
      ]
     },
     "execution_count": 33,
     "metadata": {},
     "output_type": "execute_result"
    }
   ],
   "source": [
    "for x in ['USD_Production_Budget', 'USD_Worldwide_Gross', 'USD_Domestic_Gross']:\n",
    "    #print(df[x])\n",
    "    l=[]\n",
    "    for y in df[x]:\n",
    "        l.append(y.replace('$','').replace(',',''))\n",
    "        #print(y)\n",
    "    print(l)\n",
    "    l=np.array(l)\n",
    "    print(l.shape)\n",
    "    df[x]=pd.Series(l)\n",
    "\n",
    "df\n",
    "    "
   ]
  },
  {
   "cell_type": "code",
   "execution_count": 35,
   "metadata": {},
   "outputs": [
    {
     "data": {
      "text/html": [
       "<div>\n",
       "<style scoped>\n",
       "    .dataframe tbody tr th:only-of-type {\n",
       "        vertical-align: middle;\n",
       "    }\n",
       "\n",
       "    .dataframe tbody tr th {\n",
       "        vertical-align: top;\n",
       "    }\n",
       "\n",
       "    .dataframe thead th {\n",
       "        text-align: right;\n",
       "    }\n",
       "</style>\n",
       "<table border=\"1\" class=\"dataframe\">\n",
       "  <thead>\n",
       "    <tr style=\"text-align: right;\">\n",
       "      <th></th>\n",
       "      <th>Rank</th>\n",
       "      <th>Release_Date</th>\n",
       "      <th>Movie_Title</th>\n",
       "      <th>USD_Production_Budget</th>\n",
       "      <th>USD_Worldwide_Gross</th>\n",
       "      <th>USD_Domestic_Gross</th>\n",
       "    </tr>\n",
       "  </thead>\n",
       "  <tbody>\n",
       "    <tr>\n",
       "      <th>0</th>\n",
       "      <td>5293</td>\n",
       "      <td>8/2/1915</td>\n",
       "      <td>The Birth of a Nation</td>\n",
       "      <td>110000</td>\n",
       "      <td>11000000</td>\n",
       "      <td>10000000</td>\n",
       "    </tr>\n",
       "    <tr>\n",
       "      <th>1</th>\n",
       "      <td>5140</td>\n",
       "      <td>5/9/1916</td>\n",
       "      <td>Intolerance</td>\n",
       "      <td>385907</td>\n",
       "      <td>0</td>\n",
       "      <td>0</td>\n",
       "    </tr>\n",
       "    <tr>\n",
       "      <th>2</th>\n",
       "      <td>5230</td>\n",
       "      <td>12/24/1916</td>\n",
       "      <td>20,000 Leagues Under the Sea</td>\n",
       "      <td>200000</td>\n",
       "      <td>8000000</td>\n",
       "      <td>8000000</td>\n",
       "    </tr>\n",
       "    <tr>\n",
       "      <th>3</th>\n",
       "      <td>5299</td>\n",
       "      <td>9/17/1920</td>\n",
       "      <td>Over the Hill to the Poorhouse</td>\n",
       "      <td>100000</td>\n",
       "      <td>3000000</td>\n",
       "      <td>3000000</td>\n",
       "    </tr>\n",
       "    <tr>\n",
       "      <th>4</th>\n",
       "      <td>5222</td>\n",
       "      <td>1/1/1925</td>\n",
       "      <td>The Big Parade</td>\n",
       "      <td>245000</td>\n",
       "      <td>22000000</td>\n",
       "      <td>11000000</td>\n",
       "    </tr>\n",
       "  </tbody>\n",
       "</table>\n",
       "</div>"
      ],
      "text/plain": [
       "   Rank Release_Date                     Movie_Title USD_Production_Budget  \\\n",
       "0  5293     8/2/1915           The Birth of a Nation                110000   \n",
       "1  5140     5/9/1916                     Intolerance                385907   \n",
       "2  5230   12/24/1916    20,000 Leagues Under the Sea                200000   \n",
       "3  5299    9/17/1920  Over the Hill to the Poorhouse                100000   \n",
       "4  5222     1/1/1925                  The Big Parade                245000   \n",
       "\n",
       "  USD_Worldwide_Gross USD_Domestic_Gross  \n",
       "0            11000000           10000000  \n",
       "1                   0                  0  \n",
       "2             8000000            8000000  \n",
       "3             3000000            3000000  \n",
       "4            22000000           11000000  "
      ]
     },
     "execution_count": 35,
     "metadata": {},
     "output_type": "execute_result"
    }
   ],
   "source": [
    "df.head(5)"
   ]
  },
  {
   "cell_type": "code",
   "execution_count": 36,
   "metadata": {},
   "outputs": [],
   "source": [
    "df[['USD_Production_Budget', 'USD_Worldwide_Gross', 'USD_Domestic_Gross']]=df[['USD_Production_Budget', 'USD_Worldwide_Gross', 'USD_Domestic_Gross']].astype(int)"
   ]
  },
  {
   "cell_type": "code",
   "execution_count": 37,
   "metadata": {},
   "outputs": [
    {
     "name": "stdout",
     "output_type": "stream",
     "text": [
      "<class 'pandas.core.frame.DataFrame'>\n",
      "RangeIndex: 5391 entries, 0 to 5390\n",
      "Data columns (total 6 columns):\n",
      " #   Column                 Non-Null Count  Dtype \n",
      "---  ------                 --------------  ----- \n",
      " 0   Rank                   5391 non-null   int64 \n",
      " 1   Release_Date           5391 non-null   object\n",
      " 2   Movie_Title            5391 non-null   object\n",
      " 3   USD_Production_Budget  5391 non-null   int64 \n",
      " 4   USD_Worldwide_Gross    5391 non-null   int64 \n",
      " 5   USD_Domestic_Gross     5391 non-null   int64 \n",
      "dtypes: int64(4), object(2)\n",
      "memory usage: 252.8+ KB\n"
     ]
    }
   ],
   "source": [
    "df.info()"
   ]
  },
  {
   "cell_type": "code",
   "execution_count": 38,
   "metadata": {},
   "outputs": [
    {
     "data": {
      "text/html": [
       "<div>\n",
       "<style scoped>\n",
       "    .dataframe tbody tr th:only-of-type {\n",
       "        vertical-align: middle;\n",
       "    }\n",
       "\n",
       "    .dataframe tbody tr th {\n",
       "        vertical-align: top;\n",
       "    }\n",
       "\n",
       "    .dataframe thead th {\n",
       "        text-align: right;\n",
       "    }\n",
       "</style>\n",
       "<table border=\"1\" class=\"dataframe\">\n",
       "  <thead>\n",
       "    <tr style=\"text-align: right;\">\n",
       "      <th></th>\n",
       "      <th>Rank</th>\n",
       "      <th>Release_Date</th>\n",
       "      <th>Movie_Title</th>\n",
       "      <th>USD_Production_Budget</th>\n",
       "      <th>USD_Worldwide_Gross</th>\n",
       "      <th>USD_Domestic_Gross</th>\n",
       "    </tr>\n",
       "  </thead>\n",
       "  <tbody>\n",
       "    <tr>\n",
       "      <th>0</th>\n",
       "      <td>5293</td>\n",
       "      <td>8/2/1915</td>\n",
       "      <td>The Birth of a Nation</td>\n",
       "      <td>110000</td>\n",
       "      <td>11000000</td>\n",
       "      <td>10000000</td>\n",
       "    </tr>\n",
       "    <tr>\n",
       "      <th>1</th>\n",
       "      <td>5140</td>\n",
       "      <td>5/9/1916</td>\n",
       "      <td>Intolerance</td>\n",
       "      <td>385907</td>\n",
       "      <td>0</td>\n",
       "      <td>0</td>\n",
       "    </tr>\n",
       "    <tr>\n",
       "      <th>2</th>\n",
       "      <td>5230</td>\n",
       "      <td>12/24/1916</td>\n",
       "      <td>20,000 Leagues Under the Sea</td>\n",
       "      <td>200000</td>\n",
       "      <td>8000000</td>\n",
       "      <td>8000000</td>\n",
       "    </tr>\n",
       "    <tr>\n",
       "      <th>3</th>\n",
       "      <td>5299</td>\n",
       "      <td>9/17/1920</td>\n",
       "      <td>Over the Hill to the Poorhouse</td>\n",
       "      <td>100000</td>\n",
       "      <td>3000000</td>\n",
       "      <td>3000000</td>\n",
       "    </tr>\n",
       "    <tr>\n",
       "      <th>4</th>\n",
       "      <td>5222</td>\n",
       "      <td>1/1/1925</td>\n",
       "      <td>The Big Parade</td>\n",
       "      <td>245000</td>\n",
       "      <td>22000000</td>\n",
       "      <td>11000000</td>\n",
       "    </tr>\n",
       "  </tbody>\n",
       "</table>\n",
       "</div>"
      ],
      "text/plain": [
       "   Rank Release_Date                     Movie_Title  USD_Production_Budget  \\\n",
       "0  5293     8/2/1915           The Birth of a Nation                 110000   \n",
       "1  5140     5/9/1916                     Intolerance                 385907   \n",
       "2  5230   12/24/1916    20,000 Leagues Under the Sea                 200000   \n",
       "3  5299    9/17/1920  Over the Hill to the Poorhouse                 100000   \n",
       "4  5222     1/1/1925                  The Big Parade                 245000   \n",
       "\n",
       "   USD_Worldwide_Gross  USD_Domestic_Gross  \n",
       "0             11000000            10000000  \n",
       "1                    0                   0  \n",
       "2              8000000             8000000  \n",
       "3              3000000             3000000  \n",
       "4             22000000            11000000  "
      ]
     },
     "execution_count": 38,
     "metadata": {},
     "output_type": "execute_result"
    }
   ],
   "source": [
    "df.head()"
   ]
  },
  {
   "cell_type": "code",
   "execution_count": 40,
   "metadata": {},
   "outputs": [],
   "source": [
    "df['Release_Date'] = pd.to_datetime(df['Release_Date'])"
   ]
  },
  {
   "cell_type": "code",
   "execution_count": 41,
   "metadata": {},
   "outputs": [
    {
     "name": "stdout",
     "output_type": "stream",
     "text": [
      "<class 'pandas.core.frame.DataFrame'>\n",
      "RangeIndex: 5391 entries, 0 to 5390\n",
      "Data columns (total 6 columns):\n",
      " #   Column                 Non-Null Count  Dtype         \n",
      "---  ------                 --------------  -----         \n",
      " 0   Rank                   5391 non-null   int64         \n",
      " 1   Release_Date           5391 non-null   datetime64[ns]\n",
      " 2   Movie_Title            5391 non-null   object        \n",
      " 3   USD_Production_Budget  5391 non-null   int64         \n",
      " 4   USD_Worldwide_Gross    5391 non-null   int64         \n",
      " 5   USD_Domestic_Gross     5391 non-null   int64         \n",
      "dtypes: datetime64[ns](1), int64(4), object(1)\n",
      "memory usage: 252.8+ KB\n"
     ]
    }
   ],
   "source": [
    "df.info()"
   ]
  },
  {
   "cell_type": "code",
   "execution_count": null,
   "metadata": {},
   "outputs": [],
   "source": []
  }
 ],
 "metadata": {
  "kernelspec": {
   "display_name": "base",
   "language": "python",
   "name": "python3"
  },
  "language_info": {
   "codemirror_mode": {
    "name": "ipython",
    "version": 3
   },
   "file_extension": ".py",
   "mimetype": "text/x-python",
   "name": "python",
   "nbconvert_exporter": "python",
   "pygments_lexer": "ipython3",
   "version": "3.8.5"
  }
 },
 "nbformat": 4,
 "nbformat_minor": 2
}
